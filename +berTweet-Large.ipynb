{
 "cells": [
  {
   "cell_type": "code",
   "execution_count": 1,
   "id": "c6975d7f",
   "metadata": {
    "execution": {
     "iopub.execute_input": "2023-10-13T21:47:26.047905Z",
     "iopub.status.busy": "2023-10-13T21:47:26.047536Z",
     "iopub.status.idle": "2023-10-13T21:47:43.622359Z",
     "shell.execute_reply": "2023-10-13T21:47:43.621228Z"
    },
    "id": "-qnymCjMVUvY",
    "outputId": "0e7c8d35-e0f6-402d-8672-803d9014d40e",
    "papermill": {
     "duration": 17.582484,
     "end_time": "2023-10-13T21:47:43.624558",
     "exception": false,
     "start_time": "2023-10-13T21:47:26.042074",
     "status": "completed"
    },
    "tags": []
   },
   "outputs": [
    {
     "name": "stdout",
     "output_type": "stream",
     "text": [
      "Requirement already satisfied: transformers in /opt/conda/lib/python3.10/site-packages (4.33.0)\r\n",
      "Requirement already satisfied: filelock in /opt/conda/lib/python3.10/site-packages (from transformers) (3.12.2)\r\n",
      "Requirement already satisfied: huggingface-hub<1.0,>=0.15.1 in /opt/conda/lib/python3.10/site-packages (from transformers) (0.16.4)\r\n",
      "Requirement already satisfied: numpy>=1.17 in /opt/conda/lib/python3.10/site-packages (from transformers) (1.23.5)\r\n",
      "Requirement already satisfied: packaging>=20.0 in /opt/conda/lib/python3.10/site-packages (from transformers) (21.3)\r\n",
      "Requirement already satisfied: pyyaml>=5.1 in /opt/conda/lib/python3.10/site-packages (from transformers) (6.0)\r\n",
      "Requirement already satisfied: regex!=2019.12.17 in /opt/conda/lib/python3.10/site-packages (from transformers) (2023.6.3)\r\n",
      "Requirement already satisfied: requests in /opt/conda/lib/python3.10/site-packages (from transformers) (2.31.0)\r\n",
      "Requirement already satisfied: tokenizers!=0.11.3,<0.14,>=0.11.1 in /opt/conda/lib/python3.10/site-packages (from transformers) (0.13.3)\r\n",
      "Requirement already satisfied: safetensors>=0.3.1 in /opt/conda/lib/python3.10/site-packages (from transformers) (0.3.3)\r\n",
      "Requirement already satisfied: tqdm>=4.27 in /opt/conda/lib/python3.10/site-packages (from transformers) (4.66.1)\r\n",
      "Requirement already satisfied: fsspec in /opt/conda/lib/python3.10/site-packages (from huggingface-hub<1.0,>=0.15.1->transformers) (2023.9.0)\r\n",
      "Requirement already satisfied: typing-extensions>=3.7.4.3 in /opt/conda/lib/python3.10/site-packages (from huggingface-hub<1.0,>=0.15.1->transformers) (4.6.3)\r\n",
      "Requirement already satisfied: pyparsing!=3.0.5,>=2.0.2 in /opt/conda/lib/python3.10/site-packages (from packaging>=20.0->transformers) (3.0.9)\r\n",
      "Requirement already satisfied: charset-normalizer<4,>=2 in /opt/conda/lib/python3.10/site-packages (from requests->transformers) (3.1.0)\r\n",
      "Requirement already satisfied: idna<4,>=2.5 in /opt/conda/lib/python3.10/site-packages (from requests->transformers) (3.4)\r\n",
      "Requirement already satisfied: urllib3<3,>=1.21.1 in /opt/conda/lib/python3.10/site-packages (from requests->transformers) (1.26.15)\r\n",
      "Requirement already satisfied: certifi>=2017.4.17 in /opt/conda/lib/python3.10/site-packages (from requests->transformers) (2023.7.22)\r\n",
      "Collecting adabound\r\n",
      "  Downloading adabound-0.0.5-py3-none-any.whl (5.1 kB)\r\n",
      "Requirement already satisfied: torch>=0.4.0 in /opt/conda/lib/python3.10/site-packages (from adabound) (2.0.0)\r\n",
      "Requirement already satisfied: filelock in /opt/conda/lib/python3.10/site-packages (from torch>=0.4.0->adabound) (3.12.2)\r\n",
      "Requirement already satisfied: typing-extensions in /opt/conda/lib/python3.10/site-packages (from torch>=0.4.0->adabound) (4.6.3)\r\n",
      "Requirement already satisfied: sympy in /opt/conda/lib/python3.10/site-packages (from torch>=0.4.0->adabound) (1.12)\r\n",
      "Requirement already satisfied: networkx in /opt/conda/lib/python3.10/site-packages (from torch>=0.4.0->adabound) (3.1)\r\n",
      "Requirement already satisfied: jinja2 in /opt/conda/lib/python3.10/site-packages (from torch>=0.4.0->adabound) (3.1.2)\r\n",
      "Requirement already satisfied: MarkupSafe>=2.0 in /opt/conda/lib/python3.10/site-packages (from jinja2->torch>=0.4.0->adabound) (2.1.3)\r\n",
      "Requirement already satisfied: mpmath>=0.19 in /opt/conda/lib/python3.10/site-packages (from sympy->torch>=0.4.0->adabound) (1.3.0)\r\n",
      "Installing collected packages: adabound\r\n",
      "Successfully installed adabound-0.0.5\r\n"
     ]
    }
   ],
   "source": [
    "!pip install transformers\n",
    "!pip install adabound"
   ]
  },
  {
   "cell_type": "code",
   "execution_count": 2,
   "id": "fee2d6b7",
   "metadata": {
    "execution": {
     "iopub.execute_input": "2023-10-13T21:47:43.634119Z",
     "iopub.status.busy": "2023-10-13T21:47:43.633828Z",
     "iopub.status.idle": "2023-10-13T21:47:52.437578Z",
     "shell.execute_reply": "2023-10-13T21:47:52.436473Z"
    },
    "papermill": {
     "duration": 8.811049,
     "end_time": "2023-10-13T21:47:52.439892",
     "exception": false,
     "start_time": "2023-10-13T21:47:43.628843",
     "status": "completed"
    },
    "tags": []
   },
   "outputs": [
    {
     "name": "stdout",
     "output_type": "stream",
     "text": [
      "Collecting torchsummary\r\n",
      "  Downloading torchsummary-1.5.1-py3-none-any.whl (2.8 kB)\r\n",
      "Installing collected packages: torchsummary\r\n",
      "Successfully installed torchsummary-1.5.1\r\n"
     ]
    }
   ],
   "source": [
    "# if running on kaggle notebook\n",
    "!pip install torchsummary"
   ]
  },
  {
   "cell_type": "code",
   "execution_count": 3,
   "id": "1de94b37",
   "metadata": {
    "execution": {
     "iopub.execute_input": "2023-10-13T21:47:52.449907Z",
     "iopub.status.busy": "2023-10-13T21:47:52.449608Z",
     "iopub.status.idle": "2023-10-13T21:48:04.863972Z",
     "shell.execute_reply": "2023-10-13T21:48:04.863014Z"
    },
    "id": "-dtlpAn2X2ru",
    "papermill": {
     "duration": 12.421892,
     "end_time": "2023-10-13T21:48:04.866127",
     "exception": false,
     "start_time": "2023-10-13T21:47:52.444235",
     "status": "completed"
    },
    "tags": []
   },
   "outputs": [
    {
     "name": "stderr",
     "output_type": "stream",
     "text": [
      "/opt/conda/lib/python3.10/site-packages/scipy/__init__.py:146: UserWarning: A NumPy version >=1.16.5 and <1.23.0 is required for this version of SciPy (detected version 1.23.5\n",
      "  warnings.warn(f\"A NumPy version >={np_minversion} and <{np_maxversion}\"\n"
     ]
    }
   ],
   "source": [
    "import pandas as pd\n",
    "import numpy as np\n",
    "import transformers\n",
    "import torch\n",
    "import torch.nn as nn\n",
    "from torch.utils.data import Dataset,sampler\n",
    "from torch.utils.data import DataLoader\n",
    "import torch.optim as optim\n",
    "import torch.nn.functional as F\n",
    "from torchsummary import summary\n",
    "from tqdm import tqdm\n",
    "from sklearn.metrics import f1_score, accuracy_score\n",
    "from sklearn.utils.class_weight import compute_class_weight\n",
    "from adabound import AdaBound\n",
    "import tensorflow as tf"
   ]
  },
  {
   "cell_type": "code",
   "execution_count": 4,
   "id": "09d7f849",
   "metadata": {
    "execution": {
     "iopub.execute_input": "2023-10-13T21:48:04.876147Z",
     "iopub.status.busy": "2023-10-13T21:48:04.875602Z",
     "iopub.status.idle": "2023-10-13T21:48:05.086225Z",
     "shell.execute_reply": "2023-10-13T21:48:05.085168Z"
    },
    "id": "xXtCAoAYEAJz",
    "papermill": {
     "duration": 0.217445,
     "end_time": "2023-10-13T21:48:05.088016",
     "exception": false,
     "start_time": "2023-10-13T21:48:04.870571",
     "status": "completed"
    },
    "tags": []
   },
   "outputs": [],
   "source": [
    "# free colab's GPU\n",
    "import gc\n",
    "\n",
    "gc.collect()\n",
    "\n",
    "torch.cuda.empty_cache()"
   ]
  },
  {
   "cell_type": "markdown",
   "id": "296e360b",
   "metadata": {
    "id": "0u3MVYGjax2Z",
    "papermill": {
     "duration": 0.003933,
     "end_time": "2023-10-13T21:48:05.096231",
     "exception": false,
     "start_time": "2023-10-13T21:48:05.092298",
     "status": "completed"
    },
    "tags": []
   },
   "source": [
    "# Hyperparametrs:"
   ]
  },
  {
   "cell_type": "code",
   "execution_count": 5,
   "id": "16fa5529",
   "metadata": {
    "execution": {
     "iopub.execute_input": "2023-10-13T21:48:05.105717Z",
     "iopub.status.busy": "2023-10-13T21:48:05.105080Z",
     "iopub.status.idle": "2023-10-13T21:48:05.110277Z",
     "shell.execute_reply": "2023-10-13T21:48:05.109482Z"
    },
    "id": "6NYMgbvna19K",
    "papermill": {
     "duration": 0.011652,
     "end_time": "2023-10-13T21:48:05.111925",
     "exception": false,
     "start_time": "2023-10-13T21:48:05.100273",
     "status": "completed"
    },
    "tags": []
   },
   "outputs": [],
   "source": [
    "max_length = 128\n",
    "num_classes =2\n",
    "batch_size = 32\n",
    "epochs = 30\n",
    "patience = 3\n",
    "lr = 4e-5\n",
    "train_size = 0.8\n",
    "model_version = 'vinai/bertweet-large'\n",
    "output_vector = 768 if model_version in ['roberta-base', 'bert-base'] else (1024 if model_version in ['roberta-large','vinai/bertweet-large'] else 0) # for bert-base and roberta-base and 1024 for roberta-large\n"
   ]
  },
  {
   "cell_type": "code",
   "execution_count": 6,
   "id": "2f4e82ae",
   "metadata": {
    "execution": {
     "iopub.execute_input": "2023-10-13T21:48:05.121047Z",
     "iopub.status.busy": "2023-10-13T21:48:05.120497Z",
     "iopub.status.idle": "2023-10-13T21:48:05.127010Z",
     "shell.execute_reply": "2023-10-13T21:48:05.126065Z"
    },
    "papermill": {
     "duration": 0.012777,
     "end_time": "2023-10-13T21:48:05.128629",
     "exception": false,
     "start_time": "2023-10-13T21:48:05.115852",
     "status": "completed"
    },
    "tags": []
   },
   "outputs": [
    {
     "data": {
      "text/plain": [
       "1024"
      ]
     },
     "execution_count": 6,
     "metadata": {},
     "output_type": "execute_result"
    }
   ],
   "source": [
    "output_vector"
   ]
  },
  {
   "cell_type": "markdown",
   "id": "796a96ba",
   "metadata": {
    "id": "Om0r4LoqYLLA",
    "papermill": {
     "duration": 0.003798,
     "end_time": "2023-10-13T21:48:05.136338",
     "exception": false,
     "start_time": "2023-10-13T21:48:05.132540",
     "status": "completed"
    },
    "tags": []
   },
   "source": [
    "## Dataset Preparation"
   ]
  },
  {
   "cell_type": "code",
   "execution_count": 7,
   "id": "4ce23954",
   "metadata": {
    "execution": {
     "iopub.execute_input": "2023-10-13T21:48:05.145537Z",
     "iopub.status.busy": "2023-10-13T21:48:05.145310Z",
     "iopub.status.idle": "2023-10-13T21:48:07.490649Z",
     "shell.execute_reply": "2023-10-13T21:48:07.489655Z"
    },
    "id": "acsL4AqrYOZm",
    "papermill": {
     "duration": 2.352565,
     "end_time": "2023-10-13T21:48:07.492946",
     "exception": false,
     "start_time": "2023-10-13T21:48:05.140381",
     "status": "completed"
    },
    "tags": []
   },
   "outputs": [
    {
     "data": {
      "application/vnd.jupyter.widget-view+json": {
       "model_id": "a74e0bec540c4756920ab2a1cf37da2a",
       "version_major": 2,
       "version_minor": 0
      },
      "text/plain": [
       "Downloading (…)lve/main/config.json:   0%|          | 0.00/614 [00:00<?, ?B/s]"
      ]
     },
     "metadata": {},
     "output_type": "display_data"
    },
    {
     "data": {
      "application/vnd.jupyter.widget-view+json": {
       "model_id": "718981d2c9a242bcabe753419d4d5bf6",
       "version_major": 2,
       "version_minor": 0
      },
      "text/plain": [
       "Downloading (…)olve/main/vocab.json:   0%|          | 0.00/899k [00:00<?, ?B/s]"
      ]
     },
     "metadata": {},
     "output_type": "display_data"
    },
    {
     "data": {
      "application/vnd.jupyter.widget-view+json": {
       "model_id": "165f67be30374b22a7605726e155a393",
       "version_major": 2,
       "version_minor": 0
      },
      "text/plain": [
       "Downloading (…)olve/main/merges.txt:   0%|          | 0.00/456k [00:00<?, ?B/s]"
      ]
     },
     "metadata": {},
     "output_type": "display_data"
    },
    {
     "data": {
      "application/vnd.jupyter.widget-view+json": {
       "model_id": "3766a63435784d3eb983d6e9ca247a56",
       "version_major": 2,
       "version_minor": 0
      },
      "text/plain": [
       "Downloading (…)/main/tokenizer.json:   0%|          | 0.00/1.36M [00:00<?, ?B/s]"
      ]
     },
     "metadata": {},
     "output_type": "display_data"
    }
   ],
   "source": [
    "class HQP(Dataset):\n",
    "    def __init__(self, tokenizer,max_length):\n",
    "        super(HQP, self).__init__()\n",
    "        self.train_csv=pd.read_csv('/kaggle/input/hqp-dataset/df_tweets_HiQualProp.csv')\n",
    "        self.tokenizer=tokenizer\n",
    "        self.target=self.train_csv.iloc[:,2]\n",
    "        self.max_length=max_length\n",
    "\n",
    "    def __len__(self):\n",
    "        return len(self.train_csv)\n",
    "\n",
    "    def __getitem__(self, index):\n",
    "\n",
    "        text1 = self.train_csv.iloc[index,9] # normalized_text\n",
    "\n",
    "        inputs = self.tokenizer.encode_plus(\n",
    "            text1 ,\n",
    "            None,\n",
    "            truncation=True,\n",
    "            add_special_tokens=True,\n",
    "            return_attention_mask=True,\n",
    "            max_length=self.max_length,\n",
    "\n",
    "            padding='max_length',\n",
    "        )\n",
    "        ids = inputs[\"input_ids\"]\n",
    "        #token_type_ids = inputs[\"token_type_ids\"]\n",
    "        mask = inputs[\"attention_mask\"]\n",
    "\n",
    "        return {\n",
    "            'ids': torch.tensor(ids, dtype=torch.long),\n",
    "            'mask': torch.tensor(mask, dtype=torch.long),\n",
    "            #'token_type_ids': torch.tensor(token_type_ids, dtype=torch.long),\n",
    "            'target': torch.tensor(self.target[index], dtype=torch.long)\n",
    "            }\n",
    "tokenizer = transformers.AutoTokenizer.from_pretrained(model_version)\n",
    "\n",
    "dataset= HQP(tokenizer, max_length=max_length)\n",
    "a = int(len(dataset)*train_size)\n",
    "train_data, test_data = torch.utils.data.random_split(dataset, [a, len(dataset)-a])\n",
    "\n",
    "train_dataloader=DataLoader(dataset=train_data,batch_size=batch_size)\n",
    "test_dataloader=DataLoader(dataset=test_data,batch_size=batch_size)\n"
   ]
  },
  {
   "cell_type": "code",
   "execution_count": 8,
   "id": "d8e04be4",
   "metadata": {
    "execution": {
     "iopub.execute_input": "2023-10-13T21:48:07.504086Z",
     "iopub.status.busy": "2023-10-13T21:48:07.503799Z",
     "iopub.status.idle": "2023-10-13T21:48:07.507497Z",
     "shell.execute_reply": "2023-10-13T21:48:07.506553Z"
    },
    "papermill": {
     "duration": 0.01106,
     "end_time": "2023-10-13T21:48:07.509268",
     "exception": false,
     "start_time": "2023-10-13T21:48:07.498208",
     "status": "completed"
    },
    "tags": []
   },
   "outputs": [],
   "source": [
    "#for x in train_dataloader:\n",
    "#    print(x)\n",
    "#    break"
   ]
  },
  {
   "cell_type": "markdown",
   "id": "56ad85c0",
   "metadata": {
    "id": "KEZ-OF2Nd7nD",
    "papermill": {
     "duration": 0.004304,
     "end_time": "2023-10-13T21:48:07.518103",
     "exception": false,
     "start_time": "2023-10-13T21:48:07.513799",
     "status": "completed"
    },
    "tags": []
   },
   "source": [
    "# Pre-Trained Models"
   ]
  },
  {
   "cell_type": "code",
   "execution_count": 9,
   "id": "36a21e99",
   "metadata": {
    "execution": {
     "iopub.execute_input": "2023-10-13T21:48:07.528005Z",
     "iopub.status.busy": "2023-10-13T21:48:07.527727Z",
     "iopub.status.idle": "2023-10-13T21:48:25.558578Z",
     "shell.execute_reply": "2023-10-13T21:48:25.557522Z"
    },
    "id": "Lp4geahRc89G",
    "papermill": {
     "duration": 18.038168,
     "end_time": "2023-10-13T21:48:25.560690",
     "exception": false,
     "start_time": "2023-10-13T21:48:07.522522",
     "status": "completed"
    },
    "tags": []
   },
   "outputs": [
    {
     "data": {
      "application/vnd.jupyter.widget-view+json": {
       "model_id": "0aeb306d45674fd69746cf574f2c019e",
       "version_major": 2,
       "version_minor": 0
      },
      "text/plain": [
       "Downloading pytorch_model.bin:   0%|          | 0.00/1.42G [00:00<?, ?B/s]"
      ]
     },
     "metadata": {},
     "output_type": "display_data"
    },
    {
     "name": "stderr",
     "output_type": "stream",
     "text": [
      "Some weights of RobertaModel were not initialized from the model checkpoint at vinai/bertweet-large and are newly initialized: ['roberta.pooler.dense.bias', 'roberta.pooler.dense.weight']\n",
      "You should probably TRAIN this model on a down-stream task to be able to use it for predictions and inference.\n"
     ]
    }
   ],
   "source": [
    "class ClassifierModel(nn.Module):\n",
    "    def __init__(self):\n",
    "        super(ClassifierModel, self).__init__()\n",
    "        self.model = transformers.AutoModel.from_pretrained(model_version)\n",
    "        self.out = nn.Linear(output_vector, 1)\n",
    "\n",
    "    def forward(self,ids,mask):\n",
    "        c,o2= self.model(ids,attention_mask=mask, return_dict=False)\n",
    "        out= self.out(o2)\n",
    "\n",
    "        return out\n",
    "\n",
    "model=ClassifierModel()\n",
    "model.to(\"cuda\")\n",
    "\n",
    "\n",
    "\n",
    "#weights = compute_class_weight(class_weight='balanced', classes=[0,1], y=dataset.target)\n",
    "#weights = torch.Tensor(weights)\n",
    "#weights = weights.to('cuda')\n",
    "weights = torch.Tensor([6]).to('cuda')\n",
    "\n",
    "\n",
    "loss_fn = nn.BCEWithLogitsLoss(pos_weight=weights)\n",
    "\n",
    "#Initialize Optimizer\n",
    "optimizer= optim.AdamW(model.parameters(),lr= lr)\n",
    "#optimizer = AdaBound(model.parameters(), lr=1e-5, final_lr=0.001)\n"
   ]
  },
  {
   "cell_type": "code",
   "execution_count": 10,
   "id": "f4df217f",
   "metadata": {
    "execution": {
     "iopub.execute_input": "2023-10-13T21:48:25.572716Z",
     "iopub.status.busy": "2023-10-13T21:48:25.572231Z",
     "iopub.status.idle": "2023-10-13T21:48:25.578382Z",
     "shell.execute_reply": "2023-10-13T21:48:25.577516Z"
    },
    "papermill": {
     "duration": 0.013933,
     "end_time": "2023-10-13T21:48:25.580124",
     "exception": false,
     "start_time": "2023-10-13T21:48:25.566191",
     "status": "completed"
    },
    "tags": []
   },
   "outputs": [],
   "source": [
    "# Identify the parameters of the first 16 layers to freez\n",
    "for name, param in model.named_parameters():\n",
    "    # Identify the layers you want to freeze (adjust the condition as needed)\n",
    "    if \"model.encoder.layer\" in name and int(name.split(\".\")[3]) < 16:\n",
    "        param.requires_grad = False\n"
   ]
  },
  {
   "cell_type": "code",
   "execution_count": 11,
   "id": "d7aa10e3",
   "metadata": {
    "execution": {
     "iopub.execute_input": "2023-10-13T21:48:25.591245Z",
     "iopub.status.busy": "2023-10-13T21:48:25.590975Z",
     "iopub.status.idle": "2023-10-13T21:48:25.669780Z",
     "shell.execute_reply": "2023-10-13T21:48:25.668836Z"
    },
    "id": "_T18P84odTQF",
    "outputId": "87bf5867-2fe8-4ec3-90b2-da55a5841bcb",
    "papermill": {
     "duration": 0.08667,
     "end_time": "2023-10-13T21:48:25.671761",
     "exception": false,
     "start_time": "2023-10-13T21:48:25.585091",
     "status": "completed"
    },
    "tags": []
   },
   "outputs": [
    {
     "data": {
      "text/plain": [
       "5.527569475077194"
      ]
     },
     "execution_count": 11,
     "metadata": {},
     "output_type": "execute_result"
    }
   ],
   "source": [
    "# propaganda size \n",
    "train_data.dataset.target.value_counts()[0]/train_data.dataset.target.value_counts()[1]"
   ]
  },
  {
   "cell_type": "code",
   "execution_count": 12,
   "id": "dc5de771",
   "metadata": {
    "execution": {
     "iopub.execute_input": "2023-10-13T21:48:25.683324Z",
     "iopub.status.busy": "2023-10-13T21:48:25.682488Z",
     "iopub.status.idle": "2023-10-13T21:48:25.686818Z",
     "shell.execute_reply": "2023-10-13T21:48:25.686005Z"
    },
    "id": "df3da75gV7OT",
    "papermill": {
     "duration": 0.011618,
     "end_time": "2023-10-13T21:48:25.688494",
     "exception": false,
     "start_time": "2023-10-13T21:48:25.676876",
     "status": "completed"
    },
    "tags": []
   },
   "outputs": [],
   "source": [
    "#def calculate_pos_weights(class_counts):\n",
    "#  pos_weights = np.ones_like(class_counts)\n",
    "#  neg_counts = [len(data)-pos_count for pos_count in class_counts]\n",
    "#  for cdx, pos_count, neg_count in enumerate(zip(class_counts,  neg_counts)):\n",
    "#    pos_weights[cdx] = neg_count / (pos_count + 1e-5)\n",
    "\n",
    "#  return torch.as_tensor(pos_weights, dtype=torch.float)\n"
   ]
  },
  {
   "cell_type": "code",
   "execution_count": 13,
   "id": "bc468328",
   "metadata": {
    "execution": {
     "iopub.execute_input": "2023-10-13T21:48:25.699756Z",
     "iopub.status.busy": "2023-10-13T21:48:25.699041Z",
     "iopub.status.idle": "2023-10-13T21:48:25.707320Z",
     "shell.execute_reply": "2023-10-13T21:48:25.706501Z"
    },
    "id": "61xI_lxpfXeB",
    "papermill": {
     "duration": 0.015886,
     "end_time": "2023-10-13T21:48:25.709047",
     "exception": false,
     "start_time": "2023-10-13T21:48:25.693161",
     "status": "completed"
    },
    "tags": []
   },
   "outputs": [],
   "source": [
    "def validate (model=model, test_dataloader = test_dataloader):\n",
    "  # Set model to eval mode\n",
    "  model.eval()\n",
    "  accuracy=0\n",
    "  f1 = 0\n",
    "  labelss = torch.Tensor()\n",
    "  predss = torch.Tensor()\n",
    "  for i,batch in enumerate(test_dataloader):\n",
    "    # Forward pass\n",
    "    with torch.no_grad():\n",
    "        ids = batch['ids'].to(\"cuda\")\n",
    "        mask = batch['mask'].to(\"cuda\")\n",
    "        #token_type = batch['token_type_ids'].to(\"cuda\")\n",
    "        labels = batch['target'].unsqueeze(1)\n",
    "        labelss = torch.cat((labelss,labels), dim=0)\n",
    "\n",
    "        outputs = model(ids,mask)\n",
    "        siga = nn.Sigmoid()\n",
    "        cc = siga(outputs)\n",
    "        preds = np.where(cc.cpu().data.numpy() >= 0.5, 1, 0)\n",
    "        predss =torch.cat((predss,torch.tensor(preds)), dim=0)\n",
    "\n",
    "        num_correct = sum(1 for a, b in zip(preds, labels) if a[0] == b[0])\n",
    "        num_samples = preds.shape[0]\n",
    "        accuracy += num_correct/num_samples\n",
    "\n",
    "        #print(f'Training accuracy in batch {i+1} {float(num_correct)/float(num_samples)*100:.2f}')\n",
    "  model.train()\n",
    "  accuracy = float(accuracy)/float(i+1)\n",
    "  #print(f'Accuracy {float(accuracy)/float(i+1)*100:.2f}')\n",
    "  f1 = f1_score(labelss.flatten().numpy(), predss.flatten().numpy())\n",
    "  #print(f'F1-score {f1*100:.2f}')\n",
    "  return accuracy,f1\n"
   ]
  },
  {
   "cell_type": "code",
   "execution_count": 14,
   "id": "525fd79a",
   "metadata": {
    "execution": {
     "iopub.execute_input": "2023-10-13T21:48:25.719895Z",
     "iopub.status.busy": "2023-10-13T21:48:25.719646Z",
     "iopub.status.idle": "2023-10-13T21:48:25.727755Z",
     "shell.execute_reply": "2023-10-13T21:48:25.726831Z"
    },
    "id": "NzjvT7PTmWzy",
    "papermill": {
     "duration": 0.016036,
     "end_time": "2023-10-13T21:48:25.729720",
     "exception": false,
     "start_time": "2023-10-13T21:48:25.713684",
     "status": "completed"
    },
    "tags": []
   },
   "outputs": [],
   "source": [
    "def finetune(epochs, dataloader, model, loss_fn, optimizer, early_stopping_patience):\n",
    "    model.train()\n",
    "    best_test_acc = 0.0\n",
    "    best_epoch = 0\n",
    "    no_improvement_count = 0\n",
    "\n",
    "    for epoch in range(epochs):\n",
    "        preds = np.array([])\n",
    "        labels = np.array([])\n",
    "        loop = tqdm(enumerate(dataloader), leave=False, total=len(dataloader))\n",
    "        for batch, dl in loop:\n",
    "            ids = dl['ids'].to(\"cuda\")\n",
    "            #token_type_ids = dl['token_type_ids'].to(\"cuda\")\n",
    "            mask = dl['mask'].to(\"cuda\")\n",
    "            label = dl['target'].unsqueeze(1).to(\"cuda\")\n",
    "\n",
    "\n",
    "            optimizer.zero_grad()\n",
    "\n",
    "            output = model(\n",
    "                ids=ids,\n",
    "                mask=mask,\n",
    "                )\n",
    "            label = label.type_as(output)\n",
    "            loss = loss_fn(output, label)\n",
    "\n",
    "            loss.backward()\n",
    "\n",
    "            optimizer.step()\n",
    "\n",
    "            # Move output to CPU and convert to NumPy\n",
    "            output_cpu = output.cpu().detach().numpy()\n",
    "            sig = nn.Sigmoid()\n",
    "            x = sig(output)\n",
    "            pred = np.where( x.cpu().detach().numpy()>= 0.4, 1, 0)\n",
    "            preds = np.append(preds,pred)\n",
    "            labels = np.append(labels,label.cpu())\n",
    "\n",
    "\n",
    "        preds = preds.flatten()\n",
    "        labels = labels.flatten()\n",
    "        test_acc, test_f1 = validate(model=model,test_dataloader = test_dataloader)\n",
    "        print(f'{epoch} epoch | Train Accuracy = {accuracy_score(labels,preds)} | Train F1_score = {f1_score(labels,preds)} | Test Accuracy = {test_acc} | Test F1_score ={test_f1} ')\n",
    "        if test_f1 > best_test_acc:\n",
    "            best_test_acc = test_f1\n",
    "            best_epoch = epoch\n",
    "            no_improvement_count = 0\n",
    "        else:\n",
    "            no_improvement_count += 1\n",
    "\n",
    "        if no_improvement_count >= early_stopping_patience:\n",
    "            print(f'No improvement for {early_stopping_patience} epochs. Early stopping.')\n",
    "            break\n",
    "\n",
    "    print(f'Best test accuracy of {best_test_acc} achieved at epoch {best_epoch}')\n",
    "\n",
    "    return model\n"
   ]
  },
  {
   "cell_type": "code",
   "execution_count": 15,
   "id": "b1367885",
   "metadata": {
    "execution": {
     "iopub.execute_input": "2023-10-13T21:48:25.740828Z",
     "iopub.status.busy": "2023-10-13T21:48:25.740276Z",
     "iopub.status.idle": "2023-10-13T23:33:43.464614Z",
     "shell.execute_reply": "2023-10-13T23:33:43.463681Z"
    },
    "id": "QJanY5TRm3Bt",
    "outputId": "194c073e-82aa-4d5c-d9f0-94208456fb2c",
    "papermill": {
     "duration": 6317.992306,
     "end_time": "2023-10-13T23:33:43.726836",
     "exception": false,
     "start_time": "2023-10-13T21:48:25.734530",
     "status": "completed"
    },
    "tags": []
   },
   "outputs": [
    {
     "name": "stderr",
     "output_type": "stream",
     "text": [
      "                                                 \r"
     ]
    },
    {
     "name": "stdout",
     "output_type": "stream",
     "text": [
      "0 epoch | Train Accuracy = 0.719378273356986 | Train F1_score = 0.48408137909613297 | Test Accuracy = 0.8692567567567567 | Test F1_score =0.6599297012302284 \n"
     ]
    },
    {
     "name": "stderr",
     "output_type": "stream",
     "text": [
      "                                                 \r"
     ]
    },
    {
     "name": "stdout",
     "output_type": "stream",
     "text": [
      "1 epoch | Train Accuracy = 0.8198175367460719 | Train F1_score = 0.6019779809665983 | Test Accuracy = 0.8842905405405406 | Test F1_score =0.6870717222476017 \n"
     ]
    },
    {
     "name": "stderr",
     "output_type": "stream",
     "text": [
      "                                                 \r"
     ]
    },
    {
     "name": "stdout",
     "output_type": "stream",
     "text": [
      "2 epoch | Train Accuracy = 0.8516218955904714 | Train F1_score = 0.6550132573897672 | Test Accuracy = 0.8483108108108108 | Test F1_score =0.6367313915857604 \n"
     ]
    },
    {
     "name": "stderr",
     "output_type": "stream",
     "text": [
      "                                                 \r"
     ]
    },
    {
     "name": "stdout",
     "output_type": "stream",
     "text": [
      "3 epoch | Train Accuracy = 0.8715999324210171 | Train F1_score = 0.6914332115306537 | Test Accuracy = 0.8498310810810811 | Test F1_score =0.6428284451586981 \n"
     ]
    },
    {
     "name": "stderr",
     "output_type": "stream",
     "text": [
      "                                                 \r"
     ]
    },
    {
     "name": "stdout",
     "output_type": "stream",
     "text": [
      "4 epoch | Train Accuracy = 0.8923804696739314 | Train F1_score = 0.7309966216216217 | Test Accuracy = 0.8940878378378379 | Test F1_score =0.7038261691072272 \n"
     ]
    },
    {
     "name": "stderr",
     "output_type": "stream",
     "text": [
      "                                                 \r"
     ]
    },
    {
     "name": "stdout",
     "output_type": "stream",
     "text": [
      "5 epoch | Train Accuracy = 0.9148927183645886 | Train F1_score = 0.7763844190433915 | Test Accuracy = 0.8753378378378378 | Test F1_score =0.6731620903454385 \n"
     ]
    },
    {
     "name": "stderr",
     "output_type": "stream",
     "text": [
      "                                                 \r"
     ]
    },
    {
     "name": "stdout",
     "output_type": "stream",
     "text": [
      "6 epoch | Train Accuracy = 0.9330968068930563 | Train F1_score = 0.8161559888579387 | Test Accuracy = 0.8729729729729729 | Test F1_score =0.6669619131975199 \n"
     ]
    },
    {
     "name": "stderr",
     "output_type": "stream",
     "text": [
      "                                                 \r"
     ]
    },
    {
     "name": "stdout",
     "output_type": "stream",
     "text": [
      "7 epoch | Train Accuracy = 0.9378695725629329 | Train F1_score = 0.8274486803519061 | Test Accuracy = 0.8619932432432432 | Test F1_score =0.6536668079694785 \n",
      "No improvement for 3 epochs. Early stopping.\n",
      "Best test accuracy of 0.7038261691072272 achieved at epoch 4\n"
     ]
    }
   ],
   "source": [
    "model=finetune(epochs, train_dataloader, model, loss_fn, optimizer,patience)"
   ]
  },
  {
   "cell_type": "code",
   "execution_count": null,
   "id": "574c715b",
   "metadata": {
    "id": "yozdOibeQrXb",
    "papermill": {
     "duration": 0.282457,
     "end_time": "2023-10-13T23:33:44.316593",
     "exception": false,
     "start_time": "2023-10-13T23:33:44.034136",
     "status": "completed"
    },
    "tags": []
   },
   "outputs": [],
   "source": []
  },
  {
   "cell_type": "code",
   "execution_count": null,
   "id": "9ba8494d",
   "metadata": {
    "id": "kAsGIhkzQz2I",
    "papermill": {
     "duration": 0.267317,
     "end_time": "2023-10-13T23:33:44.868410",
     "exception": false,
     "start_time": "2023-10-13T23:33:44.601093",
     "status": "completed"
    },
    "tags": []
   },
   "outputs": [],
   "source": []
  }
 ],
 "metadata": {
  "kernelspec": {
   "display_name": "Python 3",
   "language": "python",
   "name": "python3"
  },
  "language_info": {
   "codemirror_mode": {
    "name": "ipython",
    "version": 3
   },
   "file_extension": ".py",
   "mimetype": "text/x-python",
   "name": "python",
   "nbconvert_exporter": "python",
   "pygments_lexer": "ipython3",
   "version": "3.10.12"
  },
  "papermill": {
   "default_parameters": {},
   "duration": 6385.521551,
   "end_time": "2023-10-13T23:33:48.587951",
   "environment_variables": {},
   "exception": null,
   "input_path": "__notebook__.ipynb",
   "output_path": "__notebook__.ipynb",
   "parameters": {},
   "start_time": "2023-10-13T21:47:23.066400",
   "version": "2.4.0"
  },
  "widgets": {
   "application/vnd.jupyter.widget-state+json": {
    "state": {
     "0aeb306d45674fd69746cf574f2c019e": {
      "model_module": "@jupyter-widgets/controls",
      "model_module_version": "1.5.0",
      "model_name": "HBoxModel",
      "state": {
       "_dom_classes": [],
       "_model_module": "@jupyter-widgets/controls",
       "_model_module_version": "1.5.0",
       "_model_name": "HBoxModel",
       "_view_count": null,
       "_view_module": "@jupyter-widgets/controls",
       "_view_module_version": "1.5.0",
       "_view_name": "HBoxView",
       "box_style": "",
       "children": [
        "IPY_MODEL_88ccc0d314c0487e91ae0eb0bd354ae1",
        "IPY_MODEL_91d94adba1f34d5ea90d72585d44ad8d",
        "IPY_MODEL_c27e25fd4d8245669dcb87754370f0e2"
       ],
       "layout": "IPY_MODEL_87cc21acfc264a2ea34723593b2e18fe"
      }
     },
     "0c34572cea114d77bd4b741e7d389fe7": {
      "model_module": "@jupyter-widgets/controls",
      "model_module_version": "1.5.0",
      "model_name": "ProgressStyleModel",
      "state": {
       "_model_module": "@jupyter-widgets/controls",
       "_model_module_version": "1.5.0",
       "_model_name": "ProgressStyleModel",
       "_view_count": null,
       "_view_module": "@jupyter-widgets/base",
       "_view_module_version": "1.2.0",
       "_view_name": "StyleView",
       "bar_color": null,
       "description_width": ""
      }
     },
     "165f67be30374b22a7605726e155a393": {
      "model_module": "@jupyter-widgets/controls",
      "model_module_version": "1.5.0",
      "model_name": "HBoxModel",
      "state": {
       "_dom_classes": [],
       "_model_module": "@jupyter-widgets/controls",
       "_model_module_version": "1.5.0",
       "_model_name": "HBoxModel",
       "_view_count": null,
       "_view_module": "@jupyter-widgets/controls",
       "_view_module_version": "1.5.0",
       "_view_name": "HBoxView",
       "box_style": "",
       "children": [
        "IPY_MODEL_5d91ec90728648b2abf5a8319482e136",
        "IPY_MODEL_9a2f8e7efc3d4c36a9d9517df072fbc4",
        "IPY_MODEL_311d9653725e43a19b40a762b9809ca7"
       ],
       "layout": "IPY_MODEL_615c10ba024e493fb34d02ed2dcdf485"
      }
     },
     "18716cd013254fcc896da42d9983df47": {
      "model_module": "@jupyter-widgets/base",
      "model_module_version": "1.2.0",
      "model_name": "LayoutModel",
      "state": {
       "_model_module": "@jupyter-widgets/base",
       "_model_module_version": "1.2.0",
       "_model_name": "LayoutModel",
       "_view_count": null,
       "_view_module": "@jupyter-widgets/base",
       "_view_module_version": "1.2.0",
       "_view_name": "LayoutView",
       "align_content": null,
       "align_items": null,
       "align_self": null,
       "border": null,
       "bottom": null,
       "display": null,
       "flex": null,
       "flex_flow": null,
       "grid_area": null,
       "grid_auto_columns": null,
       "grid_auto_flow": null,
       "grid_auto_rows": null,
       "grid_column": null,
       "grid_gap": null,
       "grid_row": null,
       "grid_template_areas": null,
       "grid_template_columns": null,
       "grid_template_rows": null,
       "height": null,
       "justify_content": null,
       "justify_items": null,
       "left": null,
       "margin": null,
       "max_height": null,
       "max_width": null,
       "min_height": null,
       "min_width": null,
       "object_fit": null,
       "object_position": null,
       "order": null,
       "overflow": null,
       "overflow_x": null,
       "overflow_y": null,
       "padding": null,
       "right": null,
       "top": null,
       "visibility": null,
       "width": null
      }
     },
     "248981af6d5046bc9754c0b7f74d05f1": {
      "model_module": "@jupyter-widgets/controls",
      "model_module_version": "1.5.0",
      "model_name": "HTMLModel",
      "state": {
       "_dom_classes": [],
       "_model_module": "@jupyter-widgets/controls",
       "_model_module_version": "1.5.0",
       "_model_name": "HTMLModel",
       "_view_count": null,
       "_view_module": "@jupyter-widgets/controls",
       "_view_module_version": "1.5.0",
       "_view_name": "HTMLView",
       "description": "",
       "description_tooltip": null,
       "layout": "IPY_MODEL_aeedc50b0eb644e6b750dff07cd68452",
       "placeholder": "​",
       "style": "IPY_MODEL_a49557b663ab4ee6891d66e4bfff4bce",
       "value": "Downloading (…)/main/tokenizer.json: 100%"
      }
     },
     "27d9f1bd266f479b9f44a2e388f26543": {
      "model_module": "@jupyter-widgets/controls",
      "model_module_version": "1.5.0",
      "model_name": "DescriptionStyleModel",
      "state": {
       "_model_module": "@jupyter-widgets/controls",
       "_model_module_version": "1.5.0",
       "_model_name": "DescriptionStyleModel",
       "_view_count": null,
       "_view_module": "@jupyter-widgets/base",
       "_view_module_version": "1.2.0",
       "_view_name": "StyleView",
       "description_width": ""
      }
     },
     "2eb61fadd5a14e82b1d3d667423d8d55": {
      "model_module": "@jupyter-widgets/controls",
      "model_module_version": "1.5.0",
      "model_name": "DescriptionStyleModel",
      "state": {
       "_model_module": "@jupyter-widgets/controls",
       "_model_module_version": "1.5.0",
       "_model_name": "DescriptionStyleModel",
       "_view_count": null,
       "_view_module": "@jupyter-widgets/base",
       "_view_module_version": "1.2.0",
       "_view_name": "StyleView",
       "description_width": ""
      }
     },
     "2f00062e54344eea8564a811fc147f80": {
      "model_module": "@jupyter-widgets/base",
      "model_module_version": "1.2.0",
      "model_name": "LayoutModel",
      "state": {
       "_model_module": "@jupyter-widgets/base",
       "_model_module_version": "1.2.0",
       "_model_name": "LayoutModel",
       "_view_count": null,
       "_view_module": "@jupyter-widgets/base",
       "_view_module_version": "1.2.0",
       "_view_name": "LayoutView",
       "align_content": null,
       "align_items": null,
       "align_self": null,
       "border": null,
       "bottom": null,
       "display": null,
       "flex": null,
       "flex_flow": null,
       "grid_area": null,
       "grid_auto_columns": null,
       "grid_auto_flow": null,
       "grid_auto_rows": null,
       "grid_column": null,
       "grid_gap": null,
       "grid_row": null,
       "grid_template_areas": null,
       "grid_template_columns": null,
       "grid_template_rows": null,
       "height": null,
       "justify_content": null,
       "justify_items": null,
       "left": null,
       "margin": null,
       "max_height": null,
       "max_width": null,
       "min_height": null,
       "min_width": null,
       "object_fit": null,
       "object_position": null,
       "order": null,
       "overflow": null,
       "overflow_x": null,
       "overflow_y": null,
       "padding": null,
       "right": null,
       "top": null,
       "visibility": null,
       "width": null
      }
     },
     "311d9653725e43a19b40a762b9809ca7": {
      "model_module": "@jupyter-widgets/controls",
      "model_module_version": "1.5.0",
      "model_name": "HTMLModel",
      "state": {
       "_dom_classes": [],
       "_model_module": "@jupyter-widgets/controls",
       "_model_module_version": "1.5.0",
       "_model_name": "HTMLModel",
       "_view_count": null,
       "_view_module": "@jupyter-widgets/controls",
       "_view_module_version": "1.5.0",
       "_view_name": "HTMLView",
       "description": "",
       "description_tooltip": null,
       "layout": "IPY_MODEL_e5bdd2af5086432dbb77ee10b2acb33a",
       "placeholder": "​",
       "style": "IPY_MODEL_69cc2a3c0e4e43debc63384f220bfd92",
       "value": " 456k/456k [00:00&lt;00:00, 3.61MB/s]"
      }
     },
     "323c3b62ca94461abdbb593d2cd8f562": {
      "model_module": "@jupyter-widgets/controls",
      "model_module_version": "1.5.0",
      "model_name": "HTMLModel",
      "state": {
       "_dom_classes": [],
       "_model_module": "@jupyter-widgets/controls",
       "_model_module_version": "1.5.0",
       "_model_name": "HTMLModel",
       "_view_count": null,
       "_view_module": "@jupyter-widgets/controls",
       "_view_module_version": "1.5.0",
       "_view_name": "HTMLView",
       "description": "",
       "description_tooltip": null,
       "layout": "IPY_MODEL_391b7724761d4d3594019edd3cf0b160",
       "placeholder": "​",
       "style": "IPY_MODEL_79be5dce64334c7a8748709a7ab39f2f",
       "value": " 614/614 [00:00&lt;00:00, 53.5kB/s]"
      }
     },
     "3766a63435784d3eb983d6e9ca247a56": {
      "model_module": "@jupyter-widgets/controls",
      "model_module_version": "1.5.0",
      "model_name": "HBoxModel",
      "state": {
       "_dom_classes": [],
       "_model_module": "@jupyter-widgets/controls",
       "_model_module_version": "1.5.0",
       "_model_name": "HBoxModel",
       "_view_count": null,
       "_view_module": "@jupyter-widgets/controls",
       "_view_module_version": "1.5.0",
       "_view_name": "HBoxView",
       "box_style": "",
       "children": [
        "IPY_MODEL_248981af6d5046bc9754c0b7f74d05f1",
        "IPY_MODEL_8a73aeea9d3a4c4e8980538188011cab",
        "IPY_MODEL_dc361be8f46f4d228242a9ae7242a36e"
       ],
       "layout": "IPY_MODEL_857a947ecba747d497e877e4b58a04eb"
      }
     },
     "391b7724761d4d3594019edd3cf0b160": {
      "model_module": "@jupyter-widgets/base",
      "model_module_version": "1.2.0",
      "model_name": "LayoutModel",
      "state": {
       "_model_module": "@jupyter-widgets/base",
       "_model_module_version": "1.2.0",
       "_model_name": "LayoutModel",
       "_view_count": null,
       "_view_module": "@jupyter-widgets/base",
       "_view_module_version": "1.2.0",
       "_view_name": "LayoutView",
       "align_content": null,
       "align_items": null,
       "align_self": null,
       "border": null,
       "bottom": null,
       "display": null,
       "flex": null,
       "flex_flow": null,
       "grid_area": null,
       "grid_auto_columns": null,
       "grid_auto_flow": null,
       "grid_auto_rows": null,
       "grid_column": null,
       "grid_gap": null,
       "grid_row": null,
       "grid_template_areas": null,
       "grid_template_columns": null,
       "grid_template_rows": null,
       "height": null,
       "justify_content": null,
       "justify_items": null,
       "left": null,
       "margin": null,
       "max_height": null,
       "max_width": null,
       "min_height": null,
       "min_width": null,
       "object_fit": null,
       "object_position": null,
       "order": null,
       "overflow": null,
       "overflow_x": null,
       "overflow_y": null,
       "padding": null,
       "right": null,
       "top": null,
       "visibility": null,
       "width": null
      }
     },
     "3caacf9e3c0748e4b75f74a079cb2c58": {
      "model_module": "@jupyter-widgets/base",
      "model_module_version": "1.2.0",
      "model_name": "LayoutModel",
      "state": {
       "_model_module": "@jupyter-widgets/base",
       "_model_module_version": "1.2.0",
       "_model_name": "LayoutModel",
       "_view_count": null,
       "_view_module": "@jupyter-widgets/base",
       "_view_module_version": "1.2.0",
       "_view_name": "LayoutView",
       "align_content": null,
       "align_items": null,
       "align_self": null,
       "border": null,
       "bottom": null,
       "display": null,
       "flex": null,
       "flex_flow": null,
       "grid_area": null,
       "grid_auto_columns": null,
       "grid_auto_flow": null,
       "grid_auto_rows": null,
       "grid_column": null,
       "grid_gap": null,
       "grid_row": null,
       "grid_template_areas": null,
       "grid_template_columns": null,
       "grid_template_rows": null,
       "height": null,
       "justify_content": null,
       "justify_items": null,
       "left": null,
       "margin": null,
       "max_height": null,
       "max_width": null,
       "min_height": null,
       "min_width": null,
       "object_fit": null,
       "object_position": null,
       "order": null,
       "overflow": null,
       "overflow_x": null,
       "overflow_y": null,
       "padding": null,
       "right": null,
       "top": null,
       "visibility": null,
       "width": null
      }
     },
     "439445b837734b45a418e818011595c2": {
      "model_module": "@jupyter-widgets/base",
      "model_module_version": "1.2.0",
      "model_name": "LayoutModel",
      "state": {
       "_model_module": "@jupyter-widgets/base",
       "_model_module_version": "1.2.0",
       "_model_name": "LayoutModel",
       "_view_count": null,
       "_view_module": "@jupyter-widgets/base",
       "_view_module_version": "1.2.0",
       "_view_name": "LayoutView",
       "align_content": null,
       "align_items": null,
       "align_self": null,
       "border": null,
       "bottom": null,
       "display": null,
       "flex": null,
       "flex_flow": null,
       "grid_area": null,
       "grid_auto_columns": null,
       "grid_auto_flow": null,
       "grid_auto_rows": null,
       "grid_column": null,
       "grid_gap": null,
       "grid_row": null,
       "grid_template_areas": null,
       "grid_template_columns": null,
       "grid_template_rows": null,
       "height": null,
       "justify_content": null,
       "justify_items": null,
       "left": null,
       "margin": null,
       "max_height": null,
       "max_width": null,
       "min_height": null,
       "min_width": null,
       "object_fit": null,
       "object_position": null,
       "order": null,
       "overflow": null,
       "overflow_x": null,
       "overflow_y": null,
       "padding": null,
       "right": null,
       "top": null,
       "visibility": null,
       "width": null
      }
     },
     "4685b0cd8dfc4f9aae153832cd9d43d7": {
      "model_module": "@jupyter-widgets/controls",
      "model_module_version": "1.5.0",
      "model_name": "DescriptionStyleModel",
      "state": {
       "_model_module": "@jupyter-widgets/controls",
       "_model_module_version": "1.5.0",
       "_model_name": "DescriptionStyleModel",
       "_view_count": null,
       "_view_module": "@jupyter-widgets/base",
       "_view_module_version": "1.2.0",
       "_view_name": "StyleView",
       "description_width": ""
      }
     },
     "46bfd3b3ea13448ebe2819e6df46f966": {
      "model_module": "@jupyter-widgets/base",
      "model_module_version": "1.2.0",
      "model_name": "LayoutModel",
      "state": {
       "_model_module": "@jupyter-widgets/base",
       "_model_module_version": "1.2.0",
       "_model_name": "LayoutModel",
       "_view_count": null,
       "_view_module": "@jupyter-widgets/base",
       "_view_module_version": "1.2.0",
       "_view_name": "LayoutView",
       "align_content": null,
       "align_items": null,
       "align_self": null,
       "border": null,
       "bottom": null,
       "display": null,
       "flex": null,
       "flex_flow": null,
       "grid_area": null,
       "grid_auto_columns": null,
       "grid_auto_flow": null,
       "grid_auto_rows": null,
       "grid_column": null,
       "grid_gap": null,
       "grid_row": null,
       "grid_template_areas": null,
       "grid_template_columns": null,
       "grid_template_rows": null,
       "height": null,
       "justify_content": null,
       "justify_items": null,
       "left": null,
       "margin": null,
       "max_height": null,
       "max_width": null,
       "min_height": null,
       "min_width": null,
       "object_fit": null,
       "object_position": null,
       "order": null,
       "overflow": null,
       "overflow_x": null,
       "overflow_y": null,
       "padding": null,
       "right": null,
       "top": null,
       "visibility": null,
       "width": null
      }
     },
     "4cd72d9581d2429e8b9d11fb527ae2ae": {
      "model_module": "@jupyter-widgets/controls",
      "model_module_version": "1.5.0",
      "model_name": "HTMLModel",
      "state": {
       "_dom_classes": [],
       "_model_module": "@jupyter-widgets/controls",
       "_model_module_version": "1.5.0",
       "_model_name": "HTMLModel",
       "_view_count": null,
       "_view_module": "@jupyter-widgets/controls",
       "_view_module_version": "1.5.0",
       "_view_name": "HTMLView",
       "description": "",
       "description_tooltip": null,
       "layout": "IPY_MODEL_3caacf9e3c0748e4b75f74a079cb2c58",
       "placeholder": "​",
       "style": "IPY_MODEL_fa5d66bfe9994bbbb39e869d06c93bf3",
       "value": " 899k/899k [00:00&lt;00:00, 7.01MB/s]"
      }
     },
     "553d52f44db74968acd5b27e8b2fd59d": {
      "model_module": "@jupyter-widgets/controls",
      "model_module_version": "1.5.0",
      "model_name": "DescriptionStyleModel",
      "state": {
       "_model_module": "@jupyter-widgets/controls",
       "_model_module_version": "1.5.0",
       "_model_name": "DescriptionStyleModel",
       "_view_count": null,
       "_view_module": "@jupyter-widgets/base",
       "_view_module_version": "1.2.0",
       "_view_name": "StyleView",
       "description_width": ""
      }
     },
     "55bf125ab0af4209b52e7e0051bb1890": {
      "model_module": "@jupyter-widgets/controls",
      "model_module_version": "1.5.0",
      "model_name": "FloatProgressModel",
      "state": {
       "_dom_classes": [],
       "_model_module": "@jupyter-widgets/controls",
       "_model_module_version": "1.5.0",
       "_model_name": "FloatProgressModel",
       "_view_count": null,
       "_view_module": "@jupyter-widgets/controls",
       "_view_module_version": "1.5.0",
       "_view_name": "ProgressView",
       "bar_style": "success",
       "description": "",
       "description_tooltip": null,
       "layout": "IPY_MODEL_46bfd3b3ea13448ebe2819e6df46f966",
       "max": 614.0,
       "min": 0.0,
       "orientation": "horizontal",
       "style": "IPY_MODEL_e27c5dbf855d4e1789ada60578200656",
       "value": 614.0
      }
     },
     "569126de5ef34be0b44dd9a7d5f53310": {
      "model_module": "@jupyter-widgets/controls",
      "model_module_version": "1.5.0",
      "model_name": "ProgressStyleModel",
      "state": {
       "_model_module": "@jupyter-widgets/controls",
       "_model_module_version": "1.5.0",
       "_model_name": "ProgressStyleModel",
       "_view_count": null,
       "_view_module": "@jupyter-widgets/base",
       "_view_module_version": "1.2.0",
       "_view_name": "StyleView",
       "bar_color": null,
       "description_width": ""
      }
     },
     "5d91ec90728648b2abf5a8319482e136": {
      "model_module": "@jupyter-widgets/controls",
      "model_module_version": "1.5.0",
      "model_name": "HTMLModel",
      "state": {
       "_dom_classes": [],
       "_model_module": "@jupyter-widgets/controls",
       "_model_module_version": "1.5.0",
       "_model_name": "HTMLModel",
       "_view_count": null,
       "_view_module": "@jupyter-widgets/controls",
       "_view_module_version": "1.5.0",
       "_view_name": "HTMLView",
       "description": "",
       "description_tooltip": null,
       "layout": "IPY_MODEL_439445b837734b45a418e818011595c2",
       "placeholder": "​",
       "style": "IPY_MODEL_4685b0cd8dfc4f9aae153832cd9d43d7",
       "value": "Downloading (…)olve/main/merges.txt: 100%"
      }
     },
     "615c10ba024e493fb34d02ed2dcdf485": {
      "model_module": "@jupyter-widgets/base",
      "model_module_version": "1.2.0",
      "model_name": "LayoutModel",
      "state": {
       "_model_module": "@jupyter-widgets/base",
       "_model_module_version": "1.2.0",
       "_model_name": "LayoutModel",
       "_view_count": null,
       "_view_module": "@jupyter-widgets/base",
       "_view_module_version": "1.2.0",
       "_view_name": "LayoutView",
       "align_content": null,
       "align_items": null,
       "align_self": null,
       "border": null,
       "bottom": null,
       "display": null,
       "flex": null,
       "flex_flow": null,
       "grid_area": null,
       "grid_auto_columns": null,
       "grid_auto_flow": null,
       "grid_auto_rows": null,
       "grid_column": null,
       "grid_gap": null,
       "grid_row": null,
       "grid_template_areas": null,
       "grid_template_columns": null,
       "grid_template_rows": null,
       "height": null,
       "justify_content": null,
       "justify_items": null,
       "left": null,
       "margin": null,
       "max_height": null,
       "max_width": null,
       "min_height": null,
       "min_width": null,
       "object_fit": null,
       "object_position": null,
       "order": null,
       "overflow": null,
       "overflow_x": null,
       "overflow_y": null,
       "padding": null,
       "right": null,
       "top": null,
       "visibility": null,
       "width": null
      }
     },
     "636c2320db284728bd54a6cc4edd9266": {
      "model_module": "@jupyter-widgets/controls",
      "model_module_version": "1.5.0",
      "model_name": "HTMLModel",
      "state": {
       "_dom_classes": [],
       "_model_module": "@jupyter-widgets/controls",
       "_model_module_version": "1.5.0",
       "_model_name": "HTMLModel",
       "_view_count": null,
       "_view_module": "@jupyter-widgets/controls",
       "_view_module_version": "1.5.0",
       "_view_name": "HTMLView",
       "description": "",
       "description_tooltip": null,
       "layout": "IPY_MODEL_7e8859752e58443cb28a51f5c73c1654",
       "placeholder": "​",
       "style": "IPY_MODEL_2eb61fadd5a14e82b1d3d667423d8d55",
       "value": "Downloading (…)lve/main/config.json: 100%"
      }
     },
     "69cc2a3c0e4e43debc63384f220bfd92": {
      "model_module": "@jupyter-widgets/controls",
      "model_module_version": "1.5.0",
      "model_name": "DescriptionStyleModel",
      "state": {
       "_model_module": "@jupyter-widgets/controls",
       "_model_module_version": "1.5.0",
       "_model_name": "DescriptionStyleModel",
       "_view_count": null,
       "_view_module": "@jupyter-widgets/base",
       "_view_module_version": "1.2.0",
       "_view_name": "StyleView",
       "description_width": ""
      }
     },
     "718981d2c9a242bcabe753419d4d5bf6": {
      "model_module": "@jupyter-widgets/controls",
      "model_module_version": "1.5.0",
      "model_name": "HBoxModel",
      "state": {
       "_dom_classes": [],
       "_model_module": "@jupyter-widgets/controls",
       "_model_module_version": "1.5.0",
       "_model_name": "HBoxModel",
       "_view_count": null,
       "_view_module": "@jupyter-widgets/controls",
       "_view_module_version": "1.5.0",
       "_view_name": "HBoxView",
       "box_style": "",
       "children": [
        "IPY_MODEL_b376a022ca01417e8a6370958219aaac",
        "IPY_MODEL_85526dcef1fa4e18ab2cbd6d4c5f3111",
        "IPY_MODEL_4cd72d9581d2429e8b9d11fb527ae2ae"
       ],
       "layout": "IPY_MODEL_d1c5067a39bf4c36913077b1af88a8b3"
      }
     },
     "79be5dce64334c7a8748709a7ab39f2f": {
      "model_module": "@jupyter-widgets/controls",
      "model_module_version": "1.5.0",
      "model_name": "DescriptionStyleModel",
      "state": {
       "_model_module": "@jupyter-widgets/controls",
       "_model_module_version": "1.5.0",
       "_model_name": "DescriptionStyleModel",
       "_view_count": null,
       "_view_module": "@jupyter-widgets/base",
       "_view_module_version": "1.2.0",
       "_view_name": "StyleView",
       "description_width": ""
      }
     },
     "7e8859752e58443cb28a51f5c73c1654": {
      "model_module": "@jupyter-widgets/base",
      "model_module_version": "1.2.0",
      "model_name": "LayoutModel",
      "state": {
       "_model_module": "@jupyter-widgets/base",
       "_model_module_version": "1.2.0",
       "_model_name": "LayoutModel",
       "_view_count": null,
       "_view_module": "@jupyter-widgets/base",
       "_view_module_version": "1.2.0",
       "_view_name": "LayoutView",
       "align_content": null,
       "align_items": null,
       "align_self": null,
       "border": null,
       "bottom": null,
       "display": null,
       "flex": null,
       "flex_flow": null,
       "grid_area": null,
       "grid_auto_columns": null,
       "grid_auto_flow": null,
       "grid_auto_rows": null,
       "grid_column": null,
       "grid_gap": null,
       "grid_row": null,
       "grid_template_areas": null,
       "grid_template_columns": null,
       "grid_template_rows": null,
       "height": null,
       "justify_content": null,
       "justify_items": null,
       "left": null,
       "margin": null,
       "max_height": null,
       "max_width": null,
       "min_height": null,
       "min_width": null,
       "object_fit": null,
       "object_position": null,
       "order": null,
       "overflow": null,
       "overflow_x": null,
       "overflow_y": null,
       "padding": null,
       "right": null,
       "top": null,
       "visibility": null,
       "width": null
      }
     },
     "83cba8f005a54253b31c035e9e56c6a7": {
      "model_module": "@jupyter-widgets/base",
      "model_module_version": "1.2.0",
      "model_name": "LayoutModel",
      "state": {
       "_model_module": "@jupyter-widgets/base",
       "_model_module_version": "1.2.0",
       "_model_name": "LayoutModel",
       "_view_count": null,
       "_view_module": "@jupyter-widgets/base",
       "_view_module_version": "1.2.0",
       "_view_name": "LayoutView",
       "align_content": null,
       "align_items": null,
       "align_self": null,
       "border": null,
       "bottom": null,
       "display": null,
       "flex": null,
       "flex_flow": null,
       "grid_area": null,
       "grid_auto_columns": null,
       "grid_auto_flow": null,
       "grid_auto_rows": null,
       "grid_column": null,
       "grid_gap": null,
       "grid_row": null,
       "grid_template_areas": null,
       "grid_template_columns": null,
       "grid_template_rows": null,
       "height": null,
       "justify_content": null,
       "justify_items": null,
       "left": null,
       "margin": null,
       "max_height": null,
       "max_width": null,
       "min_height": null,
       "min_width": null,
       "object_fit": null,
       "object_position": null,
       "order": null,
       "overflow": null,
       "overflow_x": null,
       "overflow_y": null,
       "padding": null,
       "right": null,
       "top": null,
       "visibility": null,
       "width": null
      }
     },
     "85526dcef1fa4e18ab2cbd6d4c5f3111": {
      "model_module": "@jupyter-widgets/controls",
      "model_module_version": "1.5.0",
      "model_name": "FloatProgressModel",
      "state": {
       "_dom_classes": [],
       "_model_module": "@jupyter-widgets/controls",
       "_model_module_version": "1.5.0",
       "_model_name": "FloatProgressModel",
       "_view_count": null,
       "_view_module": "@jupyter-widgets/controls",
       "_view_module_version": "1.5.0",
       "_view_name": "ProgressView",
       "bar_style": "success",
       "description": "",
       "description_tooltip": null,
       "layout": "IPY_MODEL_97d7b61fed254f98b33d8bab3077bbaf",
       "max": 898823.0,
       "min": 0.0,
       "orientation": "horizontal",
       "style": "IPY_MODEL_569126de5ef34be0b44dd9a7d5f53310",
       "value": 898823.0
      }
     },
     "857a947ecba747d497e877e4b58a04eb": {
      "model_module": "@jupyter-widgets/base",
      "model_module_version": "1.2.0",
      "model_name": "LayoutModel",
      "state": {
       "_model_module": "@jupyter-widgets/base",
       "_model_module_version": "1.2.0",
       "_model_name": "LayoutModel",
       "_view_count": null,
       "_view_module": "@jupyter-widgets/base",
       "_view_module_version": "1.2.0",
       "_view_name": "LayoutView",
       "align_content": null,
       "align_items": null,
       "align_self": null,
       "border": null,
       "bottom": null,
       "display": null,
       "flex": null,
       "flex_flow": null,
       "grid_area": null,
       "grid_auto_columns": null,
       "grid_auto_flow": null,
       "grid_auto_rows": null,
       "grid_column": null,
       "grid_gap": null,
       "grid_row": null,
       "grid_template_areas": null,
       "grid_template_columns": null,
       "grid_template_rows": null,
       "height": null,
       "justify_content": null,
       "justify_items": null,
       "left": null,
       "margin": null,
       "max_height": null,
       "max_width": null,
       "min_height": null,
       "min_width": null,
       "object_fit": null,
       "object_position": null,
       "order": null,
       "overflow": null,
       "overflow_x": null,
       "overflow_y": null,
       "padding": null,
       "right": null,
       "top": null,
       "visibility": null,
       "width": null
      }
     },
     "87cc21acfc264a2ea34723593b2e18fe": {
      "model_module": "@jupyter-widgets/base",
      "model_module_version": "1.2.0",
      "model_name": "LayoutModel",
      "state": {
       "_model_module": "@jupyter-widgets/base",
       "_model_module_version": "1.2.0",
       "_model_name": "LayoutModel",
       "_view_count": null,
       "_view_module": "@jupyter-widgets/base",
       "_view_module_version": "1.2.0",
       "_view_name": "LayoutView",
       "align_content": null,
       "align_items": null,
       "align_self": null,
       "border": null,
       "bottom": null,
       "display": null,
       "flex": null,
       "flex_flow": null,
       "grid_area": null,
       "grid_auto_columns": null,
       "grid_auto_flow": null,
       "grid_auto_rows": null,
       "grid_column": null,
       "grid_gap": null,
       "grid_row": null,
       "grid_template_areas": null,
       "grid_template_columns": null,
       "grid_template_rows": null,
       "height": null,
       "justify_content": null,
       "justify_items": null,
       "left": null,
       "margin": null,
       "max_height": null,
       "max_width": null,
       "min_height": null,
       "min_width": null,
       "object_fit": null,
       "object_position": null,
       "order": null,
       "overflow": null,
       "overflow_x": null,
       "overflow_y": null,
       "padding": null,
       "right": null,
       "top": null,
       "visibility": null,
       "width": null
      }
     },
     "88ccc0d314c0487e91ae0eb0bd354ae1": {
      "model_module": "@jupyter-widgets/controls",
      "model_module_version": "1.5.0",
      "model_name": "HTMLModel",
      "state": {
       "_dom_classes": [],
       "_model_module": "@jupyter-widgets/controls",
       "_model_module_version": "1.5.0",
       "_model_name": "HTMLModel",
       "_view_count": null,
       "_view_module": "@jupyter-widgets/controls",
       "_view_module_version": "1.5.0",
       "_view_name": "HTMLView",
       "description": "",
       "description_tooltip": null,
       "layout": "IPY_MODEL_89fd8cfd4ca04ad5a25126b22c6bae9d",
       "placeholder": "​",
       "style": "IPY_MODEL_553d52f44db74968acd5b27e8b2fd59d",
       "value": "Downloading pytorch_model.bin: 100%"
      }
     },
     "89fd8cfd4ca04ad5a25126b22c6bae9d": {
      "model_module": "@jupyter-widgets/base",
      "model_module_version": "1.2.0",
      "model_name": "LayoutModel",
      "state": {
       "_model_module": "@jupyter-widgets/base",
       "_model_module_version": "1.2.0",
       "_model_name": "LayoutModel",
       "_view_count": null,
       "_view_module": "@jupyter-widgets/base",
       "_view_module_version": "1.2.0",
       "_view_name": "LayoutView",
       "align_content": null,
       "align_items": null,
       "align_self": null,
       "border": null,
       "bottom": null,
       "display": null,
       "flex": null,
       "flex_flow": null,
       "grid_area": null,
       "grid_auto_columns": null,
       "grid_auto_flow": null,
       "grid_auto_rows": null,
       "grid_column": null,
       "grid_gap": null,
       "grid_row": null,
       "grid_template_areas": null,
       "grid_template_columns": null,
       "grid_template_rows": null,
       "height": null,
       "justify_content": null,
       "justify_items": null,
       "left": null,
       "margin": null,
       "max_height": null,
       "max_width": null,
       "min_height": null,
       "min_width": null,
       "object_fit": null,
       "object_position": null,
       "order": null,
       "overflow": null,
       "overflow_x": null,
       "overflow_y": null,
       "padding": null,
       "right": null,
       "top": null,
       "visibility": null,
       "width": null
      }
     },
     "8a73aeea9d3a4c4e8980538188011cab": {
      "model_module": "@jupyter-widgets/controls",
      "model_module_version": "1.5.0",
      "model_name": "FloatProgressModel",
      "state": {
       "_dom_classes": [],
       "_model_module": "@jupyter-widgets/controls",
       "_model_module_version": "1.5.0",
       "_model_name": "FloatProgressModel",
       "_view_count": null,
       "_view_module": "@jupyter-widgets/controls",
       "_view_module_version": "1.5.0",
       "_view_name": "ProgressView",
       "bar_style": "success",
       "description": "",
       "description_tooltip": null,
       "layout": "IPY_MODEL_d153086b4f43424c8564f014899ed207",
       "max": 1355863.0,
       "min": 0.0,
       "orientation": "horizontal",
       "style": "IPY_MODEL_d9c2e0fc6f594311b12cbd10a0ae87e9",
       "value": 1355863.0
      }
     },
     "91d94adba1f34d5ea90d72585d44ad8d": {
      "model_module": "@jupyter-widgets/controls",
      "model_module_version": "1.5.0",
      "model_name": "FloatProgressModel",
      "state": {
       "_dom_classes": [],
       "_model_module": "@jupyter-widgets/controls",
       "_model_module_version": "1.5.0",
       "_model_name": "FloatProgressModel",
       "_view_count": null,
       "_view_module": "@jupyter-widgets/controls",
       "_view_module_version": "1.5.0",
       "_view_name": "ProgressView",
       "bar_style": "success",
       "description": "",
       "description_tooltip": null,
       "layout": "IPY_MODEL_b46cbe7098a643ec9bc2d93152a88ecb",
       "max": 1422008553.0,
       "min": 0.0,
       "orientation": "horizontal",
       "style": "IPY_MODEL_0c34572cea114d77bd4b741e7d389fe7",
       "value": 1422008553.0
      }
     },
     "97d7b61fed254f98b33d8bab3077bbaf": {
      "model_module": "@jupyter-widgets/base",
      "model_module_version": "1.2.0",
      "model_name": "LayoutModel",
      "state": {
       "_model_module": "@jupyter-widgets/base",
       "_model_module_version": "1.2.0",
       "_model_name": "LayoutModel",
       "_view_count": null,
       "_view_module": "@jupyter-widgets/base",
       "_view_module_version": "1.2.0",
       "_view_name": "LayoutView",
       "align_content": null,
       "align_items": null,
       "align_self": null,
       "border": null,
       "bottom": null,
       "display": null,
       "flex": null,
       "flex_flow": null,
       "grid_area": null,
       "grid_auto_columns": null,
       "grid_auto_flow": null,
       "grid_auto_rows": null,
       "grid_column": null,
       "grid_gap": null,
       "grid_row": null,
       "grid_template_areas": null,
       "grid_template_columns": null,
       "grid_template_rows": null,
       "height": null,
       "justify_content": null,
       "justify_items": null,
       "left": null,
       "margin": null,
       "max_height": null,
       "max_width": null,
       "min_height": null,
       "min_width": null,
       "object_fit": null,
       "object_position": null,
       "order": null,
       "overflow": null,
       "overflow_x": null,
       "overflow_y": null,
       "padding": null,
       "right": null,
       "top": null,
       "visibility": null,
       "width": null
      }
     },
     "9a2f8e7efc3d4c36a9d9517df072fbc4": {
      "model_module": "@jupyter-widgets/controls",
      "model_module_version": "1.5.0",
      "model_name": "FloatProgressModel",
      "state": {
       "_dom_classes": [],
       "_model_module": "@jupyter-widgets/controls",
       "_model_module_version": "1.5.0",
       "_model_name": "FloatProgressModel",
       "_view_count": null,
       "_view_module": "@jupyter-widgets/controls",
       "_view_module_version": "1.5.0",
       "_view_name": "ProgressView",
       "bar_style": "success",
       "description": "",
       "description_tooltip": null,
       "layout": "IPY_MODEL_c3377fb878474015b04e450374f6d317",
       "max": 456318.0,
       "min": 0.0,
       "orientation": "horizontal",
       "style": "IPY_MODEL_b42d85b5af5343c88f36eb32d4f71475",
       "value": 456318.0
      }
     },
     "a49557b663ab4ee6891d66e4bfff4bce": {
      "model_module": "@jupyter-widgets/controls",
      "model_module_version": "1.5.0",
      "model_name": "DescriptionStyleModel",
      "state": {
       "_model_module": "@jupyter-widgets/controls",
       "_model_module_version": "1.5.0",
       "_model_name": "DescriptionStyleModel",
       "_view_count": null,
       "_view_module": "@jupyter-widgets/base",
       "_view_module_version": "1.2.0",
       "_view_name": "StyleView",
       "description_width": ""
      }
     },
     "a74e0bec540c4756920ab2a1cf37da2a": {
      "model_module": "@jupyter-widgets/controls",
      "model_module_version": "1.5.0",
      "model_name": "HBoxModel",
      "state": {
       "_dom_classes": [],
       "_model_module": "@jupyter-widgets/controls",
       "_model_module_version": "1.5.0",
       "_model_name": "HBoxModel",
       "_view_count": null,
       "_view_module": "@jupyter-widgets/controls",
       "_view_module_version": "1.5.0",
       "_view_name": "HBoxView",
       "box_style": "",
       "children": [
        "IPY_MODEL_636c2320db284728bd54a6cc4edd9266",
        "IPY_MODEL_55bf125ab0af4209b52e7e0051bb1890",
        "IPY_MODEL_323c3b62ca94461abdbb593d2cd8f562"
       ],
       "layout": "IPY_MODEL_c4ab790118354dad8e180d3f2dc8dad7"
      }
     },
     "aeedc50b0eb644e6b750dff07cd68452": {
      "model_module": "@jupyter-widgets/base",
      "model_module_version": "1.2.0",
      "model_name": "LayoutModel",
      "state": {
       "_model_module": "@jupyter-widgets/base",
       "_model_module_version": "1.2.0",
       "_model_name": "LayoutModel",
       "_view_count": null,
       "_view_module": "@jupyter-widgets/base",
       "_view_module_version": "1.2.0",
       "_view_name": "LayoutView",
       "align_content": null,
       "align_items": null,
       "align_self": null,
       "border": null,
       "bottom": null,
       "display": null,
       "flex": null,
       "flex_flow": null,
       "grid_area": null,
       "grid_auto_columns": null,
       "grid_auto_flow": null,
       "grid_auto_rows": null,
       "grid_column": null,
       "grid_gap": null,
       "grid_row": null,
       "grid_template_areas": null,
       "grid_template_columns": null,
       "grid_template_rows": null,
       "height": null,
       "justify_content": null,
       "justify_items": null,
       "left": null,
       "margin": null,
       "max_height": null,
       "max_width": null,
       "min_height": null,
       "min_width": null,
       "object_fit": null,
       "object_position": null,
       "order": null,
       "overflow": null,
       "overflow_x": null,
       "overflow_y": null,
       "padding": null,
       "right": null,
       "top": null,
       "visibility": null,
       "width": null
      }
     },
     "b376a022ca01417e8a6370958219aaac": {
      "model_module": "@jupyter-widgets/controls",
      "model_module_version": "1.5.0",
      "model_name": "HTMLModel",
      "state": {
       "_dom_classes": [],
       "_model_module": "@jupyter-widgets/controls",
       "_model_module_version": "1.5.0",
       "_model_name": "HTMLModel",
       "_view_count": null,
       "_view_module": "@jupyter-widgets/controls",
       "_view_module_version": "1.5.0",
       "_view_name": "HTMLView",
       "description": "",
       "description_tooltip": null,
       "layout": "IPY_MODEL_18716cd013254fcc896da42d9983df47",
       "placeholder": "​",
       "style": "IPY_MODEL_c01ccad5d05c45d4bbb611d76ff5fd47",
       "value": "Downloading (…)olve/main/vocab.json: 100%"
      }
     },
     "b42d85b5af5343c88f36eb32d4f71475": {
      "model_module": "@jupyter-widgets/controls",
      "model_module_version": "1.5.0",
      "model_name": "ProgressStyleModel",
      "state": {
       "_model_module": "@jupyter-widgets/controls",
       "_model_module_version": "1.5.0",
       "_model_name": "ProgressStyleModel",
       "_view_count": null,
       "_view_module": "@jupyter-widgets/base",
       "_view_module_version": "1.2.0",
       "_view_name": "StyleView",
       "bar_color": null,
       "description_width": ""
      }
     },
     "b46cbe7098a643ec9bc2d93152a88ecb": {
      "model_module": "@jupyter-widgets/base",
      "model_module_version": "1.2.0",
      "model_name": "LayoutModel",
      "state": {
       "_model_module": "@jupyter-widgets/base",
       "_model_module_version": "1.2.0",
       "_model_name": "LayoutModel",
       "_view_count": null,
       "_view_module": "@jupyter-widgets/base",
       "_view_module_version": "1.2.0",
       "_view_name": "LayoutView",
       "align_content": null,
       "align_items": null,
       "align_self": null,
       "border": null,
       "bottom": null,
       "display": null,
       "flex": null,
       "flex_flow": null,
       "grid_area": null,
       "grid_auto_columns": null,
       "grid_auto_flow": null,
       "grid_auto_rows": null,
       "grid_column": null,
       "grid_gap": null,
       "grid_row": null,
       "grid_template_areas": null,
       "grid_template_columns": null,
       "grid_template_rows": null,
       "height": null,
       "justify_content": null,
       "justify_items": null,
       "left": null,
       "margin": null,
       "max_height": null,
       "max_width": null,
       "min_height": null,
       "min_width": null,
       "object_fit": null,
       "object_position": null,
       "order": null,
       "overflow": null,
       "overflow_x": null,
       "overflow_y": null,
       "padding": null,
       "right": null,
       "top": null,
       "visibility": null,
       "width": null
      }
     },
     "c01ccad5d05c45d4bbb611d76ff5fd47": {
      "model_module": "@jupyter-widgets/controls",
      "model_module_version": "1.5.0",
      "model_name": "DescriptionStyleModel",
      "state": {
       "_model_module": "@jupyter-widgets/controls",
       "_model_module_version": "1.5.0",
       "_model_name": "DescriptionStyleModel",
       "_view_count": null,
       "_view_module": "@jupyter-widgets/base",
       "_view_module_version": "1.2.0",
       "_view_name": "StyleView",
       "description_width": ""
      }
     },
     "c217cdbfa8a34225bb161337d74d6c51": {
      "model_module": "@jupyter-widgets/controls",
      "model_module_version": "1.5.0",
      "model_name": "DescriptionStyleModel",
      "state": {
       "_model_module": "@jupyter-widgets/controls",
       "_model_module_version": "1.5.0",
       "_model_name": "DescriptionStyleModel",
       "_view_count": null,
       "_view_module": "@jupyter-widgets/base",
       "_view_module_version": "1.2.0",
       "_view_name": "StyleView",
       "description_width": ""
      }
     },
     "c27e25fd4d8245669dcb87754370f0e2": {
      "model_module": "@jupyter-widgets/controls",
      "model_module_version": "1.5.0",
      "model_name": "HTMLModel",
      "state": {
       "_dom_classes": [],
       "_model_module": "@jupyter-widgets/controls",
       "_model_module_version": "1.5.0",
       "_model_name": "HTMLModel",
       "_view_count": null,
       "_view_module": "@jupyter-widgets/controls",
       "_view_module_version": "1.5.0",
       "_view_name": "HTMLView",
       "description": "",
       "description_tooltip": null,
       "layout": "IPY_MODEL_2f00062e54344eea8564a811fc147f80",
       "placeholder": "​",
       "style": "IPY_MODEL_c217cdbfa8a34225bb161337d74d6c51",
       "value": " 1.42G/1.42G [00:05&lt;00:00, 289MB/s]"
      }
     },
     "c3377fb878474015b04e450374f6d317": {
      "model_module": "@jupyter-widgets/base",
      "model_module_version": "1.2.0",
      "model_name": "LayoutModel",
      "state": {
       "_model_module": "@jupyter-widgets/base",
       "_model_module_version": "1.2.0",
       "_model_name": "LayoutModel",
       "_view_count": null,
       "_view_module": "@jupyter-widgets/base",
       "_view_module_version": "1.2.0",
       "_view_name": "LayoutView",
       "align_content": null,
       "align_items": null,
       "align_self": null,
       "border": null,
       "bottom": null,
       "display": null,
       "flex": null,
       "flex_flow": null,
       "grid_area": null,
       "grid_auto_columns": null,
       "grid_auto_flow": null,
       "grid_auto_rows": null,
       "grid_column": null,
       "grid_gap": null,
       "grid_row": null,
       "grid_template_areas": null,
       "grid_template_columns": null,
       "grid_template_rows": null,
       "height": null,
       "justify_content": null,
       "justify_items": null,
       "left": null,
       "margin": null,
       "max_height": null,
       "max_width": null,
       "min_height": null,
       "min_width": null,
       "object_fit": null,
       "object_position": null,
       "order": null,
       "overflow": null,
       "overflow_x": null,
       "overflow_y": null,
       "padding": null,
       "right": null,
       "top": null,
       "visibility": null,
       "width": null
      }
     },
     "c4ab790118354dad8e180d3f2dc8dad7": {
      "model_module": "@jupyter-widgets/base",
      "model_module_version": "1.2.0",
      "model_name": "LayoutModel",
      "state": {
       "_model_module": "@jupyter-widgets/base",
       "_model_module_version": "1.2.0",
       "_model_name": "LayoutModel",
       "_view_count": null,
       "_view_module": "@jupyter-widgets/base",
       "_view_module_version": "1.2.0",
       "_view_name": "LayoutView",
       "align_content": null,
       "align_items": null,
       "align_self": null,
       "border": null,
       "bottom": null,
       "display": null,
       "flex": null,
       "flex_flow": null,
       "grid_area": null,
       "grid_auto_columns": null,
       "grid_auto_flow": null,
       "grid_auto_rows": null,
       "grid_column": null,
       "grid_gap": null,
       "grid_row": null,
       "grid_template_areas": null,
       "grid_template_columns": null,
       "grid_template_rows": null,
       "height": null,
       "justify_content": null,
       "justify_items": null,
       "left": null,
       "margin": null,
       "max_height": null,
       "max_width": null,
       "min_height": null,
       "min_width": null,
       "object_fit": null,
       "object_position": null,
       "order": null,
       "overflow": null,
       "overflow_x": null,
       "overflow_y": null,
       "padding": null,
       "right": null,
       "top": null,
       "visibility": null,
       "width": null
      }
     },
     "d153086b4f43424c8564f014899ed207": {
      "model_module": "@jupyter-widgets/base",
      "model_module_version": "1.2.0",
      "model_name": "LayoutModel",
      "state": {
       "_model_module": "@jupyter-widgets/base",
       "_model_module_version": "1.2.0",
       "_model_name": "LayoutModel",
       "_view_count": null,
       "_view_module": "@jupyter-widgets/base",
       "_view_module_version": "1.2.0",
       "_view_name": "LayoutView",
       "align_content": null,
       "align_items": null,
       "align_self": null,
       "border": null,
       "bottom": null,
       "display": null,
       "flex": null,
       "flex_flow": null,
       "grid_area": null,
       "grid_auto_columns": null,
       "grid_auto_flow": null,
       "grid_auto_rows": null,
       "grid_column": null,
       "grid_gap": null,
       "grid_row": null,
       "grid_template_areas": null,
       "grid_template_columns": null,
       "grid_template_rows": null,
       "height": null,
       "justify_content": null,
       "justify_items": null,
       "left": null,
       "margin": null,
       "max_height": null,
       "max_width": null,
       "min_height": null,
       "min_width": null,
       "object_fit": null,
       "object_position": null,
       "order": null,
       "overflow": null,
       "overflow_x": null,
       "overflow_y": null,
       "padding": null,
       "right": null,
       "top": null,
       "visibility": null,
       "width": null
      }
     },
     "d1c5067a39bf4c36913077b1af88a8b3": {
      "model_module": "@jupyter-widgets/base",
      "model_module_version": "1.2.0",
      "model_name": "LayoutModel",
      "state": {
       "_model_module": "@jupyter-widgets/base",
       "_model_module_version": "1.2.0",
       "_model_name": "LayoutModel",
       "_view_count": null,
       "_view_module": "@jupyter-widgets/base",
       "_view_module_version": "1.2.0",
       "_view_name": "LayoutView",
       "align_content": null,
       "align_items": null,
       "align_self": null,
       "border": null,
       "bottom": null,
       "display": null,
       "flex": null,
       "flex_flow": null,
       "grid_area": null,
       "grid_auto_columns": null,
       "grid_auto_flow": null,
       "grid_auto_rows": null,
       "grid_column": null,
       "grid_gap": null,
       "grid_row": null,
       "grid_template_areas": null,
       "grid_template_columns": null,
       "grid_template_rows": null,
       "height": null,
       "justify_content": null,
       "justify_items": null,
       "left": null,
       "margin": null,
       "max_height": null,
       "max_width": null,
       "min_height": null,
       "min_width": null,
       "object_fit": null,
       "object_position": null,
       "order": null,
       "overflow": null,
       "overflow_x": null,
       "overflow_y": null,
       "padding": null,
       "right": null,
       "top": null,
       "visibility": null,
       "width": null
      }
     },
     "d9c2e0fc6f594311b12cbd10a0ae87e9": {
      "model_module": "@jupyter-widgets/controls",
      "model_module_version": "1.5.0",
      "model_name": "ProgressStyleModel",
      "state": {
       "_model_module": "@jupyter-widgets/controls",
       "_model_module_version": "1.5.0",
       "_model_name": "ProgressStyleModel",
       "_view_count": null,
       "_view_module": "@jupyter-widgets/base",
       "_view_module_version": "1.2.0",
       "_view_name": "StyleView",
       "bar_color": null,
       "description_width": ""
      }
     },
     "dc361be8f46f4d228242a9ae7242a36e": {
      "model_module": "@jupyter-widgets/controls",
      "model_module_version": "1.5.0",
      "model_name": "HTMLModel",
      "state": {
       "_dom_classes": [],
       "_model_module": "@jupyter-widgets/controls",
       "_model_module_version": "1.5.0",
       "_model_name": "HTMLModel",
       "_view_count": null,
       "_view_module": "@jupyter-widgets/controls",
       "_view_module_version": "1.5.0",
       "_view_name": "HTMLView",
       "description": "",
       "description_tooltip": null,
       "layout": "IPY_MODEL_83cba8f005a54253b31c035e9e56c6a7",
       "placeholder": "​",
       "style": "IPY_MODEL_27d9f1bd266f479b9f44a2e388f26543",
       "value": " 1.36M/1.36M [00:00&lt;00:00, 18.8MB/s]"
      }
     },
     "e27c5dbf855d4e1789ada60578200656": {
      "model_module": "@jupyter-widgets/controls",
      "model_module_version": "1.5.0",
      "model_name": "ProgressStyleModel",
      "state": {
       "_model_module": "@jupyter-widgets/controls",
       "_model_module_version": "1.5.0",
       "_model_name": "ProgressStyleModel",
       "_view_count": null,
       "_view_module": "@jupyter-widgets/base",
       "_view_module_version": "1.2.0",
       "_view_name": "StyleView",
       "bar_color": null,
       "description_width": ""
      }
     },
     "e5bdd2af5086432dbb77ee10b2acb33a": {
      "model_module": "@jupyter-widgets/base",
      "model_module_version": "1.2.0",
      "model_name": "LayoutModel",
      "state": {
       "_model_module": "@jupyter-widgets/base",
       "_model_module_version": "1.2.0",
       "_model_name": "LayoutModel",
       "_view_count": null,
       "_view_module": "@jupyter-widgets/base",
       "_view_module_version": "1.2.0",
       "_view_name": "LayoutView",
       "align_content": null,
       "align_items": null,
       "align_self": null,
       "border": null,
       "bottom": null,
       "display": null,
       "flex": null,
       "flex_flow": null,
       "grid_area": null,
       "grid_auto_columns": null,
       "grid_auto_flow": null,
       "grid_auto_rows": null,
       "grid_column": null,
       "grid_gap": null,
       "grid_row": null,
       "grid_template_areas": null,
       "grid_template_columns": null,
       "grid_template_rows": null,
       "height": null,
       "justify_content": null,
       "justify_items": null,
       "left": null,
       "margin": null,
       "max_height": null,
       "max_width": null,
       "min_height": null,
       "min_width": null,
       "object_fit": null,
       "object_position": null,
       "order": null,
       "overflow": null,
       "overflow_x": null,
       "overflow_y": null,
       "padding": null,
       "right": null,
       "top": null,
       "visibility": null,
       "width": null
      }
     },
     "fa5d66bfe9994bbbb39e869d06c93bf3": {
      "model_module": "@jupyter-widgets/controls",
      "model_module_version": "1.5.0",
      "model_name": "DescriptionStyleModel",
      "state": {
       "_model_module": "@jupyter-widgets/controls",
       "_model_module_version": "1.5.0",
       "_model_name": "DescriptionStyleModel",
       "_view_count": null,
       "_view_module": "@jupyter-widgets/base",
       "_view_module_version": "1.2.0",
       "_view_name": "StyleView",
       "description_width": ""
      }
     }
    },
    "version_major": 2,
    "version_minor": 0
   }
  }
 },
 "nbformat": 4,
 "nbformat_minor": 5
}
