{
  "nbformat": 4,
  "nbformat_minor": 0,
  "metadata": {
    "colab": {
      "provenance": [],
      "collapsed_sections": [
        "t5Lcw-a1a4fV",
        "o_ArUg-uar6E",
        "cSG-ldYIot6R",
        "qqmrBeeXozbx",
        "4ErvK6yFmkjD",
        "pZX0-C2TnKJR",
        "l3oTjmX84Egf",
        "UXNiHcBzpmme",
        "lRfHrCNCWQ2S"
      ],
      "authorship_tag": "ABX9TyO6GFQszcn6uXu9yz348Me1",
      "include_colab_link": true
    },
    "kernelspec": {
      "name": "python3",
      "display_name": "Python 3"
    },
    "language_info": {
      "name": "python"
    }
  },
  "cells": [
    {
      "cell_type": "markdown",
      "metadata": {
        "id": "view-in-github",
        "colab_type": "text"
      },
      "source": [
        "<a href=\"https://colab.research.google.com/github/anismehmahi/propaganda_detection/blob/main/chatGPT_4_3-5_turbo_Api.ipynb\" target=\"_parent\"><img src=\"https://colab.research.google.com/assets/colab-badge.svg\" alt=\"Open In Colab\"/></a>"
      ]
    },
    {
      "cell_type": "code",
      "source": [
        "import time\n",
        "import asyncio\n",
        "import aiohttp\n",
        "\n",
        "headers = {\n",
        "    \"Content-Type\": \"application/json\",\n",
          "    \"Authorization\": f\"OpenAI Key Here\"\n",
        "}"
      ],
      "metadata": {
        "id": "mjg8DMHO6Ny1"
      },
      "execution_count": null,
      "outputs": []
    },
    {
      "cell_type": "code",
      "source": [
        "import os\n",
        "import nltk\n",
        "import pandas as pd\n",
        "\n",
        "nltk.download('punkt')"
      ],
      "metadata": {
        "colab": {
          "base_uri": "https://localhost:8080/"
        },
        "id": "m1pBHgfkQbZ6",
        "outputId": "35519d42-fad6-44d5-dec3-efeb09a0b3d4"
      },
      "execution_count": null,
      "outputs": [
        {
          "output_type": "stream",
          "name": "stderr",
          "text": [
            "[nltk_data] Downloading package punkt to /root/nltk_data...\n",
            "[nltk_data]   Unzipping tokenizers/punkt.zip.\n"
          ]
        },
        {
          "output_type": "execute_result",
          "data": {
            "text/plain": [
              "True"
            ]
          },
          "metadata": {},
          "execution_count": 3
        }
      ]
    },
    {
      "cell_type": "code",
      "source": [
        "# import shutil\n",
        "\n",
        "# shutil.rmtree(\"/content/split-articles\")\n"
      ],
      "metadata": {
        "id": "ZY6McmYXX5Pz"
      },
      "execution_count": null,
      "outputs": []
    },
    {
      "cell_type": "markdown",
      "source": [
        "## paper_prompt_base : papers' prompt"
      ],
      "metadata": {
        "id": "t5Lcw-a1a4fV"
      }
    },
    {
      "cell_type": "code",
      "source": [
        "paper_prompt_base = f\"\"\"\n",
        "You are a multi-label text classifier indetifying 14 propaganda techniques within news paper articles. These are the 14 propaganda techniques you classify with definitions and examples:\n",
        "Loaded_Language - Uses specific phrases and words that carry strong emotional impact to affect the audience, e.g. 'a lone lawmaker’s childish shouting.'\n",
        "Name_Calling,Labeling - Gives a label to the object of the propaganda campaign as either the audience hates or loves, e.g. 'Bush the Lesser.'\n",
        "Repetition -  Repeats the message over and over in the article so that the audience will accept it, e.g. 'Our great leader is the epitome of wisdom. Their decisions are always wise and just.'\n",
        "Exaggeration,Minimisation - Either representing something in an excessive manner or making something seem less important than it actually is, e.g. 'I was not fighting with her; we were just playing.'\n",
        "Appeal_to_fear-prejudice - Builds support for an idea by instilling anxiety and/or panic in the audience towards an alternative, e.g. 'stop those refugees; they are terrorists.'\n",
        "Flag-Waving; Playing on strong national feeling (or with respect to a group, e.g., race, gender, political preference) to justify or promote an action or idea, e.g. 'entering this war will make us have a better future in our country.'\n",
        "Causal_Oversimplification -  Assumes a single reason for an issue when there are multiple causes, e.g. 'If France had not declared war on Germany, World War II would have never happened.'\n",
        "Appeal_to_Authority - Supposes that a claim is true because a valid authority or expert on the issue supports it, 'The World Health Organisation stated, the new medicine is the most effective treatment for the disease.'\n",
        "Slogans - A brief and striking phrase that contains labeling and stereotyping, e.g.  “Make America great again!”\n",
        "Thought-terminating_Cliches -  Words or phrases that discourage critical thought and useful discussion about a given topic, e.g. “it is what it is”\n",
        "Whataboutism,Straw_Men,Red_Herring - Attempts to discredit an opponent’s position by charging them with hypocrisy without directly disproving their argument, e.g. 'They want to preserve the FBI’s reputation.'\n",
        "Black-and-White_Fallacy -  Gives two alternative options as the only possibilities, when actually more options exist, e.g. 'You must be a Republican or Democrat'\n",
        "Bandwagon,Reductio_ad_hitlerum - Justify actions or ideas because everyone else is doing it, or reject them because it's favored by groups despised by the target audience, e.g. “Would you vote for Clinton as president? 57% say yes.”\n",
        "Doubt - Questioning the credibility of someone or something, e.g. 'Is he ready to be the Mayor?'\n",
        "\n",
        "For the given article please state which of the 14 propaganda techniques are present. If no propaganda technique was identified return \"no propaganda detected\". An example output would list the propaganda techniques with each technique in a new line, e.g.:\n",
        "Loaded_Language\n",
        "Thought-terminating_Cliches\n",
        "Repetition\n",
        "Here is the article:\n",
        "\n",
        "\"\"\"\n",
        "\n"
      ],
      "metadata": {
        "id": "w_MpWcTYalPg"
      },
      "execution_count": null,
      "outputs": []
    },
    {
      "cell_type": "markdown",
      "source": [
        "##paper_prompt_COT : chain-of-thought papers' prompt"
      ],
      "metadata": {
        "id": "o_ArUg-uar6E"
      }
    },
    {
      "cell_type": "code",
      "source": [
        "\n",
        "paper_prompt_COT = f\"\"\"\n",
        "You are a multi-label text classifier indetifying 14 propaganda techniques within news paper articles. These are the 14 propaganda techniques you classify with definitions and examples:\n",
        "Loaded_Language - Uses specific phrases and words that carry strong emotional impact to affect the audience, e.g. 'a lone lawmaker’s childish shouting.'\n",
        "Name_Calling,Labeling - Gives a label to the object of the propaganda campaign as either the audience hates or loves, e.g. 'Bush the Lesser.'\n",
        "Repetition -  Repeats the message over and over in the article so that the audience will accept it, e.g. 'Our great leader is the epitome of wisdom. Their decisions are always wise and just.'\n",
        "Exaggeration,Minimisation - Either representing something in an excessive manner or making something seem less important than it actually is, e.g. 'I was not fighting with her; we were just playing.'\n",
        "Appeal_to_fear-prejudice - Builds support for an idea by instilling anxiety and/or panic in the audience towards an alternative, e.g. 'stop those refugees; they are terrorists.'\n",
        "Flag-Waving; Playing on strong national feeling (or with respect to a group, e.g., race, gender, political preference) to justify or promote an action or idea, e.g. 'entering this war will make us have a better future in our country.'\n",
        "Causal_Oversimplification -  Assumes a single reason for an issue when there are multiple causes, e.g. 'If France had not declared war on Germany, World War II would have never happened.'\n",
        "Appeal_to_Authority - Supposes that a claim is true because a valid authority or expert on the issue supports it, 'The World Health Organisation stated, the new medicine is the most effective treatment for the disease.'\n",
        "Slogans - A brief and striking phrase that contains labeling and stereotyping, e.g.  “Make America great again!”\n",
        "Thought-terminating_Cliches -  Words or phrases that discourage critical thought and useful discussion about a given topic, e.g. “it is what it is”\n",
        "Whataboutism,Straw_Men,Red_Herring - Attempts to discredit an opponent’s position by charging them with hypocrisy without directly disproving their argument, e.g. 'They want to preserve the FBI’s reputation.'\n",
        "Black-and-White_Fallacy -  Gives two alternative options as the only possibilities, when actually more options exist, e.g. 'You must be a Republican or Democrat'\n",
        "Bandwagon,Reductio_ad_hitlerum - Justify actions or ideas because everyone else is doing it, or reject them because it's favored by groups despised by the target audience, e.g. “Would you vote for Clinton as president? 57% say yes.”\n",
        "Doubt - Questioning the credibility of someone or something, e.g. 'Is he ready to be the Mayor?'\n",
        "\n",
        "For the given article please state which of the 14 propaganda techniques are present and give an explanation to why the technique is present in the article. If no propaganda technique was identified return \"no propaganda detected\". An example output would list the propaganda techniques with each technique in a new line, e.g.:\n",
        "Loaded_Language - Your explanation why this technique is present in the article.\n",
        "Thought-terminating_Cliches - Your explanation why this technique is present in the article.\n",
        "Repetition - Your explanation why this technique is present in the article.\n",
        "Here is the article:\n",
        "\n",
        "\"\"\""
      ],
      "metadata": {
        "id": "x3AZuTxCarN0"
      },
      "execution_count": null,
      "outputs": []
    },
    {
      "cell_type": "markdown",
      "source": [
        "## guidlines_prompt : give sentences + text and gpt classify those sentences"
      ],
      "metadata": {
        "id": "cSG-ldYIot6R"
      }
    },
    {
      "cell_type": "code",
      "source": [
        "guidlines_prompt = f'''\n",
        "You are expert in propaganda detection, here are guidelines for annotating a text to determine whether it contains propaganda or not or can not be classified :\n",
        "\n",
        "  Exposes a rational argument?\n",
        "   - Yes:\n",
        "      - do you need more external information to judge ?\n",
        "        - Yes: IDK\n",
        "        - No:\n",
        "          - Adds irrelevant data or changes the argument?\n",
        "            - Yes: Propaganda (Whataboutism)\n",
        "            - No:\n",
        "                - Stating that a claim is true simply because a valid authority or expert on the issue said it was true, without any other supporting evidence offered ?\n",
        "                  - Yes: Propaganda (Appeal to authority)\n",
        "                  - No:\n",
        "                      - Starts with obvious but too abstract things?\n",
        "                        - Yes: Propaganda\n",
        "                        - No: Not propaganda\n",
        "   - No:\n",
        "      - Object of the sentence with respect to the main topic is:\n",
        "         1. The very same topic:\n",
        "            - Uses emotional words?\n",
        "               - Yes: to prove an argument (appeal-to-fear, repetition, doubt) or without concrete argument (loaded language, flag-waving) then : Propaganda\n",
        "               - No: Not propaganda\n",
        "         2. A person with a different position:\n",
        "            - Target being attacked/diminished?\n",
        "               - Yes: Propaganda (name calling / labeling)\n",
        "               - No: Not propaganda\n",
        "         3. A third figure:\n",
        "            - Tries to persuade?\n",
        "               - Yes: to approve (Propaganda reductio ad hitlerum ) or to disapprove (Propaganda bandwagon)\n",
        "               - No: Not propaganda\n",
        "\n",
        "given the guidlines above, here is a text :\n",
        "\n",
        "'''\n",
        "\n",
        "\n",
        "\n",
        "# guidlines_prompt = f'''\n",
        "# You are expert in propaganda detection, here are guidelines for annotating a text to determine whether it contains propaganda or not or can not be classified :\n",
        "\n",
        "#   Exposes a rational argument?\n",
        "#    - Yes:\n",
        "#       - do you need more external information to judge ?\n",
        "#         - Yes: IDK\n",
        "#         - No:\n",
        "#           - Adds irrelevant data or changes the argument?\n",
        "#             - Yes: Propaganda (Whataboutism)\n",
        "#             - No:\n",
        "#                 - Stating that a claim is true simply because a valid authority or expert on the issue said it was true, without any other supporting evidence offered ?\n",
        "#                   - Yes: Propaganda (Appeal to authority)\n",
        "#                   - No:\n",
        "#                       - Starts with obvious but too abstract things?\n",
        "#                         - Yes: Propaganda\n",
        "#                         - No: Not propaganda\n",
        "#                 - Trying to reduce the problem to only one cause ? : Propaganda Causal Oversimplification\n",
        "#    - No:\n",
        "#       - Object of the sentence with respect to the main topic is:\n",
        "#          1. The very same topic:\n",
        "#             - Uses emotional words?\n",
        "#                - Yes: to prove an argument (appeal-to-fear, repetition, doubt) or without concrete argument (loaded language, flag-waving) then : Propaganda\n",
        "#                - No: Not propaganda\n",
        "#          2. A person with a different position:\n",
        "#             - Target being attacked/diminished?\n",
        "#                - Yes: Propaganda (name calling / labeling)\n",
        "#                - No: Not propaganda\n",
        "#          3. A third figure:\n",
        "#             - Tries to persuade?\n",
        "#                - Yes: to approve (Propaganda reductio ad hitlerum ) or to disapprove (Propaganda bandwagon)\n",
        "#                - No: Not propaganda\n",
        "\n",
        "# given the guidlines above, here is a text :\n",
        "# {text}\n",
        "\n",
        "# - what techniques are used in these sentences and give the path you used from the guidlines:\n",
        "# {bullet_sentences}\n",
        "\n",
        "# '''\n",
        "\n"
      ],
      "metadata": {
        "id": "_XhVKRdU7nuM"
      },
      "execution_count": null,
      "outputs": []
    },
    {
      "cell_type": "markdown",
      "source": [
        "## guidlines_prompt_2 : guidlines + no sentences + text and gpt extracts sentences and their techniques"
      ],
      "metadata": {
        "id": "qqmrBeeXozbx"
      }
    },
    {
      "cell_type": "code",
      "source": [
        "\n",
        "\n",
        "guidlines_prompt_2 = f'''\n",
        "You are expert in propaganda detection, here are guidelines for annotating a text to determine whether it contains propaganda or not or can not be classified :\n",
        "\n",
        "  Exposes a rational argument?\n",
        "   - Yes:\n",
        "      - do you need more external information to judge ?\n",
        "        - Yes: IDK\n",
        "        - No:\n",
        "          - Adds irrelevant data or changes the argument?\n",
        "            - Yes: Propaganda (Whataboutism)\n",
        "            - No:\n",
        "                - Stating that a claim is true simply because a valid authority or expert on the issue said it was true, without any other supporting evidence offered ?\n",
        "                  - Yes: Propaganda (Appeal to authority)\n",
        "                  - No:\n",
        "                      - Starts with obvious but too abstract things?\n",
        "                        - Yes: Propaganda\n",
        "                        - No: Not propaganda\n",
        "   - No:\n",
        "      - Object of the sentence with respect to the main topic is:\n",
        "         1. The very same topic:\n",
        "            - Uses emotional words?\n",
        "               - Yes: to prove an argument (appeal-to-fear, repetition, doubt) or without concrete argument (loaded language, flag-waving) then : Propaganda\n",
        "               - No: Not propaganda\n",
        "         2. A person with a different position:\n",
        "            - Target being attacked/diminished?\n",
        "               - Yes: Propaganda (name calling / labeling)\n",
        "               - No: Not propaganda\n",
        "         3. A third figure:\n",
        "            - Tries to persuade?\n",
        "               - Yes: to approve (Propaganda reductio ad hitlerum ) or to disapprove (Propaganda bandwagon)\n",
        "               - No: Not propaganda\n",
        "\n",
        "given the guidlines above, here is a text :\n",
        "{text}\n",
        "\n",
        "- what techniques are used in the text and give the path you used from the guidlines.\n",
        "'''\n"
      ],
      "metadata": {
        "id": "Mty2aFfAo-iz"
      },
      "execution_count": null,
      "outputs": []
    },
    {
      "cell_type": "markdown",
      "source": [
        "## prompt_definitions : definitions + give sentences + text and gpt classify those sentences"
      ],
      "metadata": {
        "id": "4ErvK6yFmkjD"
      }
    },
    {
      "cell_type": "code",
      "source": [
        "prompt_definitions = f'''\n",
        "\n",
        "Here are some definitions related to propaganda and how to detecte the technique used for it, please read them carrefuly.\n",
        "\n",
        "1.Whataboutism\n",
        "A technique that attempts to discredit an opponent's position by charging them with hypocrisy without directly disproving their argument.\n",
        "Example 1: a nation deflects criticism of its recent human rights violations by\n",
        "pointing to the history of slavery in the United States.\n",
        "Example 2: \"Qatar spending profusely on Neymar, not fighting terrorism\"\n",
        "\n",
        "2.Causal Oversimplification\n",
        "Assuming a single cause or reason when there are actually multiple causes for an issue.\n",
        "It includes transferring  blame to one  person or  group of people without investigating  the complexities of the issue\n",
        "Example 1: \"President Trump has been in office for a month and gas prices have been skyrocketing. The rise in gas prices is because of President Trump.\"\n",
        "Example 2: The reason New Orleans was hit so hard with the hurricane was\n",
        "because of all the immoral people who live there.\n",
        "Explanation: This was an actual argument seen in the months that followed\n",
        "hurricane Katrina. Ignoring the validity of the claims being made,\n",
        "the arguer is blaming a natural disaster on a group of people. Example 3: if France had not have declared war on Germany then world war two\n",
        "would have never happened.\n",
        "\n",
        "3. Appeal to authority\n",
        "Stating that a claim is true simply because a valid authority or expert on the issue said it was true, without any other supporting evidence offered.\n",
        "Example: Richard Dawkins, an evolutionary biologist and perhaps the foremost expert in the field, says that evolution is true. Therefore, it's true. Explanation: Richard Dawkins certainly knows about evolution, and he can confidently tell us that it is true, but that doesn't make it true. What makes it true is the preponderance of evidence for the theory. Example 2: \"According to Serena Williams, our foreign policy is the best on Earth. So we are in the right direction.\" Details: since there is a chance that any authority can be wrong, it is reasonable to defer to an authority to support a claim, but the authority should not be the only justification to accept the claim, otherwise the Appeal-to-Authority fallacy is committed.\n",
        "\n",
        "4. Black-and-white Fallacy, Dictatorship\n",
        "Presenting two alternative options as the only possibilities, when in fact more possibilities exist. As an the extreme case, tell the audience exactly what actions to take, eliminating any other possible choices (Dictatorship).\n",
        "Example 1: You must be a Republican or Democrat. You are not a Democrat. Therefore, you must be a Republican Example 2: I thought you were a good person, but you weren't at church today. Explanation: The assumption here is that if one doesn't attend church, one must be bad. Of course, good people exist who don't go to church, and good church-going people could have had a really good reason not to be in church. Example 3: There is no alternative to war\n",
        "\n",
        "5. Name calling or labeling\n",
        "Labeling the object of the propaganda campaign as either something the target audience fears, hates, finds undesirable or loves, praises.\n",
        "Examples: \"Republican congressweasels\", \"Bush the Lesser\" (note that lesser does not refer to \"the second\", but it is pejorative)\n",
        "\n",
        "6. Loaded Language\n",
        "Using specific words and phrases with strong emotional implications (either positive or negative) to influence an audience.\n",
        "Example 1: \"[...] a lone lawmaker's childish shouting. \". Example 2: \"how stupid and petty things have become in Washington\"\n",
        "\n",
        "7. Exaggeration or Minimisation\n",
        "Either representing something in an excessive manner: making things larger, better, worse (e.g., \"the best of the best\", \"quality guaranteed\") or making something seem less important or smaller than it really is (e.g., saying that an insult was just a joke).\n",
        "Example 1: \"Democrats bolted as soon as Trump's speech ended in an apparent effort to signal they can't even stomach being in the same room as the president \" Example 2: \"We're going to have unbelievable intelligence\" Example 3: I was not fighting with her; we were just playing.\n",
        "\n",
        "8. Flag-waving\n",
        "Playing on strong national feeling (or to any group; e.g., race, gender, political preference) to justify or promote an action or idea\n",
        "Example 1: \"patriotism mean no questions\" (this is also a slogan) Example 2: \"entering this war will make us have a better future in our country.\"\n",
        "\n",
        "9. Doubt\n",
        "Questioning the credibility of someone or something.\n",
        "Example: A candidate talks about his opponent and says: Is he ready to be the Mayor?\n",
        "\n",
        "10. Appeal to fear/prejudice\n",
        "Seeking to build support for an idea by instilling anxiety and/or panic in the population towards an alternative. In some cases the support is built based on preconceived judgements.\n",
        "Example 1: \"either we go to war or we will perish\" (this is also a Black and White fallacy)) Example 2: \"we must stop those refugees as they are terrorists\"\n",
        "\n",
        "11. Repetition\n",
        "Repeating the same message over and over again so that the audience will eventually accept it.\n",
        "Example : It won’t take away Iran’s enriched uranium, ... It won’t destroy Iran’s nuclear installations ... An improved deal won’t destroy Iran’s centrifuges.\n",
        "\n",
        "\n",
        "12. Reductio ad hitlerum\n",
        "Persuading an audience to disapprove an action or idea by suggesting that the idea is popular with\n",
        "groups hated in contempt by the target audience. It can refer to any person or concept with a\n",
        "negative connotation.\n",
        "Example 1: \"Do you know who else was doing that ? Hitler!\"\n",
        "Example 2: \"Only one kind of person can think in that way: a communist.\"\n",
        "\n",
        "\n",
        "given the definitions above, here is a text :\n",
        "{text}\n",
        "\n",
        "- what techniques are used in each of these sentences :\n",
        "{bullet_sentences}\n",
        "\n",
        "'''"
      ],
      "metadata": {
        "id": "-lUrZYdpCx_-"
      },
      "execution_count": null,
      "outputs": []
    },
    {
      "cell_type": "markdown",
      "source": [
        "## prompt_definitions_2 : definitions + no sentences + text and gpt extracts sentences and their techniques"
      ],
      "metadata": {
        "id": "pZX0-C2TnKJR"
      }
    },
    {
      "cell_type": "code",
      "source": [
        "prompt_definitions_2 = f'''\n",
        "\n",
        "Here are some definitions related to propaganda and how to detecte the technique used for it, please read them carrefuly.\n",
        "\n",
        "1.Whataboutism\n",
        "A technique that attempts to discredit an opponent's position by charging them with hypocrisy without directly disproving their argument.\n",
        "Example 1: a nation deflects criticism of its recent human rights violations by\n",
        "pointing to the history of slavery in the United States.\n",
        "Example 2: \"Qatar spending profusely on Neymar, not fighting terrorism\"\n",
        "\n",
        "2.Causal Oversimplification\n",
        "Assuming a single cause or reason when there are actually multiple causes for an issue.\n",
        "It includes transferring  blame to one  person or  group of people without investigating  the complexities of the issue\n",
        "Example 1: \"President Trump has been in office for a month and gas prices have been skyrocketing. The rise in gas prices is because of President Trump.\"\n",
        "Example 2: The reason New Orleans was hit so hard with the hurricane was\n",
        "because of all the immoral people who live there.\n",
        "Explanation: This was an actual argument seen in the months that followed\n",
        "hurricane Katrina. Ignoring the validity of the claims being made,\n",
        "the arguer is blaming a natural disaster on a group of people. Example 3: if France had not have declared war on Germany then world war two\n",
        "would have never happened.\n",
        "\n",
        "3. Appeal to authority\n",
        "Stating that a claim is true simply because a valid authority or expert on the issue said it was true, without any other supporting evidence offered.\n",
        "Example: Richard Dawkins, an evolutionary biologist and perhaps the foremost expert in the field, says that evolution is true. Therefore, it's true. Explanation: Richard Dawkins certainly knows about evolution, and he can confidently tell us that it is true, but that doesn't make it true. What makes it true is the preponderance of evidence for the theory. Example 2: \"According to Serena Williams, our foreign policy is the best on Earth. So we are in the right direction.\" Details: since there is a chance that any authority can be wrong, it is reasonable to defer to an authority to support a claim, but the authority should not be the only justification to accept the claim, otherwise the Appeal-to-Authority fallacy is committed.\n",
        "\n",
        "4. Black-and-white Fallacy, Dictatorship\n",
        "Presenting two alternative options as the only possibilities, when in fact more possibilities exist. As an the extreme case, tell the audience exactly what actions to take, eliminating any other possible choices (Dictatorship).\n",
        "Example 1: You must be a Republican or Democrat. You are not a Democrat. Therefore, you must be a Republican Example 2: I thought you were a good person, but you weren't at church today. Explanation: The assumption here is that if one doesn't attend church, one must be bad. Of course, good people exist who don't go to church, and good church-going people could have had a really good reason not to be in church. Example 3: There is no alternative to war\n",
        "\n",
        "5. Name calling or labeling\n",
        "Labeling the object of the propaganda campaign as either something the target audience fears, hates, finds undesirable or loves, praises.\n",
        "Examples: \"Republican congressweasels\", \"Bush the Lesser\" (note that lesser does not refer to \"the second\", but it is pejorative)\n",
        "\n",
        "6. Loaded Language\n",
        "Using specific words and phrases with strong emotional implications (either positive or negative) to influence an audience.\n",
        "Example 1: \"[...] a lone lawmaker's childish shouting. \". Example 2: \"how stupid and petty things have become in Washington\"\n",
        "\n",
        "7. Exaggeration or Minimisation\n",
        "Either representing something in an excessive manner: making things larger, better, worse (e.g., \"the best of the best\", \"quality guaranteed\") or making something seem less important or smaller than it really is (e.g., saying that an insult was just a joke).\n",
        "Example 1: \"Democrats bolted as soon as Trump's speech ended in an apparent effort to signal they can't even stomach being in the same room as the president \" Example 2: \"We're going to have unbelievable intelligence\" Example 3: I was not fighting with her; we were just playing.\n",
        "\n",
        "8. Flag-waving\n",
        "Playing on strong national feeling (or to any group; e.g., race, gender, political preference) to justify or promote an action or idea\n",
        "Example 1: \"patriotism mean no questions\" (this is also a slogan) Example 2: \"entering this war will make us have a better future in our country.\"\n",
        "\n",
        "9. Doubt\n",
        "Questioning the credibility of someone or something.\n",
        "Example: A candidate talks about his opponent and says: Is he ready to be the Mayor?\n",
        "\n",
        "10. Appeal to fear/prejudice\n",
        "Seeking to build support for an idea by instilling anxiety and/or panic in the population towards an alternative. In some cases the support is built based on preconceived judgements.\n",
        "Example 1: \"either we go to war or we will perish\" (this is also a Black and White fallacy)) Example 2: \"we must stop those refugees as they are terrorists\"\n",
        "\n",
        "11. Slogans\n",
        "A brief and striking phrase that may include labeling and stereotyping. Slogans tend to act as emotional appeals.\n",
        "Example 1: \"The more women at war . . . the sooner we win.\" Example 2: \"Make America great again!\"\n",
        "\n",
        "12. Bandwagon\n",
        "Attempting to persuade the target audience to join in and take the course of action because\n",
        "\"everyone else is taking the same action\".\n",
        "Example 1: Would you vote for Clinton as president? 57% say yes Example 2: 90% of citizens support\n",
        "our initiative. You should.\n",
        "\n",
        "13. Reductio ad hitlerum\n",
        "Persuading an audience to disapprove an action or idea by suggesting that the idea is popular with\n",
        "groups hated in contempt by the target audience. It can refer to any person or concept with a\n",
        "negative connotation.\n",
        "\n",
        "Example 1: \"Do you know who else was doing that ? Hitler!\"\n",
        "Example 2: \"Only one kind of person can think in that way: a communist.\"\n",
        "\n",
        "14. Repetition\n",
        "Repeating the same message over and over again so that the audience will eventually accept it.\n",
        "Example : It won’t take away Iran’s enriched uranium, ... It won’t destroy Iran’s nuclear installations ... An improved deal won’t destroy Iran’s centrifuges.\n",
        "\n",
        "given the definitions above, here is a text :\n",
        "{text}\n",
        "\n",
        "- what techniques are used in the given text, extract sentences where those techniques appeared ?\n",
        "\n",
        "'''"
      ],
      "metadata": {
        "id": "o603jXpPnIvh"
      },
      "execution_count": null,
      "outputs": []
    },
    {
      "cell_type": "markdown",
      "source": [
        "## Split long articles (10000 TPM)"
      ],
      "metadata": {
        "id": "l3oTjmX84Egf"
      }
    },
    {
      "cell_type": "code",
      "source": [
        "# here we should split long text and get their labels too and then maybe we can pass them to gpt 4 and do chain of thoughts\n",
        "# this function is used to divide test articles into 1500 tokens and get to each part the techniques used in it. this is all to get rid of that 10000 TPM caused in GPT-4\n",
        "\n",
        "paths_in = ['/content/test-articles/',]\n",
        "paths_out = ['/content/split-articles/test-articles/', ]\n",
        "\n",
        "def write_to_file(text, file_name, labels, label_file_name):\n",
        "    with open(file_name, 'w', encoding=\"utf-8\") as f:\n",
        "        f.write(text)\n",
        "\n",
        "    with open(label_file_name, 'w', encoding=\"utf-8\") as f:\n",
        "        labels = list(set(labels))\n",
        "        for label in labels:\n",
        "            f.write(f'{label}\\n')\n",
        "\n",
        "for path_in, path_out in zip(paths_in, paths_out):\n",
        "    files = os.listdir(path_in)\n",
        "    files.sort()\n",
        "    for file_name in files:\n",
        "        chunk_size = 1000  # adjust this value as needed\n",
        "        # print('dddd', len(files))\n",
        "        with open(path_in+file_name, 'r') as f:\n",
        "            text = f.read()\n",
        "        if path_in.endswith('test-articles/'):\n",
        "            label_df = pd.read_csv(path_in.replace('test-articles', 'test-labels-task-flc-tc') + file_name.split(\".\")[0]+\".task-flc-tc.labels\", sep='\\t', header=None, names=['filename', 'label', 'start', 'end'])\n",
        "        else:\n",
        "            label_df = pd.read_csv(path_in.replace('dev-articles', 'dev-labels-task-flc-tc') + file_name.split(\".\")[0]+\".task-flc-tc.labels\", sep='\\t', header=None, names=['filename', 'label', 'start', 'end'])\n",
        "\n",
        "        # split the text into sentences\n",
        "        sentences = nltk.sent_tokenize(text)\n",
        "\n",
        "        subfile_index = 1\n",
        "        subfile_sentences = []\n",
        "        upper_boundary = 0\n",
        "        lower_boundary = 0\n",
        "        for sentence in sentences:\n",
        "            sentence_length = len(sentence)\n",
        "            if upper_boundary + sentence_length + 1 > chunk_size:  # +1 for the space between sentences\n",
        "                # write the current chunk to a file\n",
        "                subfile_text = ' '.join(subfile_sentences)\n",
        "                if subfile_index == 1:\n",
        "                    labels = label_df[label_df['end'] <= upper_boundary].label.values\n",
        "                else:\n",
        "                    labels = label_df[(label_df['start'] > lower_boundary)&(label_df['end'] <= upper_boundary)].label.values\n",
        "                # print(\"subfile_index:\", subfile_index, \"boundaries:\", lower_boundary, upper_boundary, \"chunksize:\", chunk_size)\n",
        "                if path_out.endswith('test-articles/'):\n",
        "                    # print(\"dddddddddd\")\n",
        "                    write_to_file(subfile_text, f'{path_out}{file_name.split(\".\")[0]}_{subfile_index}.txt', labels , f'{path_out.replace(\"test-articles\", \"test-labels\")}{file_name.split(\".\")[0]}_{subfile_index}.txt')\n",
        "                else:\n",
        "                    write_to_file(subfile_text, f'{path_out}{file_name.split(\".\")[0]}_{subfile_index}.txt', labels , f'{path_out.replace(\"dev-articles\", \"dev-labels\")}{file_name.split(\".\")[0]}_{subfile_index}.txt')\n",
        "                # start a new chunk\n",
        "                lower_boundary = upper_boundary\n",
        "                subfile_sentences = [sentence]\n",
        "                upper_boundary += sentence_length + 1\n",
        "                subfile_index += 1\n",
        "                chunk_size = upper_boundary + 1500\n",
        "            else:\n",
        "                # add the sentence to the current chunk\n",
        "                subfile_sentences.append(sentence)\n",
        "                upper_boundary += sentence_length + 1  # +1 for the space between sentences\n",
        "\n",
        "        # don't forget the last chunk\n",
        "        if subfile_sentences:\n",
        "            subfile_text = ' '.join(subfile_sentences)\n",
        "            labels = label_df[(label_df['end'] > lower_boundary)].label.values\n",
        "            #print(\"subfile_index:\", subfile_index, \"boundaries:\", lower_boundary, upper_boundary, \"chunksize:\", chunk_size)\n",
        "            if path_out.endswith('test-articles/'):\n",
        "                write_to_file(subfile_text, f'{path_out}{file_name.split(\".\")[0]}_{subfile_index}.txt', labels , f'{path_out.replace(\"test-articles\", \"test-labels\")}{file_name.split(\".\")[0]}_{subfile_index}.txt')\n",
        "            else:\n",
        "                write_to_file(subfile_text, f'{path_out}{file_name.split(\".\")[0]}_{subfile_index}.txt', labels , f'{path_out.replace(\"dev-articles\", \"dev-labels\")}{file_name.split(\".\")[0]}_{subfile_index}.txt')"
      ],
      "metadata": {
        "id": "m5G_8MdX4MVK"
      },
      "execution_count": null,
      "outputs": []
    },
    {
      "cell_type": "markdown",
      "source": [
        "## Predict"
      ],
      "metadata": {
        "id": "UXNiHcBzpmme"
      }
    },
    {
      "cell_type": "code",
      "source": [
        "import os\n",
        "# prepare a list with all the prompt + text to give them to gpt\n",
        "# Folder containing the articles\n",
        "articles_folder = '/content/dev-articles/'\n",
        "paper_prompt = paper_prompt_base\n",
        "files_path = []\n",
        "# Initialize an empty list to store prompts\n",
        "prompts = []\n",
        "files_name=sorted(os.listdir(articles_folder))\n",
        "# Iterate through the files in the articles folder\n",
        "for filename in files_name:\n",
        "    if filename.endswith(\".txt\"):\n",
        "        # Read the content of the article\n",
        "        print(filename)\n",
        "        files_path.append(filename)\n",
        "        with open(os.path.join(articles_folder, filename), 'r', encoding='utf-8') as article_file:\n",
        "            article_text = article_file.read()\n",
        "\n",
        "        # Combine the base prompt with the article text\n",
        "        combined_prompt = paper_prompt+article_text\n",
        "\n",
        "        # Append the combined prompt to the list\n",
        "        prompts.append(combined_prompt)\n"
      ],
      "metadata": {
        "id": "Y0WHmUzWbM6n"
      },
      "execution_count": null,
      "outputs": []
    },
    {
      "cell_type": "code",
      "source": [
        "len(prompts)"
      ],
      "metadata": {
        "colab": {
          "base_uri": "https://localhost:8080/"
        },
        "id": "YO4hvPcfdope",
        "outputId": "a4a822eb-2479-4484-da74-5ebf7705fc6d"
      },
      "execution_count": null,
      "outputs": [
        {
          "output_type": "execute_result",
          "data": {
            "text/plain": [
              "75"
            ]
          },
          "metadata": {},
          "execution_count": 77
        }
      ]
    },
    {
      "cell_type": "code",
      "source": [
        "!unzip \"/content/sprenkamp LLM_propaganda_detection main data-propaganda_text_classification_full-articles_dev-articles.zip\" -d \"/content/dev-articles/\"\n"
      ],
      "metadata": {
        "id": "388zhPmwtIeH"
      },
      "execution_count": null,
      "outputs": []
    },
    {
      "cell_type": "code",
      "source": [
        "!unzip \"/content/sprenkamp LLM_propaganda_detection main data-propaganda_text_classification_full-articles_dev-labels.zip\" -d \"/content/dev-labels/\"\n"
      ],
      "metadata": {
        "id": "waWjLJ97t6wF"
      },
      "execution_count": null,
      "outputs": []
    },
    {
      "cell_type": "code",
      "source": [
        "# import os\n",
        "# import glob\n",
        "\n",
        "# # List all files in the current directory that start with 'article'\n",
        "# files = glob.glob('article*')\n",
        "\n",
        "# # Iterate over the list of filepaths & remove each file\n",
        "# for file in files:\n",
        "#     try:\n",
        "#         os.remove(file)\n",
        "#         print(f\"Deleted {file}\")\n",
        "#     except OSError as e:\n",
        "#         print(f\"Error: {file} : {e.strerror}\")\n"
      ],
      "metadata": {
        "id": "hk-rxRsDtagF"
      },
      "execution_count": null,
      "outputs": []
    },
    {
      "cell_type": "code",
      "source": [
        "partial_prompts = prompts"
      ],
      "metadata": {
        "id": "1n_f_26CetNY"
      },
      "execution_count": null,
      "outputs": []
    },
    {
      "cell_type": "code",
      "source": [
        "# prblem with gpt-4 is TPM (token per minute) and some times prompt + article > 10K so impossible\n",
        "import asyncio\n",
        "import aiohttp\n",
        "from tenacity import (\n",
        "    retry,\n",
        "    stop_after_attempt,\n",
        "    wait_random_exponential,\n",
        ")\n",
        "\n",
        "\n",
        "\n",
        "completion_list = []\n",
        "class ProgressLog:\n",
        "    def __init__(self, total):\n",
        "        self.total = total\n",
        "        self.done = 0\n",
        "\n",
        "    def increment(self):\n",
        "        self.done = self.done + 1\n",
        "\n",
        "    def __repr__(self):\n",
        "        return f\"Done runs {self.done}/{self.total}.\"\n",
        "\n",
        "@retry(wait=wait_random_exponential(min=60, max=80), stop=stop_after_attempt(2), before_sleep=print, retry_error_callback=lambda _: None)\n",
        "async def get_completion(content, session, semaphore, progress_log):\n",
        "    async with semaphore:\n",
        "        async with session.post(\"https://api.openai.com/v1/chat/completions\", headers=headers, json={\n",
        "            \"model\": \"gpt-4-turbo-preview\",\n",
        "            \"messages\": [{\"role\": \"user\", \"content\": content}],\n",
        "            \"temperature\": 0\n",
        "        }) as resp:\n",
        "\n",
        "            response_json = await resp.json()\n",
        "\n",
        "            progress_log.increment()\n",
        "            print(response_json)\n",
        "\n",
        "            return response_json[\"choices\"][0]['message'][\"content\"]\n",
        "\n",
        "async def get_completion_list(content_list, max_parallel_calls, timeout):\n",
        "    semaphore = asyncio.Semaphore(value=max_parallel_calls)\n",
        "    progress_log = ProgressLog(len(content_list))\n",
        "\n",
        "    async with aiohttp.ClientSession(timeout=aiohttp.ClientTimeout(timeout)) as session:\n",
        "        return await asyncio.gather(*[get_completion(content, session, semaphore, progress_log) for content in content_list])\n",
        "\n",
        "\n",
        "start_time = time.perf_counter()\n",
        "\n",
        "\n",
        "completion_list = await get_completion_list(partial_prompts,1, 40)\n",
        "print(\"Time elapsed: \", time.perf_counter() - start_time, \"seconds.\")\n",
        "# print(completion_list[0])"
      ],
      "metadata": {
        "id": "WwDyG16T-hBd",
        "colab": {
          "base_uri": "https://localhost:8080/"
        },
        "outputId": "ed05909a-470a-41d8-d196-757a2ab9f3b1"
      },
      "execution_count": null,
      "outputs": [
        {
          "output_type": "stream",
          "name": "stdout",
          "text": [
            "{'id': 'chatcmpl-8oZp1ButtbfBAqxKI0cflVilVksbV', 'object': 'chat.completion', 'created': 1707064791, 'model': 'gpt-4-0125-preview', 'choices': [{'index': 0, 'message': {'role': 'assistant', 'content': 'no propaganda detected'}, 'logprobs': None, 'finish_reason': 'stop'}], 'usage': {'prompt_tokens': 1051, 'completion_tokens': 3, 'total_tokens': 1054}, 'system_fingerprint': 'fp_f084bcfc79'}\n",
            "{'id': 'chatcmpl-8oZp2Wm4uAZQ1Ud5rpMpmEG6eML5x', 'object': 'chat.completion', 'created': 1707064792, 'model': 'gpt-4-0125-preview', 'choices': [{'index': 0, 'message': {'role': 'assistant', 'content': 'Loaded_Language\\nAppeal_to_fear-prejudice\\nCausal_Oversimplification\\nDoubt'}, 'logprobs': None, 'finish_reason': 'stop'}], 'usage': {'prompt_tokens': 1277, 'completion_tokens': 23, 'total_tokens': 1300}, 'system_fingerprint': 'fp_f084bcfc79'}\n",
            "{'id': 'chatcmpl-8oZp5QdPO85L8zgPmV4M4OIA1jY0w', 'object': 'chat.completion', 'created': 1707064795, 'model': 'gpt-4-0125-preview', 'choices': [{'index': 0, 'message': {'role': 'assistant', 'content': 'Flag-Waving\\nLoaded_Language'}, 'logprobs': None, 'finish_reason': 'stop'}], 'usage': {'prompt_tokens': 1864, 'completion_tokens': 7, 'total_tokens': 1871}, 'system_fingerprint': 'fp_376b7f78b9'}\n",
            "{'id': 'chatcmpl-8oZp6Qm2TfLjXctF0NpqSOaPJQyhu', 'object': 'chat.completion', 'created': 1707064796, 'model': 'gpt-4-0125-preview', 'choices': [{'index': 0, 'message': {'role': 'assistant', 'content': 'Loaded_Language\\nAppeal_to_fear-prejudice\\nDoubt'}, 'logprobs': None, 'finish_reason': 'stop'}], 'usage': {'prompt_tokens': 848, 'completion_tokens': 16, 'total_tokens': 864}, 'system_fingerprint': 'fp_f084bcfc79'}\n",
            "{'id': 'chatcmpl-8oZp91YjYXmvyWSkUwKcgjdlX5dJE', 'object': 'chat.completion', 'created': 1707064799, 'model': 'gpt-4-0125-preview', 'choices': [{'index': 0, 'message': {'role': 'assistant', 'content': 'Appeal_to_fear-prejudice\\nExaggeration,Minimisation\\nAppeal_to_Authority\\nDoubt'}, 'logprobs': None, 'finish_reason': 'stop'}], 'usage': {'prompt_tokens': 1166, 'completion_tokens': 27, 'total_tokens': 1193}, 'system_fingerprint': 'fp_376b7f78b9'}\n",
            "{'id': 'chatcmpl-8oZpBLZ0cA8eP3Rf6GgucVPgb0Rsi', 'object': 'chat.completion', 'created': 1707064801, 'model': 'gpt-4-0125-preview', 'choices': [{'index': 0, 'message': {'role': 'assistant', 'content': 'Loaded_Language\\nExaggeration,Minimisation\\nAppeal_to_fear-prejudice\\nCausal_Oversimplification\\nDoubt'}, 'logprobs': None, 'finish_reason': 'stop'}], 'usage': {'prompt_tokens': 1477, 'completion_tokens': 31, 'total_tokens': 1508}, 'system_fingerprint': 'fp_f084bcfc79'}\n",
            "{'id': 'chatcmpl-8oZpJu4BPv2LuHQQvaVNFgUXLlHs4', 'object': 'chat.completion', 'created': 1707064809, 'model': 'gpt-4-0125-preview', 'choices': [{'index': 0, 'message': {'role': 'assistant', 'content': 'Appeal_to_Authority\\nDoubt'}, 'logprobs': None, 'finish_reason': 'stop'}], 'usage': {'prompt_tokens': 1108, 'completion_tokens': 10, 'total_tokens': 1118}, 'system_fingerprint': 'fp_f084bcfc79'}\n",
            "{'id': 'chatcmpl-8oZpKJLbPNg3Xvry6fa44y30DCcTF', 'object': 'chat.completion', 'created': 1707064810, 'model': 'gpt-4-0125-preview', 'choices': [{'index': 0, 'message': {'role': 'assistant', 'content': 'Loaded_Language\\nExaggeration,Minimisation\\nAppeal_to_fear-prejudice\\nDoubt'}, 'logprobs': None, 'finish_reason': 'stop'}], 'usage': {'prompt_tokens': 2035, 'completion_tokens': 24, 'total_tokens': 2059}, 'system_fingerprint': 'fp_f084bcfc79'}\n",
            "{'id': 'chatcmpl-8oZpOZfbf5HmrgUfPDZ2YCk1dMgWx', 'object': 'chat.completion', 'created': 1707064814, 'model': 'gpt-4-0125-preview', 'choices': [{'index': 0, 'message': {'role': 'assistant', 'content': 'Loaded_Language\\nExaggeration,Minimisation\\nDoubt'}, 'logprobs': None, 'finish_reason': 'stop'}], 'usage': {'prompt_tokens': 1059, 'completion_tokens': 15, 'total_tokens': 1074}, 'system_fingerprint': 'fp_376b7f78b9'}\n",
            "{'id': 'chatcmpl-8oZpRWxgSzPpobfSQzgeVKrJFHIYw', 'object': 'chat.completion', 'created': 1707064817, 'model': 'gpt-4-0125-preview', 'choices': [{'index': 0, 'message': {'role': 'assistant', 'content': 'Doubt\\nLoaded_Language'}, 'logprobs': None, 'finish_reason': 'stop'}], 'usage': {'prompt_tokens': 1128, 'completion_tokens': 7, 'total_tokens': 1135}, 'system_fingerprint': 'fp_156aa2d12a'}\n",
            "{'id': 'chatcmpl-8oZpTfqbO613AWi0mrXxrldAE7zhr', 'object': 'chat.completion', 'created': 1707064819, 'model': 'gpt-4-0125-preview', 'choices': [{'index': 0, 'message': {'role': 'assistant', 'content': 'Appeal_to_fear-prejudice\\nCausal_Oversimplification\\nDoubt'}, 'logprobs': None, 'finish_reason': 'stop'}], 'usage': {'prompt_tokens': 1378, 'completion_tokens': 19, 'total_tokens': 1397}, 'system_fingerprint': 'fp_376b7f78b9'}\n",
            "{'id': 'chatcmpl-8oZpVqecaP2ioAhvC5Pm9W0iVrJtj', 'object': 'chat.completion', 'created': 1707064821, 'model': 'gpt-4-0125-preview', 'choices': [{'index': 0, 'message': {'role': 'assistant', 'content': 'Whataboutism,Straw_Men,Red_Herring\\nDoubt'}, 'logprobs': None, 'finish_reason': 'stop'}], 'usage': {'prompt_tokens': 1090, 'completion_tokens': 17, 'total_tokens': 1107}, 'system_fingerprint': 'fp_f084bcfc79'}\n",
            "{'id': 'chatcmpl-8oZpYlihaU29epY3qBmSRA7fVzz2Q', 'object': 'chat.completion', 'created': 1707064824, 'model': 'gpt-4-0125-preview', 'choices': [{'index': 0, 'message': {'role': 'assistant', 'content': 'Doubt'}, 'logprobs': None, 'finish_reason': 'stop'}], 'usage': {'prompt_tokens': 1143, 'completion_tokens': 3, 'total_tokens': 1146}, 'system_fingerprint': 'fp_376b7f78b9'}\n",
            "{'id': 'chatcmpl-8oZpZKA4zkX3S4DY5FuKNl7zlYEED', 'object': 'chat.completion', 'created': 1707064825, 'model': 'gpt-4-0125-preview', 'choices': [{'index': 0, 'message': {'role': 'assistant', 'content': 'Exaggeration,Minimisation\\nAppeal_to_fear-prejudice\\nLoaded_Language\\nDoubt'}, 'logprobs': None, 'finish_reason': 'stop'}], 'usage': {'prompt_tokens': 1618, 'completion_tokens': 24, 'total_tokens': 1642}, 'system_fingerprint': 'fp_f084bcfc79'}\n",
            "{'id': 'chatcmpl-8oZpch3HeIxcVpAqNWJigGfFMyoeL', 'object': 'chat.completion', 'created': 1707064828, 'model': 'gpt-4-0125-preview', 'choices': [{'index': 0, 'message': {'role': 'assistant', 'content': 'Loaded_Language\\nAppeal_to_fear-prejudice\\nCausal_Oversimplification\\nExaggeration,Minimisation\\nBlack-and-White_Fallacy\\nDoubt'}, 'logprobs': None, 'finish_reason': 'stop'}], 'usage': {'prompt_tokens': 1574, 'completion_tokens': 39, 'total_tokens': 1613}, 'system_fingerprint': 'fp_f084bcfc79'}\n",
            "{'id': 'chatcmpl-8oZpkBm2tiTfMCoau21LegEM4qSTM', 'object': 'chat.completion', 'created': 1707064836, 'model': 'gpt-4-0125-preview', 'choices': [{'index': 0, 'message': {'role': 'assistant', 'content': 'Loaded_Language\\nName_Calling,Labeling\\nDoubt\\nCausal_Oversimplification\\nAppeal_to_fear-prejudice\\nBlack-and-White_Fallacy'}, 'logprobs': None, 'finish_reason': 'stop'}], 'usage': {'prompt_tokens': 2059, 'completion_tokens': 38, 'total_tokens': 2097}, 'system_fingerprint': 'fp_376b7f78b9'}\n",
            "{'id': 'chatcmpl-8oZpocStarpvZlBEg9SDgMNByfAt5', 'object': 'chat.completion', 'created': 1707064840, 'model': 'gpt-4-0125-preview', 'choices': [{'index': 0, 'message': {'role': 'assistant', 'content': 'Loaded_Language\\nAppeal_to_fear-prejudice\\nFlag-Waving\\nCausal_Oversimplification\\nExaggeration,Minimisation\\nBlack-and-White_Fallacy\\nBandwagon'}, 'logprobs': None, 'finish_reason': 'stop'}], 'usage': {'prompt_tokens': 1675, 'completion_tokens': 42, 'total_tokens': 1717}, 'system_fingerprint': 'fp_f084bcfc79'}\n",
            "{'id': 'chatcmpl-8oZpuknP5lgRMPbA4Hnr0OeOiLLEc', 'object': 'chat.completion', 'created': 1707064846, 'model': 'gpt-4-0125-preview', 'choices': [{'index': 0, 'message': {'role': 'assistant', 'content': 'Loaded_Language\\nName_Calling,Labeling\\nAppeal_to_fear-prejudice\\nFlag-Waving\\nCausal_Oversimplification\\nAppeal_to_Authority\\nExaggeration,Minimisation\\nBlack-and-White_Fallacy\\nBandwagon'}, 'logprobs': None, 'finish_reason': 'stop'}], 'usage': {'prompt_tokens': 2068, 'completion_tokens': 56, 'total_tokens': 2124}, 'system_fingerprint': 'fp_376b7f78b9'}\n",
            "{'id': 'chatcmpl-8oZq0p8SaRlBEls73psCZHLJatgfG', 'object': 'chat.completion', 'created': 1707064852, 'model': 'gpt-4-0125-preview', 'choices': [{'index': 0, 'message': {'role': 'assistant', 'content': 'Loaded_Language\\nName_Calling,Labeling\\nRepetition\\nExaggeration,Minimisation\\nAppeal_to_fear-prejudice\\nFlag-Waving\\nCausal_Oversimplification\\nAppeal_to_Authority\\nSlogans\\nThought-terminating_Cliches\\nWhataboutism,Straw_Men,Red_Herring\\nBlack-and-White_Fallacy\\nBandwagon,Reductio_ad_hitlerum\\nDoubt'}, 'logprobs': None, 'finish_reason': 'stop'}], 'usage': {'prompt_tokens': 3590, 'completion_tokens': 96, 'total_tokens': 3686}, 'system_fingerprint': 'fp_156aa2d12a'}\n",
            "{'id': 'chatcmpl-8oZqAxSd4hs3zPZinzfLbebRZVRXA', 'object': 'chat.completion', 'created': 1707064862, 'model': 'gpt-4-0125-preview', 'choices': [{'index': 0, 'message': {'role': 'assistant', 'content': 'Repetition\\nLoaded_Language\\nAppeal_to_fear-prejudice\\nCausal_Oversimplification\\nAppeal_to_Authority\\nBandwagon,Reductio_ad_hitlerum\\nDoubt'}, 'logprobs': None, 'finish_reason': 'stop'}], 'usage': {'prompt_tokens': 1292, 'completion_tokens': 44, 'total_tokens': 1336}, 'system_fingerprint': 'fp_f084bcfc79'}\n",
            "{'id': 'chatcmpl-8oZqFLNCcvrxLWiXCINDc9lNjUgw0', 'object': 'chat.completion', 'created': 1707064867, 'model': 'gpt-4-0125-preview', 'choices': [{'index': 0, 'message': {'role': 'assistant', 'content': 'Loaded_Language\\nAppeal_to_fear-prejudice\\nName_Calling,Labeling\\nExaggeration,Minimisation\\nCausal_Oversimplification\\nDoubt'}, 'logprobs': None, 'finish_reason': 'stop'}], 'usage': {'prompt_tokens': 1921, 'completion_tokens': 38, 'total_tokens': 1959}, 'system_fingerprint': 'fp_f084bcfc79'}\n",
            "{'id': 'chatcmpl-8oZqJi9GnbaLKESLZVu6Fy3ASEv8C', 'object': 'chat.completion', 'created': 1707064871, 'model': 'gpt-4-0125-preview', 'choices': [{'index': 0, 'message': {'role': 'assistant', 'content': 'Appeal_to_Authority\\nDoubt'}, 'logprobs': None, 'finish_reason': 'stop'}], 'usage': {'prompt_tokens': 1562, 'completion_tokens': 10, 'total_tokens': 1572}, 'system_fingerprint': 'fp_f084bcfc79'}\n",
            "{'id': 'chatcmpl-8oZqK015xlAvtZwfjRWO4rfwcLghQ', 'object': 'chat.completion', 'created': 1707064872, 'model': 'gpt-4-0125-preview', 'choices': [{'index': 0, 'message': {'role': 'assistant', 'content': 'Loaded_Language\\nAppeal_to_fear-prejudice\\nCausal_Oversimplification'}, 'logprobs': None, 'finish_reason': 'stop'}], 'usage': {'prompt_tokens': 1136, 'completion_tokens': 19, 'total_tokens': 1155}, 'system_fingerprint': 'fp_f084bcfc79'}\n",
            "{'id': 'chatcmpl-8oZqMnWngObbPfxEjSSGWRi4Xaf6X', 'object': 'chat.completion', 'created': 1707064874, 'model': 'gpt-4-0125-preview', 'choices': [{'index': 0, 'message': {'role': 'assistant', 'content': 'Loaded_Language\\nAppeal_to_fear-prejudice\\nFlag-Waving'}, 'logprobs': None, 'finish_reason': 'stop'}], 'usage': {'prompt_tokens': 1502, 'completion_tokens': 16, 'total_tokens': 1518}, 'system_fingerprint': 'fp_f084bcfc79'}\n",
            "{'id': 'chatcmpl-8oZqPMegmzJTQZacvg97gAgnARupV', 'object': 'chat.completion', 'created': 1707064877, 'model': 'gpt-4-0125-preview', 'choices': [{'index': 0, 'message': {'role': 'assistant', 'content': 'Doubt'}, 'logprobs': None, 'finish_reason': 'stop'}], 'usage': {'prompt_tokens': 2028, 'completion_tokens': 3, 'total_tokens': 2031}, 'system_fingerprint': 'fp_376b7f78b9'}\n",
            "{'id': 'chatcmpl-8oZqQG7cwhH17kkSR2pZZJkNsCI7A', 'object': 'chat.completion', 'created': 1707064878, 'model': 'gpt-4-0125-preview', 'choices': [{'index': 0, 'message': {'role': 'assistant', 'content': 'Loaded_Language\\nAppeal_to_fear-prejudice\\nCausal_Oversimplification\\nDoubt'}, 'logprobs': None, 'finish_reason': 'stop'}], 'usage': {'prompt_tokens': 1470, 'completion_tokens': 23, 'total_tokens': 1493}, 'system_fingerprint': 'fp_f084bcfc79'}\n",
            "{'id': 'chatcmpl-8oZqUNdoYBNf3EqdiN8JHpnilaO2W', 'object': 'chat.completion', 'created': 1707064882, 'model': 'gpt-4-0125-preview', 'choices': [{'index': 0, 'message': {'role': 'assistant', 'content': 'Loaded_Language\\nAppeal_to_fear-prejudice\\nCausal_Oversimplification\\nDoubt'}, 'logprobs': None, 'finish_reason': 'stop'}], 'usage': {'prompt_tokens': 1595, 'completion_tokens': 23, 'total_tokens': 1618}, 'system_fingerprint': 'fp_f084bcfc79'}\n",
            "{'id': 'chatcmpl-8oZqWoMKwDRjE4BrxCaC7R0hmTP5l', 'object': 'chat.completion', 'created': 1707064884, 'model': 'gpt-4-0125-preview', 'choices': [{'index': 0, 'message': {'role': 'assistant', 'content': 'Loaded_Language\\nName_Calling,Labeling\\nAppeal_to_fear-prejudice\\nCausal_Oversimplification\\nDoubt'}, 'logprobs': None, 'finish_reason': 'stop'}], 'usage': {'prompt_tokens': 1122, 'completion_tokens': 30, 'total_tokens': 1152}, 'system_fingerprint': 'fp_f084bcfc79'}\n",
            "{'id': 'chatcmpl-8oZqZziOfANEWmQ7Zv0XcNI1tBBI4', 'object': 'chat.completion', 'created': 1707064887, 'model': 'gpt-4-0125-preview', 'choices': [{'index': 0, 'message': {'role': 'assistant', 'content': 'Appeal_to_fear-prejudice\\nLoaded_Language\\nDoubt\\nCausal_Oversimplification'}, 'logprobs': None, 'finish_reason': 'stop'}], 'usage': {'prompt_tokens': 1160, 'completion_tokens': 23, 'total_tokens': 1183}, 'system_fingerprint': 'fp_f084bcfc79'}\n",
            "{'id': 'chatcmpl-8oZqc6zLzrRwHCStEAnI7nOQWj6yJ', 'object': 'chat.completion', 'created': 1707064890, 'model': 'gpt-4-0125-preview', 'choices': [{'index': 0, 'message': {'role': 'assistant', 'content': 'Loaded_Language\\nName_Calling,Labeling\\nAppeal_to_fear-prejudice\\nCausal_Oversimplification\\nThought-terminating_Cliches\\nWhataboutism,Straw_Men,Red_Herring\\nDoubt'}, 'logprobs': None, 'finish_reason': 'stop'}], 'usage': {'prompt_tokens': 1562, 'completion_tokens': 51, 'total_tokens': 1613}, 'system_fingerprint': 'fp_376b7f78b9'}\n",
            "<RetryCallState 132527010642480: attempt #1; slept for 15.84; last result: failed (TimeoutError )>\n",
            "{'id': 'chatcmpl-8oZrKLowshISuxD7gyCyf576A5NUj', 'object': 'chat.completion', 'created': 1707064934, 'model': 'gpt-4-0125-preview', 'choices': [{'index': 0, 'message': {'role': 'assistant', 'content': 'Loaded_Language\\nName_Calling,Labeling\\nAppeal_to_fear-prejudice\\nCausal_Oversimplification\\nDoubt'}, 'logprobs': None, 'finish_reason': 'stop'}], 'usage': {'prompt_tokens': 1005, 'completion_tokens': 30, 'total_tokens': 1035}, 'system_fingerprint': 'fp_f084bcfc79'}\n",
            "{'id': 'chatcmpl-8oZrNCZ3ES3oA1kQ8DpUwuNn3vQRv', 'object': 'chat.completion', 'created': 1707064937, 'model': 'gpt-4-0125-preview', 'choices': [{'index': 0, 'message': {'role': 'assistant', 'content': 'Loaded_Language\\nName_Calling,Labeling\\nAppeal_to_fear-prejudice\\nDoubt'}, 'logprobs': None, 'finish_reason': 'stop'}], 'usage': {'prompt_tokens': 1184, 'completion_tokens': 23, 'total_tokens': 1207}, 'system_fingerprint': 'fp_f084bcfc79'}\n",
            "{'id': 'chatcmpl-8oZrPyBaGcmZvYO6RPxKnBCvIp7t2', 'object': 'chat.completion', 'created': 1707064939, 'model': 'gpt-4-0125-preview', 'choices': [{'index': 0, 'message': {'role': 'assistant', 'content': 'Loaded_Language\\nAppeal_to_fear-prejudice\\nCausal_Oversimplification\\nDoubt'}, 'logprobs': None, 'finish_reason': 'stop'}], 'usage': {'prompt_tokens': 1806, 'completion_tokens': 23, 'total_tokens': 1829}, 'system_fingerprint': 'fp_156aa2d12a'}\n",
            "{'id': 'chatcmpl-8oZrR3elaFmDLh5yQshStrhfyqlE5', 'object': 'chat.completion', 'created': 1707064941, 'model': 'gpt-4-0125-preview', 'choices': [{'index': 0, 'message': {'role': 'assistant', 'content': 'Loaded_Language\\nAppeal_to_fear-prejudice\\nName_Calling,Labeling\\nBlack-and-White_Fallacy\\nDoubt'}, 'logprobs': None, 'finish_reason': 'stop'}], 'usage': {'prompt_tokens': 1630, 'completion_tokens': 31, 'total_tokens': 1661}, 'system_fingerprint': 'fp_f084bcfc79'}\n",
            "{'id': 'chatcmpl-8oZrUJUwQzKdX8nX3SaSSjFZb5JWk', 'object': 'chat.completion', 'created': 1707064944, 'model': 'gpt-4-0125-preview', 'choices': [{'index': 0, 'message': {'role': 'assistant', 'content': 'Loaded_Language\\nName_Calling,Labeling\\nDoubt\\nAppeal_to_fear-prejudice\\nWhataboutism,Straw_Men,Red_Herring'}, 'logprobs': None, 'finish_reason': 'stop'}], 'usage': {'prompt_tokens': 1983, 'completion_tokens': 37, 'total_tokens': 2020}, 'system_fingerprint': 'fp_376b7f78b9'}\n",
            "{'id': 'chatcmpl-8oZrZousZ1erlrvURjsn3NNXXBYYR', 'object': 'chat.completion', 'created': 1707064949, 'model': 'gpt-4-0125-preview', 'choices': [{'index': 0, 'message': {'role': 'assistant', 'content': 'Loaded_Language\\nExaggeration,Minimisation\\nAppeal_to_fear-prejudice\\nDoubt'}, 'logprobs': None, 'finish_reason': 'stop'}], 'usage': {'prompt_tokens': 1474, 'completion_tokens': 24, 'total_tokens': 1498}, 'system_fingerprint': 'fp_376b7f78b9'}\n",
            "{'id': 'chatcmpl-8oZrbV6pAhcjm5P12pt6rk9QlGboj', 'object': 'chat.completion', 'created': 1707064951, 'model': 'gpt-4-0125-preview', 'choices': [{'index': 0, 'message': {'role': 'assistant', 'content': 'Doubt'}, 'logprobs': None, 'finish_reason': 'stop'}], 'usage': {'prompt_tokens': 1841, 'completion_tokens': 3, 'total_tokens': 1844}, 'system_fingerprint': 'fp_f084bcfc79'}\n",
            "{'id': 'chatcmpl-8oZrcfNX1pvPdJ3C3ZWa98xjcKCIm', 'object': 'chat.completion', 'created': 1707064952, 'model': 'gpt-4-0125-preview', 'choices': [{'index': 0, 'message': {'role': 'assistant', 'content': 'Loaded_Language\\nName_Calling,Labeling\\nExaggeration,Minimisation\\nAppeal_to_fear-prejudice\\nCausal_Oversimplification\\nDoubt'}, 'logprobs': None, 'finish_reason': 'stop'}], 'usage': {'prompt_tokens': 2161, 'completion_tokens': 38, 'total_tokens': 2199}, 'system_fingerprint': 'fp_f084bcfc79'}\n",
            "{'id': 'chatcmpl-8oZrhSXXK8NkWLSZn5oJTFIrcBngc', 'object': 'chat.completion', 'created': 1707064957, 'model': 'gpt-4-0125-preview', 'choices': [{'index': 0, 'message': {'role': 'assistant', 'content': 'Appeal_to_fear-prejudice\\nLoaded_Language\\nName_Calling,Labeling\\nWhataboutism,Straw_Men,Red_Herring'}, 'logprobs': None, 'finish_reason': 'stop'}], 'usage': {'prompt_tokens': 1458, 'completion_tokens': 33, 'total_tokens': 1491}, 'system_fingerprint': 'fp_f084bcfc79'}\n",
            "{'id': 'chatcmpl-8oZrjgn1t4M0dxKph7fhOMm6LVFF2', 'object': 'chat.completion', 'created': 1707064959, 'model': 'gpt-4-0125-preview', 'choices': [{'index': 0, 'message': {'role': 'assistant', 'content': 'Loaded_Language\\nExaggeration,Minimisation\\nAppeal_to_fear-prejudice\\nCausal_Oversimplification\\nDoubt'}, 'logprobs': None, 'finish_reason': 'stop'}], 'usage': {'prompt_tokens': 1707, 'completion_tokens': 31, 'total_tokens': 1738}, 'system_fingerprint': 'fp_f084bcfc79'}\n",
            "{'id': 'chatcmpl-8oZrnDAubcCo2gILWjkUAty3eEWRZ', 'object': 'chat.completion', 'created': 1707064963, 'model': 'gpt-4-0125-preview', 'choices': [{'index': 0, 'message': {'role': 'assistant', 'content': 'Loaded_Language\\nName_Calling,Labeling\\nAppeal_to_fear-prejudice\\nFlag-Waving\\nCausal_Oversimplification\\nDoubt'}, 'logprobs': None, 'finish_reason': 'stop'}], 'usage': {'prompt_tokens': 1779, 'completion_tokens': 34, 'total_tokens': 1813}, 'system_fingerprint': 'fp_f084bcfc79'}\n",
            "{'id': 'chatcmpl-8oZrqHnPUmRBmZrXyiVtUP5GJvtX7', 'object': 'chat.completion', 'created': 1707064966, 'model': 'gpt-4-0125-preview', 'choices': [{'index': 0, 'message': {'role': 'assistant', 'content': 'Loaded_Language\\nName_Calling,Labeling\\nDoubt'}, 'logprobs': None, 'finish_reason': 'stop'}], 'usage': {'prompt_tokens': 1502, 'completion_tokens': 14, 'total_tokens': 1516}, 'system_fingerprint': 'fp_376b7f78b9'}\n",
            "{'id': 'chatcmpl-8oZrsLbiAhPi3ZNnAkxPPEVsH5UBb', 'object': 'chat.completion', 'created': 1707064968, 'model': 'gpt-4-0125-preview', 'choices': [{'index': 0, 'message': {'role': 'assistant', 'content': 'Loaded_Language\\nName_Calling,Labeling\\nAppeal_to_fear-prejudice\\nCausal_Oversimplification\\nDoubt'}, 'logprobs': None, 'finish_reason': 'stop'}], 'usage': {'prompt_tokens': 1330, 'completion_tokens': 30, 'total_tokens': 1360}, 'system_fingerprint': 'fp_f084bcfc79'}\n",
            "{'id': 'chatcmpl-8oZrvN4eXbfePSbfqgQ8DiJU7oYjI', 'object': 'chat.completion', 'created': 1707064971, 'model': 'gpt-4-0125-preview', 'choices': [{'index': 0, 'message': {'role': 'assistant', 'content': 'Doubt\\nLoaded_Language\\nCausal_Oversimplification\\nAppeal_to_fear-prejudice\\nExaggeration,Minimisation'}, 'logprobs': None, 'finish_reason': 'stop'}], 'usage': {'prompt_tokens': 1597, 'completion_tokens': 31, 'total_tokens': 1628}, 'system_fingerprint': 'fp_f084bcfc79'}\n",
            "{'id': 'chatcmpl-8oZryujUulygG1bqEpe4vdrNYlqOP', 'object': 'chat.completion', 'created': 1707064974, 'model': 'gpt-4-0125-preview', 'choices': [{'index': 0, 'message': {'role': 'assistant', 'content': 'Loaded_Language\\nCausal_Oversimplification\\nAppeal_to_fear-prejudice\\nDoubt'}, 'logprobs': None, 'finish_reason': 'stop'}], 'usage': {'prompt_tokens': 1460, 'completion_tokens': 23, 'total_tokens': 1483}, 'system_fingerprint': 'fp_f084bcfc79'}\n",
            "{'id': 'chatcmpl-8oZs2LqXSYgpJYcfRUn70ltl4MYrZ', 'object': 'chat.completion', 'created': 1707064978, 'model': 'gpt-4-0125-preview', 'choices': [{'index': 0, 'message': {'role': 'assistant', 'content': 'Loaded_Language\\nName_Calling,Labeling\\nExaggeration,Minimisation\\nAppeal_to_fear-prejudice\\nFlag-Waving\\nCausal_Oversimplification\\nDoubt'}, 'logprobs': None, 'finish_reason': 'stop'}], 'usage': {'prompt_tokens': 2772, 'completion_tokens': 42, 'total_tokens': 2814}, 'system_fingerprint': 'fp_156aa2d12a'}\n",
            "{'id': 'chatcmpl-8oZs6BKz5kT3KFx9YCtCY4UGBvoyx', 'object': 'chat.completion', 'created': 1707064982, 'model': 'gpt-4-0125-preview', 'choices': [{'index': 0, 'message': {'role': 'assistant', 'content': 'Loaded_Language\\nDoubt'}, 'logprobs': None, 'finish_reason': 'stop'}], 'usage': {'prompt_tokens': 1513, 'completion_tokens': 7, 'total_tokens': 1520}, 'system_fingerprint': 'fp_f084bcfc79'}\n",
            "{'id': 'chatcmpl-8oZs8JF1DGW51DRNk9TJSmoRCNf3M', 'object': 'chat.completion', 'created': 1707064984, 'model': 'gpt-4-0125-preview', 'choices': [{'index': 0, 'message': {'role': 'assistant', 'content': 'Loaded_Language\\nName_Calling,Labeling\\nDoubt\\nBlack-and-White_Fallacy\\nAppeal_to_fear-prejudice'}, 'logprobs': None, 'finish_reason': 'stop'}], 'usage': {'prompt_tokens': 1923, 'completion_tokens': 31, 'total_tokens': 1954}, 'system_fingerprint': 'fp_376b7f78b9'}\n",
            "{'id': 'chatcmpl-8oZsB54wPbo8fPUpMxb3jRWXKoTz4', 'object': 'chat.completion', 'created': 1707064987, 'model': 'gpt-4-0125-preview', 'choices': [{'index': 0, 'message': {'role': 'assistant', 'content': 'Loaded_Language\\nName_Calling,Labeling\\nAppeal_to_fear-prejudice\\nCausal_Oversimplification\\nDoubt'}, 'logprobs': None, 'finish_reason': 'stop'}], 'usage': {'prompt_tokens': 1437, 'completion_tokens': 30, 'total_tokens': 1467}, 'system_fingerprint': 'fp_f084bcfc79'}\n",
            "{'id': 'chatcmpl-8oZsDOUllZ2ZN48np0AyZaT8NV4uD', 'object': 'chat.completion', 'created': 1707064989, 'model': 'gpt-4-0125-preview', 'choices': [{'index': 0, 'message': {'role': 'assistant', 'content': 'Loaded_Language\\nAppeal_to_fear-prejudice\\nFlag-Waving\\nCausal_Oversimplification\\nAppeal_to_Authority\\nBandwagon\\nDoubt'}, 'logprobs': None, 'finish_reason': 'stop'}], 'usage': {'prompt_tokens': 3432, 'completion_tokens': 37, 'total_tokens': 3469}, 'system_fingerprint': 'fp_f084bcfc79'}\n",
            "{'id': 'chatcmpl-8oZsHdjohCGLurgzleINZcKDu3gW6', 'object': 'chat.completion', 'created': 1707064993, 'model': 'gpt-4-0125-preview', 'choices': [{'index': 0, 'message': {'role': 'assistant', 'content': 'Loaded_Language\\nAppeal_to_fear-prejudice\\nFlag-Waving\\nCausal_Oversimplification\\nAppeal_to_Authority\\nBandwagon\\nDoubt'}, 'logprobs': None, 'finish_reason': 'stop'}], 'usage': {'prompt_tokens': 2422, 'completion_tokens': 37, 'total_tokens': 2459}, 'system_fingerprint': 'fp_f084bcfc79'}\n",
            "{'id': 'chatcmpl-8oZsNWqjr6XIHY3Z1UFRu3gDJimwq', 'object': 'chat.completion', 'created': 1707064999, 'model': 'gpt-4-0125-preview', 'choices': [{'index': 0, 'message': {'role': 'assistant', 'content': 'Based on the content and themes of the article, the following propaganda techniques are present:\\n\\n1. **Appeal_to_fear-prejudice**: The article suggests that the elite are using fear and prejudice to control the narrative and suppress independent media, implying a threat to freedom and democracy.\\n\\n2. **Causal_Oversimplification**: The article simplifies the complex issue of media censorship and control to a battle between the elite (including the DNC) and independent media, ignoring other factors and nuances.\\n\\n3. **Doubt**: The article casts doubt on the credibility of mainstream media and the intentions behind the censorship of independent media pages on Facebook, questioning the motives as purely for elite control.\\n\\n4. **Loaded_Language**: The use of phrases like \"cyber false flagging at its finest\" and \"the global elite\" carries a strong emotional impact and conveys a sense of conspiracy and urgency.\\n\\n5. **Name_Calling,Labeling**: The article labels those involved in the censorship as \"the elite\" and \"Deep State,\" creating an us-vs-them dynamic and simplifying complex issues into good vs evil.\\n\\n6. **Repetition**: The theme of elite control and censorship is repeated throughout the article, reinforcing the message that independent media is under attack by powerful forces.\\n\\n7. **Whataboutism,Straw_Men,Red_Herring**: The article diverts from potential valid criticisms of independent media by focusing on the alleged hypocrisy and actions of the elite and mainstream media, without directly addressing possible flaws within independent media itself.\\n\\n8. **Black-and-White_Fallacy**: The article presents the situation as a clear battle between the good (independent media) and the evil (elite and mainstream media), ignoring the complexity and the possibility of nuance in both camps.\\n\\n9. **Appeal_to_Authority**: The article cites Edward Snowden and other figures as sources of wisdom and truth in the fight against censorship, suggesting their viewpoints validate the article\\'s claims.\\n\\n10. **Bandwagon**: The article suggests that a growing number of people are awakening to the truth provided by independent media, implying that the reader should join this growing consensus against mainstream media and elite control.\\n\\nThese techniques work together to create a narrative that independent media is the victim of a concerted effort by a powerful elite to suppress the truth and control the population, urging the reader to distrust mainstream narratives and join the cause of independent media and free thought.'}, 'logprobs': None, 'finish_reason': 'stop'}], 'usage': {'prompt_tokens': 3098, 'completion_tokens': 491, 'total_tokens': 3589}, 'system_fingerprint': 'fp_376b7f78b9'}\n",
            "{'id': 'chatcmpl-8oZstzrs3WXqQTonnwVBbd5OJGzJK', 'object': 'chat.completion', 'created': 1707065031, 'model': 'gpt-4-0125-preview', 'choices': [{'index': 0, 'message': {'role': 'assistant', 'content': 'Doubt\\nLoaded_Language\\nRepetition'}, 'logprobs': None, 'finish_reason': 'stop'}], 'usage': {'prompt_tokens': 1743, 'completion_tokens': 10, 'total_tokens': 1753}, 'system_fingerprint': 'fp_f084bcfc79'}\n",
            "{'id': 'chatcmpl-8oZsuCRZ3sYgf0rsoziWjSAMk96JT', 'object': 'chat.completion', 'created': 1707065032, 'model': 'gpt-4-0125-preview', 'choices': [{'index': 0, 'message': {'role': 'assistant', 'content': 'Doubt'}, 'logprobs': None, 'finish_reason': 'stop'}], 'usage': {'prompt_tokens': 1430, 'completion_tokens': 3, 'total_tokens': 1433}, 'system_fingerprint': 'fp_376b7f78b9'}\n",
            "{'id': 'chatcmpl-8oZsv8HkhWkUcm9cPlFUrDUR3jNVS', 'object': 'chat.completion', 'created': 1707065033, 'model': 'gpt-4-0125-preview', 'choices': [{'index': 0, 'message': {'role': 'assistant', 'content': 'Repetition\\nLoaded_Language\\nDoubt'}, 'logprobs': None, 'finish_reason': 'stop'}], 'usage': {'prompt_tokens': 1517, 'completion_tokens': 10, 'total_tokens': 1527}, 'system_fingerprint': 'fp_f084bcfc79'}\n",
            "{'id': 'chatcmpl-8oZsxHt7nIzibOdBhvHwevqbgYBQO', 'object': 'chat.completion', 'created': 1707065035, 'model': 'gpt-4-0125-preview', 'choices': [{'index': 0, 'message': {'role': 'assistant', 'content': 'Loaded_Language\\nExaggeration,Minimisation\\nAppeal_to_fear-prejudice\\nFlag-Waving\\nCausal_Oversimplification\\nBandwagon,Reductio_ad_hitlerum\\nDoubt'}, 'logprobs': None, 'finish_reason': 'stop'}], 'usage': {'prompt_tokens': 963, 'completion_tokens': 46, 'total_tokens': 1009}, 'system_fingerprint': 'fp_156aa2d12a'}\n",
            "{'id': 'chatcmpl-8oZt3Lz6zv3IXaUXh3ld51wE10q5i', 'object': 'chat.completion', 'created': 1707065041, 'model': 'gpt-4-0125-preview', 'choices': [{'index': 0, 'message': {'role': 'assistant', 'content': 'no propaganda detected'}, 'logprobs': None, 'finish_reason': 'stop'}], 'usage': {'prompt_tokens': 1215, 'completion_tokens': 3, 'total_tokens': 1218}, 'system_fingerprint': 'fp_156aa2d12a'}\n",
            "{'id': 'chatcmpl-8oZt4PdPPmSBDpDqRf0TitHSpmI1D', 'object': 'chat.completion', 'created': 1707065042, 'model': 'gpt-4-0125-preview', 'choices': [{'index': 0, 'message': {'role': 'assistant', 'content': 'Repetition\\nAppeal_to_Authority'}, 'logprobs': None, 'finish_reason': 'stop'}], 'usage': {'prompt_tokens': 1305, 'completion_tokens': 9, 'total_tokens': 1314}, 'system_fingerprint': 'fp_f084bcfc79'}\n",
            "{'id': 'chatcmpl-8oZt5q59d6xDiqd5BANHq1ipG2eC7', 'object': 'chat.completion', 'created': 1707065043, 'model': 'gpt-4-0125-preview', 'choices': [{'index': 0, 'message': {'role': 'assistant', 'content': 'Exaggeration,Minimisation\\nLoaded_Language'}, 'logprobs': None, 'finish_reason': 'stop'}], 'usage': {'prompt_tokens': 1090, 'completion_tokens': 11, 'total_tokens': 1101}, 'system_fingerprint': 'fp_f084bcfc79'}\n",
            "{'id': 'chatcmpl-8oZt7skY66a6MXhB801ZamMMb49uv', 'object': 'chat.completion', 'created': 1707065045, 'model': 'gpt-4-0125-preview', 'choices': [{'index': 0, 'message': {'role': 'assistant', 'content': 'Doubt\\nLoaded_Language'}, 'logprobs': None, 'finish_reason': 'stop'}], 'usage': {'prompt_tokens': 951, 'completion_tokens': 7, 'total_tokens': 958}, 'system_fingerprint': 'fp_376b7f78b9'}\n",
            "{'id': 'chatcmpl-8oZt8REb02NBZ0nH8Cmdueae6XAse', 'object': 'chat.completion', 'created': 1707065046, 'model': 'gpt-4-0125-preview', 'choices': [{'index': 0, 'message': {'role': 'assistant', 'content': 'Doubt'}, 'logprobs': None, 'finish_reason': 'stop'}], 'usage': {'prompt_tokens': 1161, 'completion_tokens': 3, 'total_tokens': 1164}, 'system_fingerprint': 'fp_376b7f78b9'}\n",
            "{'id': 'chatcmpl-8oZt9uSsF3qsWWt1lCZXhPoNVMHOl', 'object': 'chat.completion', 'created': 1707065047, 'model': 'gpt-4-0125-preview', 'choices': [{'index': 0, 'message': {'role': 'assistant', 'content': 'no propaganda detected'}, 'logprobs': None, 'finish_reason': 'stop'}], 'usage': {'prompt_tokens': 810, 'completion_tokens': 3, 'total_tokens': 813}, 'system_fingerprint': 'fp_f084bcfc79'}\n",
            "{'id': 'chatcmpl-8oZtAXD7tAZvAmLcSiBip01SlVxBJ', 'object': 'chat.completion', 'created': 1707065048, 'model': 'gpt-4-0125-preview', 'choices': [{'index': 0, 'message': {'role': 'assistant', 'content': 'Loaded_Language\\nExaggeration,Minimisation\\nAppeal_to_fear-prejudice\\nDoubt'}, 'logprobs': None, 'finish_reason': 'stop'}], 'usage': {'prompt_tokens': 1418, 'completion_tokens': 24, 'total_tokens': 1442}, 'system_fingerprint': 'fp_f084bcfc79'}\n",
            "{'id': 'chatcmpl-8oZtCiYdgenyx9fJXMUpNarCOhAbn', 'object': 'chat.completion', 'created': 1707065050, 'model': 'gpt-4-0125-preview', 'choices': [{'index': 0, 'message': {'role': 'assistant', 'content': 'Loaded_Language\\nAppeal_to_fear-prejudice\\nCausal_Oversimplification\\nDoubt'}, 'logprobs': None, 'finish_reason': 'stop'}], 'usage': {'prompt_tokens': 1610, 'completion_tokens': 23, 'total_tokens': 1633}, 'system_fingerprint': 'fp_f084bcfc79'}\n",
            "{'id': 'chatcmpl-8oZtFZwY8TVvez8L3UMO2gBL1QDuL', 'object': 'chat.completion', 'created': 1707065053, 'model': 'gpt-4-0125-preview', 'choices': [{'index': 0, 'message': {'role': 'assistant', 'content': 'Appeal_to_fear-prejudice\\nExaggeration,Minimisation\\nDoubt'}, 'logprobs': None, 'finish_reason': 'stop'}], 'usage': {'prompt_tokens': 1691, 'completion_tokens': 20, 'total_tokens': 1711}, 'system_fingerprint': 'fp_376b7f78b9'}\n",
            "{'id': 'chatcmpl-8oZtHpiJ0F87oR5hRRlI7wE3Htmpv', 'object': 'chat.completion', 'created': 1707065055, 'model': 'gpt-4-0125-preview', 'choices': [{'index': 0, 'message': {'role': 'assistant', 'content': 'Loaded_Language\\nExaggeration,Minimisation\\nAppeal_to_fear-prejudice\\nDoubt'}, 'logprobs': None, 'finish_reason': 'stop'}], 'usage': {'prompt_tokens': 1275, 'completion_tokens': 24, 'total_tokens': 1299}, 'system_fingerprint': 'fp_f084bcfc79'}\n",
            "{'id': 'chatcmpl-8oZtKONdAUUe2nCS3kYog2m5v7bq3', 'object': 'chat.completion', 'created': 1707065058, 'model': 'gpt-4-0125-preview', 'choices': [{'index': 0, 'message': {'role': 'assistant', 'content': 'Loaded_Language\\nExaggeration,Minimisation\\nAppeal_to_fear-prejudice\\nCausal_Oversimplification\\nDoubt'}, 'logprobs': None, 'finish_reason': 'stop'}], 'usage': {'prompt_tokens': 1424, 'completion_tokens': 31, 'total_tokens': 1455}, 'system_fingerprint': 'fp_f084bcfc79'}\n",
            "{'id': 'chatcmpl-8oZtOmeTIR6kkv2gdJO6wm1RLoYQH', 'object': 'chat.completion', 'created': 1707065062, 'model': 'gpt-4-0125-preview', 'choices': [{'index': 0, 'message': {'role': 'assistant', 'content': 'Loaded_Language\\nName_Calling,Labeling\\nRepetition\\nExaggeration,Minimisation\\nAppeal_to_fear-prejudice\\nCausal_Oversimplification\\nBandwagon,Reductio_ad_hitlerum\\nDoubt'}, 'logprobs': None, 'finish_reason': 'stop'}], 'usage': {'prompt_tokens': 1395, 'completion_tokens': 52, 'total_tokens': 1447}, 'system_fingerprint': 'fp_f084bcfc79'}\n",
            "{'id': 'chatcmpl-8oZtXtJvgcdfAJJUHiu4C3zT7plrG', 'object': 'chat.completion', 'created': 1707065071, 'model': 'gpt-4-0125-preview', 'choices': [{'index': 0, 'message': {'role': 'assistant', 'content': 'Loaded_Language\\nDoubt\\nBlack-and-White_Fallacy\\nAppeal_to_fear-prejudice'}, 'logprobs': None, 'finish_reason': 'stop'}], 'usage': {'prompt_tokens': 1645, 'completion_tokens': 24, 'total_tokens': 1669}, 'system_fingerprint': 'fp_f084bcfc79'}\n",
            "{'id': 'chatcmpl-8oZtZzc3KOIF2BDphIG1XE0UQDwyM', 'object': 'chat.completion', 'created': 1707065073, 'model': 'gpt-4-0125-preview', 'choices': [{'index': 0, 'message': {'role': 'assistant', 'content': 'Loaded_Language\\nName_Calling,Labeling\\nRepetition\\nExaggeration,Minimisation\\nAppeal_to_fear-prejudice\\nCausal_Oversimplification\\nDoubt\\nWhataboutism,Straw_Men,Red_Herring\\nBlack-and-White_Fallacy'}, 'logprobs': None, 'finish_reason': 'stop'}], 'usage': {'prompt_tokens': 2018, 'completion_tokens': 63, 'total_tokens': 2081}, 'system_fingerprint': 'fp_f084bcfc79'}\n",
            "{'id': 'chatcmpl-8oZtkyjKE4LgjjYNqwfEuVHOeCj3I', 'object': 'chat.completion', 'created': 1707065084, 'model': 'gpt-4-0125-preview', 'choices': [{'index': 0, 'message': {'role': 'assistant', 'content': 'Loaded_Language\\nExaggeration,Minimisation\\nAppeal_to_fear-prejudice\\nCausal_Oversimplification\\nDoubt'}, 'logprobs': None, 'finish_reason': 'stop'}], 'usage': {'prompt_tokens': 1872, 'completion_tokens': 31, 'total_tokens': 1903}, 'system_fingerprint': 'fp_f084bcfc79'}\n",
            "{'id': 'chatcmpl-8oZtnz4sX81RXMlTeLtWyISFdmRxM', 'object': 'chat.completion', 'created': 1707065087, 'model': 'gpt-4-0125-preview', 'choices': [{'index': 0, 'message': {'role': 'assistant', 'content': 'Loaded_Language\\nName_Calling,Labeling\\nRepetition\\nExaggeration,Minimisation\\nAppeal_to_fear-prejudice\\nCausal_Oversimplification\\nDoubt'}, 'logprobs': None, 'finish_reason': 'stop'}], 'usage': {'prompt_tokens': 1714, 'completion_tokens': 41, 'total_tokens': 1755}, 'system_fingerprint': 'fp_f084bcfc79'}\n",
            "{'id': 'chatcmpl-8oZtqup6GLh9utq7sougdsA2lEByp', 'object': 'chat.completion', 'created': 1707065090, 'model': 'gpt-4-0125-preview', 'choices': [{'index': 0, 'message': {'role': 'assistant', 'content': 'Appeal_to_Authority\\nBandwagon'}, 'logprobs': None, 'finish_reason': 'stop'}], 'usage': {'prompt_tokens': 1623, 'completion_tokens': 9, 'total_tokens': 1632}, 'system_fingerprint': 'fp_f084bcfc79'}\n",
            "{'id': 'chatcmpl-8oZtss3X1nLccpzWDYZgrSfIMHyxB', 'object': 'chat.completion', 'created': 1707065092, 'model': 'gpt-4-0125-preview', 'choices': [{'index': 0, 'message': {'role': 'assistant', 'content': 'Loaded_Language\\nExaggeration,Minimisation\\nAppeal_to_fear-prejudice\\nDoubt'}, 'logprobs': None, 'finish_reason': 'stop'}], 'usage': {'prompt_tokens': 1764, 'completion_tokens': 24, 'total_tokens': 1788}, 'system_fingerprint': 'fp_f084bcfc79'}\n",
            "{'id': 'chatcmpl-8oZtuU1yqvEIpkonW5M7yKtSqbrtN', 'object': 'chat.completion', 'created': 1707065094, 'model': 'gpt-4-0125-preview', 'choices': [{'index': 0, 'message': {'role': 'assistant', 'content': 'Based on the content and rhetoric used in the article, several propaganda techniques can be identified:\\n\\n1. **Loaded_Language**: The article uses emotionally charged terms such as \"presstitutes,\" \"idiot Russian Atlanticist Integrationists,\" and \"white male hating Identity Politics\" to provoke strong emotional reactions rather than rational responses.\\n\\n2. **Name_Calling,Labeling**: Similar to loaded language, this technique is evident in labels like \"presstitutes\" for the press and media, implying they are prostitutes selling themselves for a cause, and derogatory references to political figures and groups.\\n\\n3. **Repetition**: The narrative that the Russiagate investigation is a conspiracy against President Trump is repeated multiple times throughout the article, reinforcing the message.\\n\\n4. **Appeal_to_fear-prejudice**: The article suggests that if the current situation continues, it could lead to the destruction of Russia or even the end of life on earth, playing on fears of nuclear war and geopolitical instability.\\n\\n5. **Causal_Oversimplification**: The complex issue of US-Russia relations and the Russiagate investigation is simplified to a conspiracy by the military/security complex, the Democratic Party, and the media to overthrow President Trump.\\n\\n6. **Appeal_to_Authority**: The article cites Harvard Law Professor Alan Dershowitz and other individuals as sources to support its claims, appealing to their authority to lend credibility.\\n\\n7. **Whataboutism,Straw_Men,Red_Herring**: The article diverts from the specifics of the accusations within the Russiagate investigation to broader criticisms of the US political system, the military/security complex, and the media, without directly addressing the evidence of the investigation.\\n\\n8. **Black-and-White_Fallacy**: The narrative presents the situation as a stark choice between normalizing relations with Russia (and thereby avoiding nuclear war) and the current trajectory leading to potential disaster, ignoring the complexities and nuances of international relations and internal US politics.\\n\\n9. **Bandwagon,Reductio_ad_hitlerum**: Although not explicitly invoking Hitler, the article suggests that opposing views are part of a widespread conspiracy or misguided majority, hinting that those who disagree are either misinformed or part of the alleged conspiracy against Trump.\\n\\n10. **Doubt**: The article casts doubt on the credibility and intentions of the Mueller investigation, the media, and other political figures, questioning their motives and the validity of their actions without providing concrete evidence.\\n\\nThese identified techniques demonstrate how the article employs various propaganda methods to persuade its readers and shape their perceptions of the Russiagate investigation and US-Russia relations.'}, 'logprobs': None, 'finish_reason': 'stop'}], 'usage': {'prompt_tokens': 4011, 'completion_tokens': 531, 'total_tokens': 4542}, 'system_fingerprint': 'fp_f084bcfc79'}\n",
            "Time elapsed:  335.88021209699946 seconds.\n"
          ]
        }
      ]
    },
    {
      "cell_type": "code",
      "source": [
        "completion_list"
      ],
      "metadata": {
        "id": "2bY8ZxIhoabq"
      },
      "execution_count": null,
      "outputs": []
    },
    {
      "cell_type": "code",
      "source": [
        "# check None value in case failed callbacks\n",
        "print(sum(x is None for x in completion_list))\n"
      ],
      "metadata": {
        "colab": {
          "base_uri": "https://localhost:8080/"
        },
        "id": "qadLFbmoxp-w",
        "outputId": "090028a7-72b1-47a8-fedd-0ecf96b4b17e"
      },
      "execution_count": null,
      "outputs": [
        {
          "output_type": "stream",
          "name": "stdout",
          "text": [
            "0\n"
          ]
        }
      ]
    },
    {
      "cell_type": "code",
      "source": [
        "cc = ['no propaganda detected' if v is None else v for v in completion_list]\n"
      ],
      "metadata": {
        "id": "M5-wbdKSxtxR"
      },
      "execution_count": null,
      "outputs": []
    },
    {
      "cell_type": "code",
      "source": [
        "import os\n",
        "\n",
        "# Define the folder where you want to store the files\n",
        "output_folder = 'dev-preds'\n",
        "\n",
        "# Create the folder if it doesn't exist\n",
        "os.makedirs(output_folder, exist_ok=True)\n",
        "\n",
        "# List of elements you want to write to separate files\n",
        "elements = cc\n",
        "\n",
        "# Iterate through the list and write each element to a separate file\n",
        "for file_nm, element in zip(files_path, elements):\n",
        "    # Create a file with a name based on the index\n",
        "    file_name = f'{file_nm}'\n",
        "    file_path = os.path.join(output_folder, file_name)\n",
        "\n",
        "    # Write the element to the file\n",
        "    with open(file_path, 'w') as file:\n",
        "        file.write(element)\n",
        "\n",
        "print(f'All elements have been written to files in the {output_folder} folder.')\n"
      ],
      "metadata": {
        "id": "gh0iHgjqEwRj",
        "colab": {
          "base_uri": "https://localhost:8080/"
        },
        "outputId": "4cc08f52-98e0-44c6-9276-c8198a2235c5"
      },
      "execution_count": null,
      "outputs": [
        {
          "output_type": "stream",
          "name": "stdout",
          "text": [
            "All elements have been written to files in the dev-preds folder.\n"
          ]
        }
      ]
    },
    {
      "cell_type": "code",
      "source": [
        "!zip -r /content/gpt4-dev-predictions.zip /content/dev-preds\n",
        "from google.colab import files\n",
        "files.download(\"/content/gpt4-dev-predictions.zip\")\n"
      ],
      "metadata": {
        "id": "VuY2-UpD61b4"
      },
      "execution_count": null,
      "outputs": []
    },
    {
      "cell_type": "markdown",
      "source": [
        "# Results"
      ],
      "metadata": {
        "id": "lRfHrCNCWQ2S"
      }
    },
    {
      "cell_type": "code",
      "source": [
        "import os\n",
        "import json\n",
        "import argparse\n",
        "import yaml\n",
        "from tqdm import tqdm\n",
        "from sklearn.metrics import accuracy_score, hamming_loss, precision_score, recall_score, f1_score\n",
        "from sklearn.preprocessing import MultiLabelBinarizer\n",
        "\n",
        "\n",
        "\n",
        "mode = 'base'\n",
        "\n",
        "def calculate_metrics():\n",
        "    true_labels = []\n",
        "    pred_labels = []\n",
        "\n",
        "    val_label_path = \"/content/dev-labels\"\n",
        "    pred_label_path = \"/content/dev-preds\"\n",
        "\n",
        "    filenames = sorted([filename for filename in os.listdir(val_label_path) if filename.endswith('.txt')])\n",
        "    for filename in filenames:\n",
        "        true_label_file = []\n",
        "        file_path = os.path.join(val_label_path, filename)\n",
        "        if os.stat(file_path).st_size == 0:\n",
        "            true_labels.append(true_label_file)\n",
        "        else:\n",
        "            with open(file_path, 'r', encoding=\"utf-8\") as file:\n",
        "                for line in file:\n",
        "                    line = line.strip()\n",
        "                    true_label_file.append(line)\n",
        "            true_labels.append(true_label_file)\n",
        "        pred_label_file = []\n",
        "        allowed_labels = ['Appeal_to_Authority', 'Appeal_to_fear-prejudice', 'Bandwagon,Reductio_ad_hitlerum', 'Black-and-White_Fallacy', 'Causal_Oversimplification', 'Doubt', 'Exaggeration,Minimisation', 'Flag-Waving', 'Loaded_Language', 'Name_Calling,Labeling', 'Repetition', 'Slogans', 'Thought-terminating_Cliches', 'Whataboutism,Straw_Men,Red_Herring']\n",
        "        with open(os.path.join(pred_label_path, filename), 'r', encoding=\"utf-8\") as file:\n",
        "            if os.stat(os.path.join(pred_label_path, filename)).st_size == 0:\n",
        "                pred_labels.append(pred_label_file)\n",
        "            else:\n",
        "                if mode in ['base', 'noinstruction']:\n",
        "                    for line in file:\n",
        "                        line = line.strip()\n",
        "                        if line in allowed_labels:\n",
        "                            pred_label_file.append(line)\n",
        "                elif mode == 'chain_of_thought':\n",
        "                    for line in file:\n",
        "                        line = line.strip()\n",
        "                        label = line.split('-', 1)[0].strip()\n",
        "                        if label in allowed_labels:\n",
        "                            pred_label_file.append(label)\n",
        "                pred_labels.append(pred_label_file)\n",
        "\n",
        "\n",
        "    # Convert labels to binary representation using MultiLabelBinarizer\n",
        "    mlb = MultiLabelBinarizer()\n",
        "    true_labels_binary = mlb.fit_transform(true_labels)\n",
        "    predicted_labels_binary = mlb.transform(pred_labels)\n",
        "\n",
        "    # Define the output file path\n",
        "    metric_file_path = os.path.join('/content/',  'metrics.txt')\n",
        "\n",
        "    # Open the file in write mode\n",
        "    with open(metric_file_path, \"w\") as file:\n",
        "        # Accuracy\n",
        "        accuracy = accuracy_score(true_labels_binary, predicted_labels_binary)\n",
        "        file.write(f\"Accuracy: {accuracy}\\n\")\n",
        "\n",
        "        # Hamming Loss\n",
        "        hamming_loss_value = hamming_loss(true_labels_binary, predicted_labels_binary)\n",
        "        file.write(f\"Hamming Loss: {hamming_loss_value}\\n\")\n",
        "\n",
        "        # Precision, Recall, and F1-Score (Micro-Averaged)\n",
        "        precision = precision_score(true_labels_binary, predicted_labels_binary, average='micro')\n",
        "        recall = recall_score(true_labels_binary, predicted_labels_binary, average='micro')\n",
        "        f1 = f1_score(true_labels_binary, predicted_labels_binary, average='micro')\n",
        "        file.write(f\"Micro-Averaged Precision: {precision}\\n\")\n",
        "        file.write(f\"Micro-Averaged Recall: {recall}\\n\")\n",
        "        file.write(f\"Micro-Averaged F1-Score: {f1}\\n\")\n",
        "\n",
        "        # Subset Accuracy\n",
        "        subset_accuracy = accuracy_score(true_labels_binary, predicted_labels_binary, normalize=True)\n",
        "        file.write(f\"Subset Accuracy: {subset_accuracy}\\n\")\n",
        "\n",
        "        # Macro-Averaged Precision, Recall, and F1-Score\n",
        "        macro_precision = precision_score(true_labels_binary, predicted_labels_binary, average='macro')\n",
        "        macro_recall = recall_score(true_labels_binary, predicted_labels_binary, average='macro')\n",
        "        macro_f1 = f1_score(true_labels_binary, predicted_labels_binary, average='macro')\n",
        "        file.write(f\"Macro-Averaged Precision: {macro_precision}\\n\")\n",
        "        file.write(f\"Macro-Averaged Recall: {macro_recall}\\n\")\n",
        "        file.write(f\"Macro-Averaged F1-Score: {macro_f1}\\n\")\n",
        "\n",
        "        # F1-Score per class\n",
        "        class_f1_scores = f1_score(true_labels_binary, predicted_labels_binary, average=None)\n",
        "        file.write(\"F1-Score per Class:\\n\")\n",
        "        for label, f1_score_class in zip(mlb.classes_, class_f1_scores):\n",
        "            file.write(f\"{label}: {f1_score_class}\\n\")\n",
        "\n",
        "        # Precision per class\n",
        "        class_precision_scores = precision_score(true_labels_binary, predicted_labels_binary, average=None, zero_division=0)\n",
        "        file.write(\"Precision per Class:\\n\")\n",
        "        for label, precision_score_class in zip(mlb.classes_, class_precision_scores):\n",
        "            file.write(f\"{label}: {precision_score_class}\\n\")\n",
        "    print(\"Evaluation metrics written to the file:\", metric_file_path)\n",
        "\n",
        "calculate_metrics()\n"
      ],
      "metadata": {
        "colab": {
          "base_uri": "https://localhost:8080/"
        },
        "id": "iqnJkrH3WUOs",
        "outputId": "bdfdceec-0a7c-4f49-98e9-c27873d727ef"
      },
      "execution_count": null,
      "outputs": [
        {
          "output_type": "stream",
          "name": "stdout",
          "text": [
            "Evaluation metrics written to the file: /content/metrics.txt\n"
          ]
        }
      ]
    },
    {
      "cell_type": "code",
      "source": [
        "# import shutil\n",
        "\n",
        "# shutil.rmtree('/content/dev-preds')\n"
      ],
      "metadata": {
        "id": "rP8cBvaWhxBM"
      },
      "execution_count": null,
      "outputs": []
    },
    {
      "cell_type": "code",
      "source": [],
      "metadata": {
        "id": "GGW3XwwchzY3"
      },
      "execution_count": null,
      "outputs": []
    }
  ]
}
