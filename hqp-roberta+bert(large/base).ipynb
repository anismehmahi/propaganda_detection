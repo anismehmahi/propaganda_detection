{
 "cells": [
  {
   "cell_type": "code",
   "execution_count": 1,
   "id": "38fe8db5",
   "metadata": {
    "execution": {
     "iopub.execute_input": "2023-10-13T17:26:03.920689Z",
     "iopub.status.busy": "2023-10-13T17:26:03.920380Z",
     "iopub.status.idle": "2023-10-13T17:26:21.858748Z",
     "shell.execute_reply": "2023-10-13T17:26:21.857664Z"
    },
    "id": "-qnymCjMVUvY",
    "outputId": "0e7c8d35-e0f6-402d-8672-803d9014d40e",
    "papermill": {
     "duration": 17.946015,
     "end_time": "2023-10-13T17:26:21.860881",
     "exception": false,
     "start_time": "2023-10-13T17:26:03.914866",
     "status": "completed"
    },
    "tags": []
   },
   "outputs": [
    {
     "name": "stdout",
     "output_type": "stream",
     "text": [
      "Requirement already satisfied: transformers in /opt/conda/lib/python3.10/site-packages (4.33.0)\r\n",
      "Requirement already satisfied: filelock in /opt/conda/lib/python3.10/site-packages (from transformers) (3.12.2)\r\n",
      "Requirement already satisfied: huggingface-hub<1.0,>=0.15.1 in /opt/conda/lib/python3.10/site-packages (from transformers) (0.16.4)\r\n",
      "Requirement already satisfied: numpy>=1.17 in /opt/conda/lib/python3.10/site-packages (from transformers) (1.23.5)\r\n",
      "Requirement already satisfied: packaging>=20.0 in /opt/conda/lib/python3.10/site-packages (from transformers) (21.3)\r\n",
      "Requirement already satisfied: pyyaml>=5.1 in /opt/conda/lib/python3.10/site-packages (from transformers) (6.0)\r\n",
      "Requirement already satisfied: regex!=2019.12.17 in /opt/conda/lib/python3.10/site-packages (from transformers) (2023.6.3)\r\n",
      "Requirement already satisfied: requests in /opt/conda/lib/python3.10/site-packages (from transformers) (2.31.0)\r\n",
      "Requirement already satisfied: tokenizers!=0.11.3,<0.14,>=0.11.1 in /opt/conda/lib/python3.10/site-packages (from transformers) (0.13.3)\r\n",
      "Requirement already satisfied: safetensors>=0.3.1 in /opt/conda/lib/python3.10/site-packages (from transformers) (0.3.3)\r\n",
      "Requirement already satisfied: tqdm>=4.27 in /opt/conda/lib/python3.10/site-packages (from transformers) (4.66.1)\r\n",
      "Requirement already satisfied: fsspec in /opt/conda/lib/python3.10/site-packages (from huggingface-hub<1.0,>=0.15.1->transformers) (2023.9.0)\r\n",
      "Requirement already satisfied: typing-extensions>=3.7.4.3 in /opt/conda/lib/python3.10/site-packages (from huggingface-hub<1.0,>=0.15.1->transformers) (4.6.3)\r\n",
      "Requirement already satisfied: pyparsing!=3.0.5,>=2.0.2 in /opt/conda/lib/python3.10/site-packages (from packaging>=20.0->transformers) (3.0.9)\r\n",
      "Requirement already satisfied: charset-normalizer<4,>=2 in /opt/conda/lib/python3.10/site-packages (from requests->transformers) (3.1.0)\r\n",
      "Requirement already satisfied: idna<4,>=2.5 in /opt/conda/lib/python3.10/site-packages (from requests->transformers) (3.4)\r\n",
      "Requirement already satisfied: urllib3<3,>=1.21.1 in /opt/conda/lib/python3.10/site-packages (from requests->transformers) (1.26.15)\r\n",
      "Requirement already satisfied: certifi>=2017.4.17 in /opt/conda/lib/python3.10/site-packages (from requests->transformers) (2023.7.22)\r\n",
      "Collecting adabound\r\n",
      "  Downloading adabound-0.0.5-py3-none-any.whl (5.1 kB)\r\n",
      "Requirement already satisfied: torch>=0.4.0 in /opt/conda/lib/python3.10/site-packages (from adabound) (2.0.0)\r\n",
      "Requirement already satisfied: filelock in /opt/conda/lib/python3.10/site-packages (from torch>=0.4.0->adabound) (3.12.2)\r\n",
      "Requirement already satisfied: typing-extensions in /opt/conda/lib/python3.10/site-packages (from torch>=0.4.0->adabound) (4.6.3)\r\n",
      "Requirement already satisfied: sympy in /opt/conda/lib/python3.10/site-packages (from torch>=0.4.0->adabound) (1.12)\r\n",
      "Requirement already satisfied: networkx in /opt/conda/lib/python3.10/site-packages (from torch>=0.4.0->adabound) (3.1)\r\n",
      "Requirement already satisfied: jinja2 in /opt/conda/lib/python3.10/site-packages (from torch>=0.4.0->adabound) (3.1.2)\r\n",
      "Requirement already satisfied: MarkupSafe>=2.0 in /opt/conda/lib/python3.10/site-packages (from jinja2->torch>=0.4.0->adabound) (2.1.3)\r\n",
      "Requirement already satisfied: mpmath>=0.19 in /opt/conda/lib/python3.10/site-packages (from sympy->torch>=0.4.0->adabound) (1.3.0)\r\n",
      "Installing collected packages: adabound\r\n",
      "Successfully installed adabound-0.0.5\r\n"
     ]
    }
   ],
   "source": [
    "!pip install transformers\n",
    "!pip install adabound"
   ]
  },
  {
   "cell_type": "code",
   "execution_count": 2,
   "id": "c79c229c",
   "metadata": {
    "execution": {
     "iopub.execute_input": "2023-10-13T17:26:21.870578Z",
     "iopub.status.busy": "2023-10-13T17:26:21.870304Z",
     "iopub.status.idle": "2023-10-13T17:26:30.293551Z",
     "shell.execute_reply": "2023-10-13T17:26:30.292430Z"
    },
    "papermill": {
     "duration": 8.430406,
     "end_time": "2023-10-13T17:26:30.295699",
     "exception": false,
     "start_time": "2023-10-13T17:26:21.865293",
     "status": "completed"
    },
    "tags": []
   },
   "outputs": [
    {
     "name": "stdout",
     "output_type": "stream",
     "text": [
      "Collecting torchsummary\r\n",
      "  Downloading torchsummary-1.5.1-py3-none-any.whl (2.8 kB)\r\n",
      "Installing collected packages: torchsummary\r\n",
      "Successfully installed torchsummary-1.5.1\r\n"
     ]
    }
   ],
   "source": [
    "# if running on kaggle notebook\n",
    "!pip install torchsummary"
   ]
  },
  {
   "cell_type": "code",
   "execution_count": 3,
   "id": "8a583869",
   "metadata": {
    "execution": {
     "iopub.execute_input": "2023-10-13T17:26:30.305883Z",
     "iopub.status.busy": "2023-10-13T17:26:30.305578Z",
     "iopub.status.idle": "2023-10-13T17:26:42.477948Z",
     "shell.execute_reply": "2023-10-13T17:26:42.477046Z"
    },
    "id": "-dtlpAn2X2ru",
    "papermill": {
     "duration": 12.179838,
     "end_time": "2023-10-13T17:26:42.480077",
     "exception": false,
     "start_time": "2023-10-13T17:26:30.300239",
     "status": "completed"
    },
    "tags": []
   },
   "outputs": [
    {
     "name": "stderr",
     "output_type": "stream",
     "text": [
      "/opt/conda/lib/python3.10/site-packages/scipy/__init__.py:146: UserWarning: A NumPy version >=1.16.5 and <1.23.0 is required for this version of SciPy (detected version 1.23.5\n",
      "  warnings.warn(f\"A NumPy version >={np_minversion} and <{np_maxversion}\"\n"
     ]
    }
   ],
   "source": [
    "import pandas as pd\n",
    "import numpy as np\n",
    "import transformers\n",
    "import torch\n",
    "import torch.nn as nn\n",
    "from torch.utils.data import Dataset,sampler\n",
    "from torch.utils.data import DataLoader\n",
    "import torch.optim as optim\n",
    "import torch.nn.functional as F\n",
    "from torchsummary import summary\n",
    "from tqdm import tqdm\n",
    "from sklearn.metrics import f1_score, accuracy_score\n",
    "from sklearn.utils.class_weight import compute_class_weight\n",
    "from adabound import AdaBound\n",
    "import tensorflow as tf"
   ]
  },
  {
   "cell_type": "code",
   "execution_count": 4,
   "id": "899a6080",
   "metadata": {
    "execution": {
     "iopub.execute_input": "2023-10-13T17:26:42.490394Z",
     "iopub.status.busy": "2023-10-13T17:26:42.489851Z",
     "iopub.status.idle": "2023-10-13T17:26:42.712002Z",
     "shell.execute_reply": "2023-10-13T17:26:42.710996Z"
    },
    "id": "xXtCAoAYEAJz",
    "papermill": {
     "duration": 0.229306,
     "end_time": "2023-10-13T17:26:42.713723",
     "exception": false,
     "start_time": "2023-10-13T17:26:42.484417",
     "status": "completed"
    },
    "tags": []
   },
   "outputs": [],
   "source": [
    "# free colab's GPU\n",
    "import gc\n",
    "\n",
    "gc.collect()\n",
    "\n",
    "torch.cuda.empty_cache()"
   ]
  },
  {
   "cell_type": "markdown",
   "id": "b6245f11",
   "metadata": {
    "id": "0u3MVYGjax2Z",
    "papermill": {
     "duration": 0.0039,
     "end_time": "2023-10-13T17:26:42.721971",
     "exception": false,
     "start_time": "2023-10-13T17:26:42.718071",
     "status": "completed"
    },
    "tags": []
   },
   "source": [
    "# Hyperparametrs:"
   ]
  },
  {
   "cell_type": "code",
   "execution_count": 5,
   "id": "c78b516c",
   "metadata": {
    "execution": {
     "iopub.execute_input": "2023-10-13T17:26:42.731484Z",
     "iopub.status.busy": "2023-10-13T17:26:42.731189Z",
     "iopub.status.idle": "2023-10-13T17:26:42.735973Z",
     "shell.execute_reply": "2023-10-13T17:26:42.734992Z"
    },
    "id": "6NYMgbvna19K",
    "papermill": {
     "duration": 0.011407,
     "end_time": "2023-10-13T17:26:42.737641",
     "exception": false,
     "start_time": "2023-10-13T17:26:42.726234",
     "status": "completed"
    },
    "tags": []
   },
   "outputs": [],
   "source": [
    "max_length = 128\n",
    "num_classes =2\n",
    "batch_size = 32\n",
    "epochs = 30\n",
    "patience = 3\n",
    "lr = 4e-5\n",
    "train_size = 0.8\n",
    "model_version = 'roberta-large'\n",
    "output_vector = 768 if model_version in ['roberta-base', 'bert-base'] else (1024 if model_version == 'roberta-large' else 0) # for bert-base and roberta-base and 1024 for roberta-large\n"
   ]
  },
  {
   "cell_type": "code",
   "execution_count": 6,
   "id": "64b2828b",
   "metadata": {
    "execution": {
     "iopub.execute_input": "2023-10-13T17:26:42.747971Z",
     "iopub.status.busy": "2023-10-13T17:26:42.747153Z",
     "iopub.status.idle": "2023-10-13T17:26:42.754096Z",
     "shell.execute_reply": "2023-10-13T17:26:42.753156Z"
    },
    "papermill": {
     "duration": 0.014129,
     "end_time": "2023-10-13T17:26:42.755820",
     "exception": false,
     "start_time": "2023-10-13T17:26:42.741691",
     "status": "completed"
    },
    "tags": []
   },
   "outputs": [
    {
     "data": {
      "text/plain": [
       "1024"
      ]
     },
     "execution_count": 6,
     "metadata": {},
     "output_type": "execute_result"
    }
   ],
   "source": [
    "output_vector"
   ]
  },
  {
   "cell_type": "markdown",
   "id": "6230c680",
   "metadata": {
    "id": "Om0r4LoqYLLA",
    "papermill": {
     "duration": 0.004042,
     "end_time": "2023-10-13T17:26:42.764037",
     "exception": false,
     "start_time": "2023-10-13T17:26:42.759995",
     "status": "completed"
    },
    "tags": []
   },
   "source": [
    "## Dataset Preparation"
   ]
  },
  {
   "cell_type": "code",
   "execution_count": 7,
   "id": "119d3dec",
   "metadata": {
    "execution": {
     "iopub.execute_input": "2023-10-13T17:26:42.773692Z",
     "iopub.status.busy": "2023-10-13T17:26:42.773417Z",
     "iopub.status.idle": "2023-10-13T17:26:46.026399Z",
     "shell.execute_reply": "2023-10-13T17:26:46.025396Z"
    },
    "id": "acsL4AqrYOZm",
    "papermill": {
     "duration": 3.260731,
     "end_time": "2023-10-13T17:26:46.029075",
     "exception": false,
     "start_time": "2023-10-13T17:26:42.768344",
     "status": "completed"
    },
    "tags": []
   },
   "outputs": [
    {
     "data": {
      "application/vnd.jupyter.widget-view+json": {
       "model_id": "981eed5b3760458b8f49015e7addc267",
       "version_major": 2,
       "version_minor": 0
      },
      "text/plain": [
       "Downloading (…)lve/main/config.json:   0%|          | 0.00/482 [00:00<?, ?B/s]"
      ]
     },
     "metadata": {},
     "output_type": "display_data"
    },
    {
     "data": {
      "application/vnd.jupyter.widget-view+json": {
       "model_id": "1fa0fb83b16a4c61b23c7fa26a5db0be",
       "version_major": 2,
       "version_minor": 0
      },
      "text/plain": [
       "Downloading (…)olve/main/vocab.json:   0%|          | 0.00/899k [00:00<?, ?B/s]"
      ]
     },
     "metadata": {},
     "output_type": "display_data"
    },
    {
     "data": {
      "application/vnd.jupyter.widget-view+json": {
       "model_id": "872b61c419f84d9088cddd8327932ab2",
       "version_major": 2,
       "version_minor": 0
      },
      "text/plain": [
       "Downloading (…)olve/main/merges.txt:   0%|          | 0.00/456k [00:00<?, ?B/s]"
      ]
     },
     "metadata": {},
     "output_type": "display_data"
    },
    {
     "data": {
      "application/vnd.jupyter.widget-view+json": {
       "model_id": "34bda42de22c4d41bfd275032cfc7fd3",
       "version_major": 2,
       "version_minor": 0
      },
      "text/plain": [
       "Downloading (…)/main/tokenizer.json:   0%|          | 0.00/1.36M [00:00<?, ?B/s]"
      ]
     },
     "metadata": {},
     "output_type": "display_data"
    }
   ],
   "source": [
    "class HQP(Dataset):\n",
    "    def __init__(self, tokenizer,max_length):\n",
    "        super(HQP, self).__init__()\n",
    "        self.train_csv=pd.read_csv('/kaggle/input/hqp-dataset/df_tweets_HiQualProp.csv')\n",
    "        self.tokenizer=tokenizer\n",
    "        self.target=self.train_csv.iloc[:,2]\n",
    "        self.max_length=max_length\n",
    "\n",
    "    def __len__(self):\n",
    "        return len(self.train_csv)\n",
    "\n",
    "    def __getitem__(self, index):\n",
    "\n",
    "        text1 = self.train_csv.iloc[index,9] # normalized_text\n",
    "\n",
    "        inputs = self.tokenizer.encode_plus(\n",
    "            text1 ,\n",
    "            None,\n",
    "            truncation=True,\n",
    "            add_special_tokens=True,\n",
    "            return_attention_mask=True,\n",
    "            max_length=self.max_length,\n",
    "\n",
    "            padding='max_length',\n",
    "        )\n",
    "        ids = inputs[\"input_ids\"]\n",
    "        #token_type_ids = inputs[\"token_type_ids\"]\n",
    "        mask = inputs[\"attention_mask\"]\n",
    "\n",
    "        return {\n",
    "            'ids': torch.tensor(ids, dtype=torch.long),\n",
    "            'mask': torch.tensor(mask, dtype=torch.long),\n",
    "            #'token_type_ids': torch.tensor(token_type_ids, dtype=torch.long),\n",
    "            'target': torch.tensor(self.target[index], dtype=torch.long)\n",
    "            }\n",
    "tokenizer = transformers.AutoTokenizer.from_pretrained(model_version)\n",
    "\n",
    "dataset= HQP(tokenizer, max_length=max_length)\n",
    "a = int(len(dataset)*train_size)\n",
    "train_data, test_data = torch.utils.data.random_split(dataset, [a, len(dataset)-a])\n",
    "\n",
    "train_dataloader=DataLoader(dataset=train_data,batch_size=batch_size)\n",
    "test_dataloader=DataLoader(dataset=test_data,batch_size=batch_size)\n"
   ]
  },
  {
   "cell_type": "code",
   "execution_count": 8,
   "id": "ef703f13",
   "metadata": {
    "execution": {
     "iopub.execute_input": "2023-10-13T17:26:46.048325Z",
     "iopub.status.busy": "2023-10-13T17:26:46.047618Z",
     "iopub.status.idle": "2023-10-13T17:26:46.053193Z",
     "shell.execute_reply": "2023-10-13T17:26:46.052325Z"
    },
    "papermill": {
     "duration": 0.017816,
     "end_time": "2023-10-13T17:26:46.055618",
     "exception": false,
     "start_time": "2023-10-13T17:26:46.037802",
     "status": "completed"
    },
    "tags": []
   },
   "outputs": [],
   "source": [
    "#for x in train_dataloader:\n",
    "#    print(x)\n",
    "#    break"
   ]
  },
  {
   "cell_type": "markdown",
   "id": "e8e1a891",
   "metadata": {
    "id": "KEZ-OF2Nd7nD",
    "papermill": {
     "duration": 0.008051,
     "end_time": "2023-10-13T17:26:46.071934",
     "exception": false,
     "start_time": "2023-10-13T17:26:46.063883",
     "status": "completed"
    },
    "tags": []
   },
   "source": [
    "# Pre-Trained Models"
   ]
  },
  {
   "cell_type": "code",
   "execution_count": 9,
   "id": "c9b030fc",
   "metadata": {
    "execution": {
     "iopub.execute_input": "2023-10-13T17:26:46.090082Z",
     "iopub.status.busy": "2023-10-13T17:26:46.089667Z",
     "iopub.status.idle": "2023-10-13T17:27:01.778640Z",
     "shell.execute_reply": "2023-10-13T17:27:01.777250Z"
    },
    "id": "Lp4geahRc89G",
    "papermill": {
     "duration": 15.701685,
     "end_time": "2023-10-13T17:27:01.782069",
     "exception": false,
     "start_time": "2023-10-13T17:26:46.080384",
     "status": "completed"
    },
    "tags": []
   },
   "outputs": [
    {
     "data": {
      "application/vnd.jupyter.widget-view+json": {
       "model_id": "4501171bb2e1435eb3afb9fc2fb77269",
       "version_major": 2,
       "version_minor": 0
      },
      "text/plain": [
       "Downloading model.safetensors:   0%|          | 0.00/1.42G [00:00<?, ?B/s]"
      ]
     },
     "metadata": {},
     "output_type": "display_data"
    },
    {
     "name": "stderr",
     "output_type": "stream",
     "text": [
      "Some weights of RobertaModel were not initialized from the model checkpoint at roberta-large and are newly initialized: ['roberta.pooler.dense.bias', 'roberta.pooler.dense.weight']\n",
      "You should probably TRAIN this model on a down-stream task to be able to use it for predictions and inference.\n"
     ]
    }
   ],
   "source": [
    "class ClassifierModel(nn.Module):\n",
    "    def __init__(self):\n",
    "        super(ClassifierModel, self).__init__()\n",
    "        self.model = transformers.AutoModel.from_pretrained(model_version)\n",
    "        self.out = nn.Linear(output_vector, 1)\n",
    "\n",
    "    def forward(self,ids,mask):\n",
    "        c,o2= self.model(ids,attention_mask=mask, return_dict=False)\n",
    "        out= self.out(o2)\n",
    "\n",
    "        return out\n",
    "\n",
    "model=ClassifierModel()\n",
    "model.to(\"cuda\")\n",
    "\n",
    "\n",
    "\n",
    "#weights = compute_class_weight(class_weight='balanced', classes=[0,1], y=dataset.target)\n",
    "#weights = torch.Tensor(weights)\n",
    "#weights = weights.to('cuda')\n",
    "weights = torch.Tensor([6]).to('cuda')\n",
    "\n",
    "\n",
    "loss_fn = nn.BCEWithLogitsLoss(pos_weight=weights)\n",
    "\n",
    "#Initialize Optimizer\n",
    "optimizer= optim.AdamW(model.parameters(),lr= lr)\n",
    "#optimizer = AdaBound(model.parameters(), lr=1e-5, final_lr=0.001)\n"
   ]
  },
  {
   "cell_type": "code",
   "execution_count": 10,
   "id": "889ee9fc",
   "metadata": {
    "execution": {
     "iopub.execute_input": "2023-10-13T17:27:01.812855Z",
     "iopub.status.busy": "2023-10-13T17:27:01.811692Z",
     "iopub.status.idle": "2023-10-13T17:27:01.826041Z",
     "shell.execute_reply": "2023-10-13T17:27:01.824801Z"
    },
    "papermill": {
     "duration": 0.032842,
     "end_time": "2023-10-13T17:27:01.829052",
     "exception": false,
     "start_time": "2023-10-13T17:27:01.796210",
     "status": "completed"
    },
    "tags": []
   },
   "outputs": [],
   "source": [
    "# Identify the parameters of the first 16 layers to freez\n",
    "for name, param in model.named_parameters():\n",
    "    # Identify the layers you want to freeze (adjust the condition as needed)\n",
    "    if \"model.encoder.layer\" in name and int(name.split(\".\")[3]) < 16:\n",
    "        param.requires_grad = False\n"
   ]
  },
  {
   "cell_type": "code",
   "execution_count": 11,
   "id": "08a49b29",
   "metadata": {
    "execution": {
     "iopub.execute_input": "2023-10-13T17:27:01.859444Z",
     "iopub.status.busy": "2023-10-13T17:27:01.858826Z",
     "iopub.status.idle": "2023-10-13T17:27:01.882286Z",
     "shell.execute_reply": "2023-10-13T17:27:01.881071Z"
    },
    "id": "_T18P84odTQF",
    "outputId": "87bf5867-2fe8-4ec3-90b2-da55a5841bcb",
    "papermill": {
     "duration": 0.042039,
     "end_time": "2023-10-13T17:27:01.885084",
     "exception": false,
     "start_time": "2023-10-13T17:27:01.843045",
     "status": "completed"
    },
    "tags": []
   },
   "outputs": [
    {
     "data": {
      "text/plain": [
       "5.527569475077194"
      ]
     },
     "execution_count": 11,
     "metadata": {},
     "output_type": "execute_result"
    }
   ],
   "source": [
    "train_data.dataset.target.value_counts()[0]/train_data.dataset.target.value_counts()[1]"
   ]
  },
  {
   "cell_type": "code",
   "execution_count": 12,
   "id": "b3b899f2",
   "metadata": {
    "execution": {
     "iopub.execute_input": "2023-10-13T17:27:01.915305Z",
     "iopub.status.busy": "2023-10-13T17:27:01.914673Z",
     "iopub.status.idle": "2023-10-13T17:27:01.920091Z",
     "shell.execute_reply": "2023-10-13T17:27:01.919065Z"
    },
    "id": "df3da75gV7OT",
    "papermill": {
     "duration": 0.025982,
     "end_time": "2023-10-13T17:27:01.925150",
     "exception": false,
     "start_time": "2023-10-13T17:27:01.899168",
     "status": "completed"
    },
    "tags": []
   },
   "outputs": [],
   "source": [
    "#def calculate_pos_weights(class_counts):\n",
    "#  pos_weights = np.ones_like(class_counts)\n",
    "#  neg_counts = [len(data)-pos_count for pos_count in class_counts]\n",
    "#  for cdx, pos_count, neg_count in enumerate(zip(class_counts,  neg_counts)):\n",
    "#    pos_weights[cdx] = neg_count / (pos_count + 1e-5)\n",
    "\n",
    "#  return torch.as_tensor(pos_weights, dtype=torch.float)\n"
   ]
  },
  {
   "cell_type": "code",
   "execution_count": 13,
   "id": "18320594",
   "metadata": {
    "execution": {
     "iopub.execute_input": "2023-10-13T17:27:01.955165Z",
     "iopub.status.busy": "2023-10-13T17:27:01.954596Z",
     "iopub.status.idle": "2023-10-13T17:27:01.969986Z",
     "shell.execute_reply": "2023-10-13T17:27:01.968666Z"
    },
    "id": "61xI_lxpfXeB",
    "papermill": {
     "duration": 0.033522,
     "end_time": "2023-10-13T17:27:01.972852",
     "exception": false,
     "start_time": "2023-10-13T17:27:01.939330",
     "status": "completed"
    },
    "tags": []
   },
   "outputs": [],
   "source": [
    "def validate (model=model, test_dataloader = test_dataloader):\n",
    "  # Set model to eval mode\n",
    "  model.eval()\n",
    "  accuracy=0\n",
    "  f1 = 0\n",
    "  labelss = torch.Tensor()\n",
    "  predss = torch.Tensor()\n",
    "  for i,batch in enumerate(test_dataloader):\n",
    "    # Forward pass\n",
    "    with torch.no_grad():\n",
    "        ids = batch['ids'].to(\"cuda\")\n",
    "        mask = batch['mask'].to(\"cuda\")\n",
    "        #token_type = batch['token_type_ids'].to(\"cuda\")\n",
    "        labels = batch['target'].unsqueeze(1)\n",
    "        labelss = torch.cat((labelss,labels), dim=0)\n",
    "\n",
    "        outputs = model(ids,mask)\n",
    "        siga = nn.Sigmoid()\n",
    "        cc = siga(outputs)\n",
    "        preds = np.where(cc.cpu().data.numpy() >= 0.5, 1, 0)\n",
    "        predss =torch.cat((predss,torch.tensor(preds)), dim=0)\n",
    "\n",
    "        num_correct = sum(1 for a, b in zip(preds, labels) if a[0] == b[0])\n",
    "        num_samples = preds.shape[0]\n",
    "        accuracy += num_correct/num_samples\n",
    "\n",
    "        #print(f'Training accuracy in batch {i+1} {float(num_correct)/float(num_samples)*100:.2f}')\n",
    "  model.train()\n",
    "  accuracy = float(accuracy)/float(i+1)\n",
    "  #print(f'Accuracy {float(accuracy)/float(i+1)*100:.2f}')\n",
    "  f1 = f1_score(labelss.flatten().numpy(), predss.flatten().numpy())\n",
    "  #print(f'F1-score {f1*100:.2f}')\n",
    "  return accuracy,f1\n"
   ]
  },
  {
   "cell_type": "code",
   "execution_count": 14,
   "id": "8150b7f2",
   "metadata": {
    "execution": {
     "iopub.execute_input": "2023-10-13T17:27:02.005162Z",
     "iopub.status.busy": "2023-10-13T17:27:02.004451Z",
     "iopub.status.idle": "2023-10-13T17:27:02.028841Z",
     "shell.execute_reply": "2023-10-13T17:27:02.027553Z"
    },
    "id": "NzjvT7PTmWzy",
    "papermill": {
     "duration": 0.045448,
     "end_time": "2023-10-13T17:27:02.032503",
     "exception": false,
     "start_time": "2023-10-13T17:27:01.987055",
     "status": "completed"
    },
    "tags": []
   },
   "outputs": [],
   "source": [
    "def finetune(epochs, dataloader, model, loss_fn, optimizer, early_stopping_patience):\n",
    "    model.train()\n",
    "    best_test_acc = 0.0\n",
    "    best_epoch = 0\n",
    "    no_improvement_count = 0\n",
    "\n",
    "    for epoch in range(epochs):\n",
    "        preds = np.array([])\n",
    "        labels = np.array([])\n",
    "        loop = tqdm(enumerate(dataloader), leave=False, total=len(dataloader))\n",
    "        for batch, dl in loop:\n",
    "            ids = dl['ids'].to(\"cuda\")\n",
    "            #token_type_ids = dl['token_type_ids'].to(\"cuda\")\n",
    "            mask = dl['mask'].to(\"cuda\")\n",
    "            label = dl['target'].unsqueeze(1).to(\"cuda\")\n",
    "\n",
    "\n",
    "            optimizer.zero_grad()\n",
    "\n",
    "            output = model(\n",
    "                ids=ids,\n",
    "                mask=mask,\n",
    "                )\n",
    "            label = label.type_as(output)\n",
    "            loss = loss_fn(output, label)\n",
    "\n",
    "            loss.backward()\n",
    "\n",
    "            optimizer.step()\n",
    "\n",
    "            # Move output to CPU and convert to NumPy\n",
    "            output_cpu = output.cpu().detach().numpy()\n",
    "            sig = nn.Sigmoid()\n",
    "            x = sig(output)\n",
    "            pred = np.where( x.cpu().detach().numpy()>= 0.4, 1, 0)\n",
    "            preds = np.append(preds,pred)\n",
    "            labels = np.append(labels,label.cpu())\n",
    "\n",
    "\n",
    "        preds = preds.flatten()\n",
    "        labels = labels.flatten()\n",
    "        test_acc, test_f1 = validate(model=model,test_dataloader = test_dataloader)\n",
    "        print(f'{epoch} epoch | Train Accuracy = {accuracy_score(labels,preds)} | Train F1_score = {f1_score(labels,preds)} | Test Accuracy = {test_acc} | Test F1_score ={test_f1} ')\n",
    "        if test_f1 > best_test_acc:\n",
    "            best_test_acc = test_f1\n",
    "            best_epoch = epoch\n",
    "            no_improvement_count = 0\n",
    "        else:\n",
    "            no_improvement_count += 1\n",
    "\n",
    "        if no_improvement_count >= early_stopping_patience:\n",
    "            print(f'No improvement for {early_stopping_patience} epochs. Early stopping.')\n",
    "            break\n",
    "\n",
    "    print(f'Best test accuracy of {best_test_acc} achieved at epoch {best_epoch}')\n",
    "\n",
    "    return model\n"
   ]
  },
  {
   "cell_type": "code",
   "execution_count": 15,
   "id": "8389a212",
   "metadata": {
    "execution": {
     "iopub.execute_input": "2023-10-13T17:27:02.066495Z",
     "iopub.status.busy": "2023-10-13T17:27:02.065973Z",
     "iopub.status.idle": "2023-10-13T18:59:01.578487Z",
     "shell.execute_reply": "2023-10-13T18:59:01.577461Z"
    },
    "id": "QJanY5TRm3Bt",
    "outputId": "194c073e-82aa-4d5c-d9f0-94208456fb2c",
    "papermill": {
     "duration": 5519.768514,
     "end_time": "2023-10-13T18:59:01.817246",
     "exception": false,
     "start_time": "2023-10-13T17:27:02.048732",
     "status": "completed"
    },
    "tags": []
   },
   "outputs": [
    {
     "name": "stderr",
     "output_type": "stream",
     "text": [
      "                                                 \r"
     ]
    },
    {
     "name": "stdout",
     "output_type": "stream",
     "text": [
      "0 epoch | Train Accuracy = 0.6990201047474236 | Train F1_score = 0.4634844149977413 | Test Accuracy = 0.8648648648648649 | Test F1_score =0.6316758747697974 \n"
     ]
    },
    {
     "name": "stderr",
     "output_type": "stream",
     "text": [
      "                                                 \r"
     ]
    },
    {
     "name": "stdout",
     "output_type": "stream",
     "text": [
      "1 epoch | Train Accuracy = 0.7996283155938503 | Train F1_score = 0.5694318388092212 | Test Accuracy = 0.8586148648648648 | Test F1_score =0.6384449244060476 \n"
     ]
    },
    {
     "name": "stderr",
     "output_type": "stream",
     "text": [
      "                                                 \r"
     ]
    },
    {
     "name": "stdout",
     "output_type": "stream",
     "text": [
      "2 epoch | Train Accuracy = 0.8199442473390776 | Train F1_score = 0.6048753359903606 | Test Accuracy = 0.8603040540540541 | Test F1_score =0.6402783819051762 \n"
     ]
    },
    {
     "name": "stderr",
     "output_type": "stream",
     "text": [
      "                                                 \r"
     ]
    },
    {
     "name": "stdout",
     "output_type": "stream",
     "text": [
      "3 epoch | Train Accuracy = 0.8448217604325055 | Train F1_score = 0.645229818462727 | Test Accuracy = 0.8714527027027027 | Test F1_score =0.6468677494199536 \n"
     ]
    },
    {
     "name": "stderr",
     "output_type": "stream",
     "text": [
      "                                                 \r"
     ]
    },
    {
     "name": "stdout",
     "output_type": "stream",
     "text": [
      "4 epoch | Train Accuracy = 0.8475249197499578 | Train F1_score = 0.6506000774293458 | Test Accuracy = 0.8449324324324324 | Test F1_score =0.6174999999999999 \n"
     ]
    },
    {
     "name": "stderr",
     "output_type": "stream",
     "text": [
      "                                                 \r"
     ]
    },
    {
     "name": "stdout",
     "output_type": "stream",
     "text": [
      "5 epoch | Train Accuracy = 0.7655431660753506 | Train F1_score = 0.5363735070575462 | Test Accuracy = 0.8518581081081081 | Test F1_score =0.6205106014712245 \n"
     ]
    },
    {
     "name": "stderr",
     "output_type": "stream",
     "text": [
      "                                                 \r"
     ]
    },
    {
     "name": "stdout",
     "output_type": "stream",
     "text": [
      "6 epoch | Train Accuracy = 0.8489609731373543 | Train F1_score = 0.6522077416844971 | Test Accuracy = 0.729222972972973 | Test F1_score =0.5004674353381116 \n",
      "No improvement for 3 epochs. Early stopping.\n",
      "Best test accuracy of 0.6468677494199536 achieved at epoch 3\n"
     ]
    }
   ],
   "source": [
    "model=finetune(epochs, train_dataloader, model, loss_fn, optimizer,patience)"
   ]
  },
  {
   "cell_type": "code",
   "execution_count": null,
   "id": "18d97b79",
   "metadata": {
    "id": "yozdOibeQrXb",
    "papermill": {
     "duration": 0.299331,
     "end_time": "2023-10-13T18:59:02.355142",
     "exception": false,
     "start_time": "2023-10-13T18:59:02.055811",
     "status": "completed"
    },
    "tags": []
   },
   "outputs": [],
   "source": []
  },
  {
   "cell_type": "code",
   "execution_count": null,
   "id": "cc43d06b",
   "metadata": {
    "id": "kAsGIhkzQz2I",
    "papermill": {
     "duration": 0.225658,
     "end_time": "2023-10-13T18:59:02.805809",
     "exception": false,
     "start_time": "2023-10-13T18:59:02.580151",
     "status": "completed"
    },
    "tags": []
   },
   "outputs": [],
   "source": []
  }
 ],
 "metadata": {
  "kernelspec": {
   "display_name": "Python 3",
   "language": "python",
   "name": "python3"
  },
  "language_info": {
   "codemirror_mode": {
    "name": "ipython",
    "version": 3
   },
   "file_extension": ".py",
   "mimetype": "text/x-python",
   "name": "python",
   "nbconvert_exporter": "python",
   "pygments_lexer": "ipython3",
   "version": "3.10.12"
  },
  "papermill": {
   "default_parameters": {},
   "duration": 5586.030483,
   "end_time": "2023-10-13T18:59:07.032853",
   "environment_variables": {},
   "exception": null,
   "input_path": "__notebook__.ipynb",
   "output_path": "__notebook__.ipynb",
   "parameters": {},
   "start_time": "2023-10-13T17:26:01.002370",
   "version": "2.4.0"
  },
  "widgets": {
   "application/vnd.jupyter.widget-state+json": {
    "state": {
     "0000019067ad4459862fd5b263ff5e7c": {
      "model_module": "@jupyter-widgets/controls",
      "model_module_version": "1.5.0",
      "model_name": "DescriptionStyleModel",
      "state": {
       "_model_module": "@jupyter-widgets/controls",
       "_model_module_version": "1.5.0",
       "_model_name": "DescriptionStyleModel",
       "_view_count": null,
       "_view_module": "@jupyter-widgets/base",
       "_view_module_version": "1.2.0",
       "_view_name": "StyleView",
       "description_width": ""
      }
     },
     "02a9baf41596442ea9ec28b1421e812c": {
      "model_module": "@jupyter-widgets/controls",
      "model_module_version": "1.5.0",
      "model_name": "ProgressStyleModel",
      "state": {
       "_model_module": "@jupyter-widgets/controls",
       "_model_module_version": "1.5.0",
       "_model_name": "ProgressStyleModel",
       "_view_count": null,
       "_view_module": "@jupyter-widgets/base",
       "_view_module_version": "1.2.0",
       "_view_name": "StyleView",
       "bar_color": null,
       "description_width": ""
      }
     },
     "0c43a74dceae4982a58b965a91336808": {
      "model_module": "@jupyter-widgets/controls",
      "model_module_version": "1.5.0",
      "model_name": "DescriptionStyleModel",
      "state": {
       "_model_module": "@jupyter-widgets/controls",
       "_model_module_version": "1.5.0",
       "_model_name": "DescriptionStyleModel",
       "_view_count": null,
       "_view_module": "@jupyter-widgets/base",
       "_view_module_version": "1.2.0",
       "_view_name": "StyleView",
       "description_width": ""
      }
     },
     "12d522cd230344448c6400f871cad219": {
      "model_module": "@jupyter-widgets/controls",
      "model_module_version": "1.5.0",
      "model_name": "DescriptionStyleModel",
      "state": {
       "_model_module": "@jupyter-widgets/controls",
       "_model_module_version": "1.5.0",
       "_model_name": "DescriptionStyleModel",
       "_view_count": null,
       "_view_module": "@jupyter-widgets/base",
       "_view_module_version": "1.2.0",
       "_view_name": "StyleView",
       "description_width": ""
      }
     },
     "179b3f101a34478f97efd569b9e20a94": {
      "model_module": "@jupyter-widgets/base",
      "model_module_version": "1.2.0",
      "model_name": "LayoutModel",
      "state": {
       "_model_module": "@jupyter-widgets/base",
       "_model_module_version": "1.2.0",
       "_model_name": "LayoutModel",
       "_view_count": null,
       "_view_module": "@jupyter-widgets/base",
       "_view_module_version": "1.2.0",
       "_view_name": "LayoutView",
       "align_content": null,
       "align_items": null,
       "align_self": null,
       "border": null,
       "bottom": null,
       "display": null,
       "flex": null,
       "flex_flow": null,
       "grid_area": null,
       "grid_auto_columns": null,
       "grid_auto_flow": null,
       "grid_auto_rows": null,
       "grid_column": null,
       "grid_gap": null,
       "grid_row": null,
       "grid_template_areas": null,
       "grid_template_columns": null,
       "grid_template_rows": null,
       "height": null,
       "justify_content": null,
       "justify_items": null,
       "left": null,
       "margin": null,
       "max_height": null,
       "max_width": null,
       "min_height": null,
       "min_width": null,
       "object_fit": null,
       "object_position": null,
       "order": null,
       "overflow": null,
       "overflow_x": null,
       "overflow_y": null,
       "padding": null,
       "right": null,
       "top": null,
       "visibility": null,
       "width": null
      }
     },
     "1fa0fb83b16a4c61b23c7fa26a5db0be": {
      "model_module": "@jupyter-widgets/controls",
      "model_module_version": "1.5.0",
      "model_name": "HBoxModel",
      "state": {
       "_dom_classes": [],
       "_model_module": "@jupyter-widgets/controls",
       "_model_module_version": "1.5.0",
       "_model_name": "HBoxModel",
       "_view_count": null,
       "_view_module": "@jupyter-widgets/controls",
       "_view_module_version": "1.5.0",
       "_view_name": "HBoxView",
       "box_style": "",
       "children": [
        "IPY_MODEL_ee185c9d8d494ff9aeb18b23fbef02ac",
        "IPY_MODEL_7c508370253947c29e003ffc8b0a55bd",
        "IPY_MODEL_eda453d195cc4b39ba798b2fe6e19ae3"
       ],
       "layout": "IPY_MODEL_3ceb3765fc694a33bb103eafd3364e80"
      }
     },
     "34bda42de22c4d41bfd275032cfc7fd3": {
      "model_module": "@jupyter-widgets/controls",
      "model_module_version": "1.5.0",
      "model_name": "HBoxModel",
      "state": {
       "_dom_classes": [],
       "_model_module": "@jupyter-widgets/controls",
       "_model_module_version": "1.5.0",
       "_model_name": "HBoxModel",
       "_view_count": null,
       "_view_module": "@jupyter-widgets/controls",
       "_view_module_version": "1.5.0",
       "_view_name": "HBoxView",
       "box_style": "",
       "children": [
        "IPY_MODEL_39b5c51a7bb04464b53bb3d103830d4f",
        "IPY_MODEL_ea7342cad22b4b82b38f1aa164b8a075",
        "IPY_MODEL_38f254fd2e5c4dd7a92c15b1400d6f3c"
       ],
       "layout": "IPY_MODEL_a9fed6886f774983983bfc34cffb1fed"
      }
     },
     "37cb3fd45e704a9ab8d975b95590e395": {
      "model_module": "@jupyter-widgets/base",
      "model_module_version": "1.2.0",
      "model_name": "LayoutModel",
      "state": {
       "_model_module": "@jupyter-widgets/base",
       "_model_module_version": "1.2.0",
       "_model_name": "LayoutModel",
       "_view_count": null,
       "_view_module": "@jupyter-widgets/base",
       "_view_module_version": "1.2.0",
       "_view_name": "LayoutView",
       "align_content": null,
       "align_items": null,
       "align_self": null,
       "border": null,
       "bottom": null,
       "display": null,
       "flex": null,
       "flex_flow": null,
       "grid_area": null,
       "grid_auto_columns": null,
       "grid_auto_flow": null,
       "grid_auto_rows": null,
       "grid_column": null,
       "grid_gap": null,
       "grid_row": null,
       "grid_template_areas": null,
       "grid_template_columns": null,
       "grid_template_rows": null,
       "height": null,
       "justify_content": null,
       "justify_items": null,
       "left": null,
       "margin": null,
       "max_height": null,
       "max_width": null,
       "min_height": null,
       "min_width": null,
       "object_fit": null,
       "object_position": null,
       "order": null,
       "overflow": null,
       "overflow_x": null,
       "overflow_y": null,
       "padding": null,
       "right": null,
       "top": null,
       "visibility": null,
       "width": null
      }
     },
     "38f254fd2e5c4dd7a92c15b1400d6f3c": {
      "model_module": "@jupyter-widgets/controls",
      "model_module_version": "1.5.0",
      "model_name": "HTMLModel",
      "state": {
       "_dom_classes": [],
       "_model_module": "@jupyter-widgets/controls",
       "_model_module_version": "1.5.0",
       "_model_name": "HTMLModel",
       "_view_count": null,
       "_view_module": "@jupyter-widgets/controls",
       "_view_module_version": "1.5.0",
       "_view_name": "HTMLView",
       "description": "",
       "description_tooltip": null,
       "layout": "IPY_MODEL_7206ae562b88487a9add8fa189bc67e8",
       "placeholder": "​",
       "style": "IPY_MODEL_6fc4bc881ced488bbdd220f8a9d54c6c",
       "value": " 1.36M/1.36M [00:00&lt;00:00, 3.37MB/s]"
      }
     },
     "39b5c51a7bb04464b53bb3d103830d4f": {
      "model_module": "@jupyter-widgets/controls",
      "model_module_version": "1.5.0",
      "model_name": "HTMLModel",
      "state": {
       "_dom_classes": [],
       "_model_module": "@jupyter-widgets/controls",
       "_model_module_version": "1.5.0",
       "_model_name": "HTMLModel",
       "_view_count": null,
       "_view_module": "@jupyter-widgets/controls",
       "_view_module_version": "1.5.0",
       "_view_name": "HTMLView",
       "description": "",
       "description_tooltip": null,
       "layout": "IPY_MODEL_67ceaeecd7a747158a14774f27ca2b55",
       "placeholder": "​",
       "style": "IPY_MODEL_f786ce8a5319457886d8c57959b0cd36",
       "value": "Downloading (…)/main/tokenizer.json: 100%"
      }
     },
     "3ceb3765fc694a33bb103eafd3364e80": {
      "model_module": "@jupyter-widgets/base",
      "model_module_version": "1.2.0",
      "model_name": "LayoutModel",
      "state": {
       "_model_module": "@jupyter-widgets/base",
       "_model_module_version": "1.2.0",
       "_model_name": "LayoutModel",
       "_view_count": null,
       "_view_module": "@jupyter-widgets/base",
       "_view_module_version": "1.2.0",
       "_view_name": "LayoutView",
       "align_content": null,
       "align_items": null,
       "align_self": null,
       "border": null,
       "bottom": null,
       "display": null,
       "flex": null,
       "flex_flow": null,
       "grid_area": null,
       "grid_auto_columns": null,
       "grid_auto_flow": null,
       "grid_auto_rows": null,
       "grid_column": null,
       "grid_gap": null,
       "grid_row": null,
       "grid_template_areas": null,
       "grid_template_columns": null,
       "grid_template_rows": null,
       "height": null,
       "justify_content": null,
       "justify_items": null,
       "left": null,
       "margin": null,
       "max_height": null,
       "max_width": null,
       "min_height": null,
       "min_width": null,
       "object_fit": null,
       "object_position": null,
       "order": null,
       "overflow": null,
       "overflow_x": null,
       "overflow_y": null,
       "padding": null,
       "right": null,
       "top": null,
       "visibility": null,
       "width": null
      }
     },
     "423e334ae3de4169b7a7d199095e923b": {
      "model_module": "@jupyter-widgets/base",
      "model_module_version": "1.2.0",
      "model_name": "LayoutModel",
      "state": {
       "_model_module": "@jupyter-widgets/base",
       "_model_module_version": "1.2.0",
       "_model_name": "LayoutModel",
       "_view_count": null,
       "_view_module": "@jupyter-widgets/base",
       "_view_module_version": "1.2.0",
       "_view_name": "LayoutView",
       "align_content": null,
       "align_items": null,
       "align_self": null,
       "border": null,
       "bottom": null,
       "display": null,
       "flex": null,
       "flex_flow": null,
       "grid_area": null,
       "grid_auto_columns": null,
       "grid_auto_flow": null,
       "grid_auto_rows": null,
       "grid_column": null,
       "grid_gap": null,
       "grid_row": null,
       "grid_template_areas": null,
       "grid_template_columns": null,
       "grid_template_rows": null,
       "height": null,
       "justify_content": null,
       "justify_items": null,
       "left": null,
       "margin": null,
       "max_height": null,
       "max_width": null,
       "min_height": null,
       "min_width": null,
       "object_fit": null,
       "object_position": null,
       "order": null,
       "overflow": null,
       "overflow_x": null,
       "overflow_y": null,
       "padding": null,
       "right": null,
       "top": null,
       "visibility": null,
       "width": null
      }
     },
     "42afde7f41f54f0789653b5401f10528": {
      "model_module": "@jupyter-widgets/controls",
      "model_module_version": "1.5.0",
      "model_name": "HTMLModel",
      "state": {
       "_dom_classes": [],
       "_model_module": "@jupyter-widgets/controls",
       "_model_module_version": "1.5.0",
       "_model_name": "HTMLModel",
       "_view_count": null,
       "_view_module": "@jupyter-widgets/controls",
       "_view_module_version": "1.5.0",
       "_view_name": "HTMLView",
       "description": "",
       "description_tooltip": null,
       "layout": "IPY_MODEL_179b3f101a34478f97efd569b9e20a94",
       "placeholder": "​",
       "style": "IPY_MODEL_762932f2c1344f06ba1a1f7ae6d715e1",
       "value": "Downloading (…)lve/main/config.json: 100%"
      }
     },
     "444541e230f6487f81e69c0b9c666338": {
      "model_module": "@jupyter-widgets/base",
      "model_module_version": "1.2.0",
      "model_name": "LayoutModel",
      "state": {
       "_model_module": "@jupyter-widgets/base",
       "_model_module_version": "1.2.0",
       "_model_name": "LayoutModel",
       "_view_count": null,
       "_view_module": "@jupyter-widgets/base",
       "_view_module_version": "1.2.0",
       "_view_name": "LayoutView",
       "align_content": null,
       "align_items": null,
       "align_self": null,
       "border": null,
       "bottom": null,
       "display": null,
       "flex": null,
       "flex_flow": null,
       "grid_area": null,
       "grid_auto_columns": null,
       "grid_auto_flow": null,
       "grid_auto_rows": null,
       "grid_column": null,
       "grid_gap": null,
       "grid_row": null,
       "grid_template_areas": null,
       "grid_template_columns": null,
       "grid_template_rows": null,
       "height": null,
       "justify_content": null,
       "justify_items": null,
       "left": null,
       "margin": null,
       "max_height": null,
       "max_width": null,
       "min_height": null,
       "min_width": null,
       "object_fit": null,
       "object_position": null,
       "order": null,
       "overflow": null,
       "overflow_x": null,
       "overflow_y": null,
       "padding": null,
       "right": null,
       "top": null,
       "visibility": null,
       "width": null
      }
     },
     "4501171bb2e1435eb3afb9fc2fb77269": {
      "model_module": "@jupyter-widgets/controls",
      "model_module_version": "1.5.0",
      "model_name": "HBoxModel",
      "state": {
       "_dom_classes": [],
       "_model_module": "@jupyter-widgets/controls",
       "_model_module_version": "1.5.0",
       "_model_name": "HBoxModel",
       "_view_count": null,
       "_view_module": "@jupyter-widgets/controls",
       "_view_module_version": "1.5.0",
       "_view_name": "HBoxView",
       "box_style": "",
       "children": [
        "IPY_MODEL_fb6bd3fba9e54602a546afd867fc1506",
        "IPY_MODEL_da96a325adaf4c9f895360d2e1a29a0a",
        "IPY_MODEL_f49ee5d9baf64793815c919f05d19351"
       ],
       "layout": "IPY_MODEL_444541e230f6487f81e69c0b9c666338"
      }
     },
     "588cf662393c43139a602dcf521d74c6": {
      "model_module": "@jupyter-widgets/controls",
      "model_module_version": "1.5.0",
      "model_name": "DescriptionStyleModel",
      "state": {
       "_model_module": "@jupyter-widgets/controls",
       "_model_module_version": "1.5.0",
       "_model_name": "DescriptionStyleModel",
       "_view_count": null,
       "_view_module": "@jupyter-widgets/base",
       "_view_module_version": "1.2.0",
       "_view_name": "StyleView",
       "description_width": ""
      }
     },
     "5903679c86b44c8cb0f206af369a31ad": {
      "model_module": "@jupyter-widgets/controls",
      "model_module_version": "1.5.0",
      "model_name": "HTMLModel",
      "state": {
       "_dom_classes": [],
       "_model_module": "@jupyter-widgets/controls",
       "_model_module_version": "1.5.0",
       "_model_name": "HTMLModel",
       "_view_count": null,
       "_view_module": "@jupyter-widgets/controls",
       "_view_module_version": "1.5.0",
       "_view_name": "HTMLView",
       "description": "",
       "description_tooltip": null,
       "layout": "IPY_MODEL_c0f8f7860f114d9383ae9037bfb3b0d8",
       "placeholder": "​",
       "style": "IPY_MODEL_9671cbbbe8e440b78933a187650cd4a3",
       "value": " 482/482 [00:00&lt;00:00, 40.9kB/s]"
      }
     },
     "5ee95e19a33642b696f252a61120605e": {
      "model_module": "@jupyter-widgets/base",
      "model_module_version": "1.2.0",
      "model_name": "LayoutModel",
      "state": {
       "_model_module": "@jupyter-widgets/base",
       "_model_module_version": "1.2.0",
       "_model_name": "LayoutModel",
       "_view_count": null,
       "_view_module": "@jupyter-widgets/base",
       "_view_module_version": "1.2.0",
       "_view_name": "LayoutView",
       "align_content": null,
       "align_items": null,
       "align_self": null,
       "border": null,
       "bottom": null,
       "display": null,
       "flex": null,
       "flex_flow": null,
       "grid_area": null,
       "grid_auto_columns": null,
       "grid_auto_flow": null,
       "grid_auto_rows": null,
       "grid_column": null,
       "grid_gap": null,
       "grid_row": null,
       "grid_template_areas": null,
       "grid_template_columns": null,
       "grid_template_rows": null,
       "height": null,
       "justify_content": null,
       "justify_items": null,
       "left": null,
       "margin": null,
       "max_height": null,
       "max_width": null,
       "min_height": null,
       "min_width": null,
       "object_fit": null,
       "object_position": null,
       "order": null,
       "overflow": null,
       "overflow_x": null,
       "overflow_y": null,
       "padding": null,
       "right": null,
       "top": null,
       "visibility": null,
       "width": null
      }
     },
     "65650449c48c4ab198fe6da9e0ab55cc": {
      "model_module": "@jupyter-widgets/controls",
      "model_module_version": "1.5.0",
      "model_name": "FloatProgressModel",
      "state": {
       "_dom_classes": [],
       "_model_module": "@jupyter-widgets/controls",
       "_model_module_version": "1.5.0",
       "_model_name": "FloatProgressModel",
       "_view_count": null,
       "_view_module": "@jupyter-widgets/controls",
       "_view_module_version": "1.5.0",
       "_view_name": "ProgressView",
       "bar_style": "success",
       "description": "",
       "description_tooltip": null,
       "layout": "IPY_MODEL_ea77229fec154b32890f394e8a6850cb",
       "max": 456318.0,
       "min": 0.0,
       "orientation": "horizontal",
       "style": "IPY_MODEL_fcb0dff5972a4394869859cfd11bb90f",
       "value": 456318.0
      }
     },
     "67ceaeecd7a747158a14774f27ca2b55": {
      "model_module": "@jupyter-widgets/base",
      "model_module_version": "1.2.0",
      "model_name": "LayoutModel",
      "state": {
       "_model_module": "@jupyter-widgets/base",
       "_model_module_version": "1.2.0",
       "_model_name": "LayoutModel",
       "_view_count": null,
       "_view_module": "@jupyter-widgets/base",
       "_view_module_version": "1.2.0",
       "_view_name": "LayoutView",
       "align_content": null,
       "align_items": null,
       "align_self": null,
       "border": null,
       "bottom": null,
       "display": null,
       "flex": null,
       "flex_flow": null,
       "grid_area": null,
       "grid_auto_columns": null,
       "grid_auto_flow": null,
       "grid_auto_rows": null,
       "grid_column": null,
       "grid_gap": null,
       "grid_row": null,
       "grid_template_areas": null,
       "grid_template_columns": null,
       "grid_template_rows": null,
       "height": null,
       "justify_content": null,
       "justify_items": null,
       "left": null,
       "margin": null,
       "max_height": null,
       "max_width": null,
       "min_height": null,
       "min_width": null,
       "object_fit": null,
       "object_position": null,
       "order": null,
       "overflow": null,
       "overflow_x": null,
       "overflow_y": null,
       "padding": null,
       "right": null,
       "top": null,
       "visibility": null,
       "width": null
      }
     },
     "6cba15774d0d4ea3a1ce0ae5f99a2c65": {
      "model_module": "@jupyter-widgets/controls",
      "model_module_version": "1.5.0",
      "model_name": "DescriptionStyleModel",
      "state": {
       "_model_module": "@jupyter-widgets/controls",
       "_model_module_version": "1.5.0",
       "_model_name": "DescriptionStyleModel",
       "_view_count": null,
       "_view_module": "@jupyter-widgets/base",
       "_view_module_version": "1.2.0",
       "_view_name": "StyleView",
       "description_width": ""
      }
     },
     "6d871b5546ab4c01943c30a8a4d2354f": {
      "model_module": "@jupyter-widgets/controls",
      "model_module_version": "1.5.0",
      "model_name": "HTMLModel",
      "state": {
       "_dom_classes": [],
       "_model_module": "@jupyter-widgets/controls",
       "_model_module_version": "1.5.0",
       "_model_name": "HTMLModel",
       "_view_count": null,
       "_view_module": "@jupyter-widgets/controls",
       "_view_module_version": "1.5.0",
       "_view_name": "HTMLView",
       "description": "",
       "description_tooltip": null,
       "layout": "IPY_MODEL_9a00ed6d504f499b89f30a29a836587e",
       "placeholder": "​",
       "style": "IPY_MODEL_0000019067ad4459862fd5b263ff5e7c",
       "value": " 456k/456k [00:00&lt;00:00, 1.80MB/s]"
      }
     },
     "6fc4bc881ced488bbdd220f8a9d54c6c": {
      "model_module": "@jupyter-widgets/controls",
      "model_module_version": "1.5.0",
      "model_name": "DescriptionStyleModel",
      "state": {
       "_model_module": "@jupyter-widgets/controls",
       "_model_module_version": "1.5.0",
       "_model_name": "DescriptionStyleModel",
       "_view_count": null,
       "_view_module": "@jupyter-widgets/base",
       "_view_module_version": "1.2.0",
       "_view_name": "StyleView",
       "description_width": ""
      }
     },
     "7206ae562b88487a9add8fa189bc67e8": {
      "model_module": "@jupyter-widgets/base",
      "model_module_version": "1.2.0",
      "model_name": "LayoutModel",
      "state": {
       "_model_module": "@jupyter-widgets/base",
       "_model_module_version": "1.2.0",
       "_model_name": "LayoutModel",
       "_view_count": null,
       "_view_module": "@jupyter-widgets/base",
       "_view_module_version": "1.2.0",
       "_view_name": "LayoutView",
       "align_content": null,
       "align_items": null,
       "align_self": null,
       "border": null,
       "bottom": null,
       "display": null,
       "flex": null,
       "flex_flow": null,
       "grid_area": null,
       "grid_auto_columns": null,
       "grid_auto_flow": null,
       "grid_auto_rows": null,
       "grid_column": null,
       "grid_gap": null,
       "grid_row": null,
       "grid_template_areas": null,
       "grid_template_columns": null,
       "grid_template_rows": null,
       "height": null,
       "justify_content": null,
       "justify_items": null,
       "left": null,
       "margin": null,
       "max_height": null,
       "max_width": null,
       "min_height": null,
       "min_width": null,
       "object_fit": null,
       "object_position": null,
       "order": null,
       "overflow": null,
       "overflow_x": null,
       "overflow_y": null,
       "padding": null,
       "right": null,
       "top": null,
       "visibility": null,
       "width": null
      }
     },
     "75936d1c553f402aa4652dee39cef0bf": {
      "model_module": "@jupyter-widgets/base",
      "model_module_version": "1.2.0",
      "model_name": "LayoutModel",
      "state": {
       "_model_module": "@jupyter-widgets/base",
       "_model_module_version": "1.2.0",
       "_model_name": "LayoutModel",
       "_view_count": null,
       "_view_module": "@jupyter-widgets/base",
       "_view_module_version": "1.2.0",
       "_view_name": "LayoutView",
       "align_content": null,
       "align_items": null,
       "align_self": null,
       "border": null,
       "bottom": null,
       "display": null,
       "flex": null,
       "flex_flow": null,
       "grid_area": null,
       "grid_auto_columns": null,
       "grid_auto_flow": null,
       "grid_auto_rows": null,
       "grid_column": null,
       "grid_gap": null,
       "grid_row": null,
       "grid_template_areas": null,
       "grid_template_columns": null,
       "grid_template_rows": null,
       "height": null,
       "justify_content": null,
       "justify_items": null,
       "left": null,
       "margin": null,
       "max_height": null,
       "max_width": null,
       "min_height": null,
       "min_width": null,
       "object_fit": null,
       "object_position": null,
       "order": null,
       "overflow": null,
       "overflow_x": null,
       "overflow_y": null,
       "padding": null,
       "right": null,
       "top": null,
       "visibility": null,
       "width": null
      }
     },
     "762932f2c1344f06ba1a1f7ae6d715e1": {
      "model_module": "@jupyter-widgets/controls",
      "model_module_version": "1.5.0",
      "model_name": "DescriptionStyleModel",
      "state": {
       "_model_module": "@jupyter-widgets/controls",
       "_model_module_version": "1.5.0",
       "_model_name": "DescriptionStyleModel",
       "_view_count": null,
       "_view_module": "@jupyter-widgets/base",
       "_view_module_version": "1.2.0",
       "_view_name": "StyleView",
       "description_width": ""
      }
     },
     "7c508370253947c29e003ffc8b0a55bd": {
      "model_module": "@jupyter-widgets/controls",
      "model_module_version": "1.5.0",
      "model_name": "FloatProgressModel",
      "state": {
       "_dom_classes": [],
       "_model_module": "@jupyter-widgets/controls",
       "_model_module_version": "1.5.0",
       "_model_name": "FloatProgressModel",
       "_view_count": null,
       "_view_module": "@jupyter-widgets/controls",
       "_view_module_version": "1.5.0",
       "_view_name": "ProgressView",
       "bar_style": "success",
       "description": "",
       "description_tooltip": null,
       "layout": "IPY_MODEL_b0f9b734faf146bb8b41fb318b11d980",
       "max": 898823.0,
       "min": 0.0,
       "orientation": "horizontal",
       "style": "IPY_MODEL_9516a067561d445a8d7ac3a3fe7cc1d7",
       "value": 898823.0
      }
     },
     "7f5ed3e1e7034432a6843ef20ee0512f": {
      "model_module": "@jupyter-widgets/controls",
      "model_module_version": "1.5.0",
      "model_name": "DescriptionStyleModel",
      "state": {
       "_model_module": "@jupyter-widgets/controls",
       "_model_module_version": "1.5.0",
       "_model_name": "DescriptionStyleModel",
       "_view_count": null,
       "_view_module": "@jupyter-widgets/base",
       "_view_module_version": "1.2.0",
       "_view_name": "StyleView",
       "description_width": ""
      }
     },
     "7f9f3769ba96467ebd9985cc66949980": {
      "model_module": "@jupyter-widgets/base",
      "model_module_version": "1.2.0",
      "model_name": "LayoutModel",
      "state": {
       "_model_module": "@jupyter-widgets/base",
       "_model_module_version": "1.2.0",
       "_model_name": "LayoutModel",
       "_view_count": null,
       "_view_module": "@jupyter-widgets/base",
       "_view_module_version": "1.2.0",
       "_view_name": "LayoutView",
       "align_content": null,
       "align_items": null,
       "align_self": null,
       "border": null,
       "bottom": null,
       "display": null,
       "flex": null,
       "flex_flow": null,
       "grid_area": null,
       "grid_auto_columns": null,
       "grid_auto_flow": null,
       "grid_auto_rows": null,
       "grid_column": null,
       "grid_gap": null,
       "grid_row": null,
       "grid_template_areas": null,
       "grid_template_columns": null,
       "grid_template_rows": null,
       "height": null,
       "justify_content": null,
       "justify_items": null,
       "left": null,
       "margin": null,
       "max_height": null,
       "max_width": null,
       "min_height": null,
       "min_width": null,
       "object_fit": null,
       "object_position": null,
       "order": null,
       "overflow": null,
       "overflow_x": null,
       "overflow_y": null,
       "padding": null,
       "right": null,
       "top": null,
       "visibility": null,
       "width": null
      }
     },
     "872b61c419f84d9088cddd8327932ab2": {
      "model_module": "@jupyter-widgets/controls",
      "model_module_version": "1.5.0",
      "model_name": "HBoxModel",
      "state": {
       "_dom_classes": [],
       "_model_module": "@jupyter-widgets/controls",
       "_model_module_version": "1.5.0",
       "_model_name": "HBoxModel",
       "_view_count": null,
       "_view_module": "@jupyter-widgets/controls",
       "_view_module_version": "1.5.0",
       "_view_name": "HBoxView",
       "box_style": "",
       "children": [
        "IPY_MODEL_c20861ec44194f3e94809b51aa862097",
        "IPY_MODEL_65650449c48c4ab198fe6da9e0ab55cc",
        "IPY_MODEL_6d871b5546ab4c01943c30a8a4d2354f"
       ],
       "layout": "IPY_MODEL_423e334ae3de4169b7a7d199095e923b"
      }
     },
     "8771dd7016c849de8ef2c1a504ff9ead": {
      "model_module": "@jupyter-widgets/base",
      "model_module_version": "1.2.0",
      "model_name": "LayoutModel",
      "state": {
       "_model_module": "@jupyter-widgets/base",
       "_model_module_version": "1.2.0",
       "_model_name": "LayoutModel",
       "_view_count": null,
       "_view_module": "@jupyter-widgets/base",
       "_view_module_version": "1.2.0",
       "_view_name": "LayoutView",
       "align_content": null,
       "align_items": null,
       "align_self": null,
       "border": null,
       "bottom": null,
       "display": null,
       "flex": null,
       "flex_flow": null,
       "grid_area": null,
       "grid_auto_columns": null,
       "grid_auto_flow": null,
       "grid_auto_rows": null,
       "grid_column": null,
       "grid_gap": null,
       "grid_row": null,
       "grid_template_areas": null,
       "grid_template_columns": null,
       "grid_template_rows": null,
       "height": null,
       "justify_content": null,
       "justify_items": null,
       "left": null,
       "margin": null,
       "max_height": null,
       "max_width": null,
       "min_height": null,
       "min_width": null,
       "object_fit": null,
       "object_position": null,
       "order": null,
       "overflow": null,
       "overflow_x": null,
       "overflow_y": null,
       "padding": null,
       "right": null,
       "top": null,
       "visibility": null,
       "width": null
      }
     },
     "89f1986ea5ec4cb7a7c79297baa077c2": {
      "model_module": "@jupyter-widgets/base",
      "model_module_version": "1.2.0",
      "model_name": "LayoutModel",
      "state": {
       "_model_module": "@jupyter-widgets/base",
       "_model_module_version": "1.2.0",
       "_model_name": "LayoutModel",
       "_view_count": null,
       "_view_module": "@jupyter-widgets/base",
       "_view_module_version": "1.2.0",
       "_view_name": "LayoutView",
       "align_content": null,
       "align_items": null,
       "align_self": null,
       "border": null,
       "bottom": null,
       "display": null,
       "flex": null,
       "flex_flow": null,
       "grid_area": null,
       "grid_auto_columns": null,
       "grid_auto_flow": null,
       "grid_auto_rows": null,
       "grid_column": null,
       "grid_gap": null,
       "grid_row": null,
       "grid_template_areas": null,
       "grid_template_columns": null,
       "grid_template_rows": null,
       "height": null,
       "justify_content": null,
       "justify_items": null,
       "left": null,
       "margin": null,
       "max_height": null,
       "max_width": null,
       "min_height": null,
       "min_width": null,
       "object_fit": null,
       "object_position": null,
       "order": null,
       "overflow": null,
       "overflow_x": null,
       "overflow_y": null,
       "padding": null,
       "right": null,
       "top": null,
       "visibility": null,
       "width": null
      }
     },
     "9516a067561d445a8d7ac3a3fe7cc1d7": {
      "model_module": "@jupyter-widgets/controls",
      "model_module_version": "1.5.0",
      "model_name": "ProgressStyleModel",
      "state": {
       "_model_module": "@jupyter-widgets/controls",
       "_model_module_version": "1.5.0",
       "_model_name": "ProgressStyleModel",
       "_view_count": null,
       "_view_module": "@jupyter-widgets/base",
       "_view_module_version": "1.2.0",
       "_view_name": "StyleView",
       "bar_color": null,
       "description_width": ""
      }
     },
     "9671cbbbe8e440b78933a187650cd4a3": {
      "model_module": "@jupyter-widgets/controls",
      "model_module_version": "1.5.0",
      "model_name": "DescriptionStyleModel",
      "state": {
       "_model_module": "@jupyter-widgets/controls",
       "_model_module_version": "1.5.0",
       "_model_name": "DescriptionStyleModel",
       "_view_count": null,
       "_view_module": "@jupyter-widgets/base",
       "_view_module_version": "1.2.0",
       "_view_name": "StyleView",
       "description_width": ""
      }
     },
     "981eed5b3760458b8f49015e7addc267": {
      "model_module": "@jupyter-widgets/controls",
      "model_module_version": "1.5.0",
      "model_name": "HBoxModel",
      "state": {
       "_dom_classes": [],
       "_model_module": "@jupyter-widgets/controls",
       "_model_module_version": "1.5.0",
       "_model_name": "HBoxModel",
       "_view_count": null,
       "_view_module": "@jupyter-widgets/controls",
       "_view_module_version": "1.5.0",
       "_view_name": "HBoxView",
       "box_style": "",
       "children": [
        "IPY_MODEL_42afde7f41f54f0789653b5401f10528",
        "IPY_MODEL_99efcb1252ca4d8fb5c71b9cb147a550",
        "IPY_MODEL_5903679c86b44c8cb0f206af369a31ad"
       ],
       "layout": "IPY_MODEL_b56a6566dd494772b8a516560c6259dc"
      }
     },
     "99efcb1252ca4d8fb5c71b9cb147a550": {
      "model_module": "@jupyter-widgets/controls",
      "model_module_version": "1.5.0",
      "model_name": "FloatProgressModel",
      "state": {
       "_dom_classes": [],
       "_model_module": "@jupyter-widgets/controls",
       "_model_module_version": "1.5.0",
       "_model_name": "FloatProgressModel",
       "_view_count": null,
       "_view_module": "@jupyter-widgets/controls",
       "_view_module_version": "1.5.0",
       "_view_name": "ProgressView",
       "bar_style": "success",
       "description": "",
       "description_tooltip": null,
       "layout": "IPY_MODEL_5ee95e19a33642b696f252a61120605e",
       "max": 482.0,
       "min": 0.0,
       "orientation": "horizontal",
       "style": "IPY_MODEL_e1103bd06b0043999d9a443e7240f07a",
       "value": 482.0
      }
     },
     "9a00ed6d504f499b89f30a29a836587e": {
      "model_module": "@jupyter-widgets/base",
      "model_module_version": "1.2.0",
      "model_name": "LayoutModel",
      "state": {
       "_model_module": "@jupyter-widgets/base",
       "_model_module_version": "1.2.0",
       "_model_name": "LayoutModel",
       "_view_count": null,
       "_view_module": "@jupyter-widgets/base",
       "_view_module_version": "1.2.0",
       "_view_name": "LayoutView",
       "align_content": null,
       "align_items": null,
       "align_self": null,
       "border": null,
       "bottom": null,
       "display": null,
       "flex": null,
       "flex_flow": null,
       "grid_area": null,
       "grid_auto_columns": null,
       "grid_auto_flow": null,
       "grid_auto_rows": null,
       "grid_column": null,
       "grid_gap": null,
       "grid_row": null,
       "grid_template_areas": null,
       "grid_template_columns": null,
       "grid_template_rows": null,
       "height": null,
       "justify_content": null,
       "justify_items": null,
       "left": null,
       "margin": null,
       "max_height": null,
       "max_width": null,
       "min_height": null,
       "min_width": null,
       "object_fit": null,
       "object_position": null,
       "order": null,
       "overflow": null,
       "overflow_x": null,
       "overflow_y": null,
       "padding": null,
       "right": null,
       "top": null,
       "visibility": null,
       "width": null
      }
     },
     "a9fed6886f774983983bfc34cffb1fed": {
      "model_module": "@jupyter-widgets/base",
      "model_module_version": "1.2.0",
      "model_name": "LayoutModel",
      "state": {
       "_model_module": "@jupyter-widgets/base",
       "_model_module_version": "1.2.0",
       "_model_name": "LayoutModel",
       "_view_count": null,
       "_view_module": "@jupyter-widgets/base",
       "_view_module_version": "1.2.0",
       "_view_name": "LayoutView",
       "align_content": null,
       "align_items": null,
       "align_self": null,
       "border": null,
       "bottom": null,
       "display": null,
       "flex": null,
       "flex_flow": null,
       "grid_area": null,
       "grid_auto_columns": null,
       "grid_auto_flow": null,
       "grid_auto_rows": null,
       "grid_column": null,
       "grid_gap": null,
       "grid_row": null,
       "grid_template_areas": null,
       "grid_template_columns": null,
       "grid_template_rows": null,
       "height": null,
       "justify_content": null,
       "justify_items": null,
       "left": null,
       "margin": null,
       "max_height": null,
       "max_width": null,
       "min_height": null,
       "min_width": null,
       "object_fit": null,
       "object_position": null,
       "order": null,
       "overflow": null,
       "overflow_x": null,
       "overflow_y": null,
       "padding": null,
       "right": null,
       "top": null,
       "visibility": null,
       "width": null
      }
     },
     "aea2fa90d01749b2944f039c377d437e": {
      "model_module": "@jupyter-widgets/base",
      "model_module_version": "1.2.0",
      "model_name": "LayoutModel",
      "state": {
       "_model_module": "@jupyter-widgets/base",
       "_model_module_version": "1.2.0",
       "_model_name": "LayoutModel",
       "_view_count": null,
       "_view_module": "@jupyter-widgets/base",
       "_view_module_version": "1.2.0",
       "_view_name": "LayoutView",
       "align_content": null,
       "align_items": null,
       "align_self": null,
       "border": null,
       "bottom": null,
       "display": null,
       "flex": null,
       "flex_flow": null,
       "grid_area": null,
       "grid_auto_columns": null,
       "grid_auto_flow": null,
       "grid_auto_rows": null,
       "grid_column": null,
       "grid_gap": null,
       "grid_row": null,
       "grid_template_areas": null,
       "grid_template_columns": null,
       "grid_template_rows": null,
       "height": null,
       "justify_content": null,
       "justify_items": null,
       "left": null,
       "margin": null,
       "max_height": null,
       "max_width": null,
       "min_height": null,
       "min_width": null,
       "object_fit": null,
       "object_position": null,
       "order": null,
       "overflow": null,
       "overflow_x": null,
       "overflow_y": null,
       "padding": null,
       "right": null,
       "top": null,
       "visibility": null,
       "width": null
      }
     },
     "b0f9b734faf146bb8b41fb318b11d980": {
      "model_module": "@jupyter-widgets/base",
      "model_module_version": "1.2.0",
      "model_name": "LayoutModel",
      "state": {
       "_model_module": "@jupyter-widgets/base",
       "_model_module_version": "1.2.0",
       "_model_name": "LayoutModel",
       "_view_count": null,
       "_view_module": "@jupyter-widgets/base",
       "_view_module_version": "1.2.0",
       "_view_name": "LayoutView",
       "align_content": null,
       "align_items": null,
       "align_self": null,
       "border": null,
       "bottom": null,
       "display": null,
       "flex": null,
       "flex_flow": null,
       "grid_area": null,
       "grid_auto_columns": null,
       "grid_auto_flow": null,
       "grid_auto_rows": null,
       "grid_column": null,
       "grid_gap": null,
       "grid_row": null,
       "grid_template_areas": null,
       "grid_template_columns": null,
       "grid_template_rows": null,
       "height": null,
       "justify_content": null,
       "justify_items": null,
       "left": null,
       "margin": null,
       "max_height": null,
       "max_width": null,
       "min_height": null,
       "min_width": null,
       "object_fit": null,
       "object_position": null,
       "order": null,
       "overflow": null,
       "overflow_x": null,
       "overflow_y": null,
       "padding": null,
       "right": null,
       "top": null,
       "visibility": null,
       "width": null
      }
     },
     "b56a6566dd494772b8a516560c6259dc": {
      "model_module": "@jupyter-widgets/base",
      "model_module_version": "1.2.0",
      "model_name": "LayoutModel",
      "state": {
       "_model_module": "@jupyter-widgets/base",
       "_model_module_version": "1.2.0",
       "_model_name": "LayoutModel",
       "_view_count": null,
       "_view_module": "@jupyter-widgets/base",
       "_view_module_version": "1.2.0",
       "_view_name": "LayoutView",
       "align_content": null,
       "align_items": null,
       "align_self": null,
       "border": null,
       "bottom": null,
       "display": null,
       "flex": null,
       "flex_flow": null,
       "grid_area": null,
       "grid_auto_columns": null,
       "grid_auto_flow": null,
       "grid_auto_rows": null,
       "grid_column": null,
       "grid_gap": null,
       "grid_row": null,
       "grid_template_areas": null,
       "grid_template_columns": null,
       "grid_template_rows": null,
       "height": null,
       "justify_content": null,
       "justify_items": null,
       "left": null,
       "margin": null,
       "max_height": null,
       "max_width": null,
       "min_height": null,
       "min_width": null,
       "object_fit": null,
       "object_position": null,
       "order": null,
       "overflow": null,
       "overflow_x": null,
       "overflow_y": null,
       "padding": null,
       "right": null,
       "top": null,
       "visibility": null,
       "width": null
      }
     },
     "c0f8f7860f114d9383ae9037bfb3b0d8": {
      "model_module": "@jupyter-widgets/base",
      "model_module_version": "1.2.0",
      "model_name": "LayoutModel",
      "state": {
       "_model_module": "@jupyter-widgets/base",
       "_model_module_version": "1.2.0",
       "_model_name": "LayoutModel",
       "_view_count": null,
       "_view_module": "@jupyter-widgets/base",
       "_view_module_version": "1.2.0",
       "_view_name": "LayoutView",
       "align_content": null,
       "align_items": null,
       "align_self": null,
       "border": null,
       "bottom": null,
       "display": null,
       "flex": null,
       "flex_flow": null,
       "grid_area": null,
       "grid_auto_columns": null,
       "grid_auto_flow": null,
       "grid_auto_rows": null,
       "grid_column": null,
       "grid_gap": null,
       "grid_row": null,
       "grid_template_areas": null,
       "grid_template_columns": null,
       "grid_template_rows": null,
       "height": null,
       "justify_content": null,
       "justify_items": null,
       "left": null,
       "margin": null,
       "max_height": null,
       "max_width": null,
       "min_height": null,
       "min_width": null,
       "object_fit": null,
       "object_position": null,
       "order": null,
       "overflow": null,
       "overflow_x": null,
       "overflow_y": null,
       "padding": null,
       "right": null,
       "top": null,
       "visibility": null,
       "width": null
      }
     },
     "c20861ec44194f3e94809b51aa862097": {
      "model_module": "@jupyter-widgets/controls",
      "model_module_version": "1.5.0",
      "model_name": "HTMLModel",
      "state": {
       "_dom_classes": [],
       "_model_module": "@jupyter-widgets/controls",
       "_model_module_version": "1.5.0",
       "_model_name": "HTMLModel",
       "_view_count": null,
       "_view_module": "@jupyter-widgets/controls",
       "_view_module_version": "1.5.0",
       "_view_name": "HTMLView",
       "description": "",
       "description_tooltip": null,
       "layout": "IPY_MODEL_f7f0f5fd8f4b40baa6584f7ea149e1ff",
       "placeholder": "​",
       "style": "IPY_MODEL_12d522cd230344448c6400f871cad219",
       "value": "Downloading (…)olve/main/merges.txt: 100%"
      }
     },
     "da96a325adaf4c9f895360d2e1a29a0a": {
      "model_module": "@jupyter-widgets/controls",
      "model_module_version": "1.5.0",
      "model_name": "FloatProgressModel",
      "state": {
       "_dom_classes": [],
       "_model_module": "@jupyter-widgets/controls",
       "_model_module_version": "1.5.0",
       "_model_name": "FloatProgressModel",
       "_view_count": null,
       "_view_module": "@jupyter-widgets/controls",
       "_view_module_version": "1.5.0",
       "_view_name": "ProgressView",
       "bar_style": "success",
       "description": "",
       "description_tooltip": null,
       "layout": "IPY_MODEL_7f9f3769ba96467ebd9985cc66949980",
       "max": 1421700479.0,
       "min": 0.0,
       "orientation": "horizontal",
       "style": "IPY_MODEL_02a9baf41596442ea9ec28b1421e812c",
       "value": 1421700479.0
      }
     },
     "e1103bd06b0043999d9a443e7240f07a": {
      "model_module": "@jupyter-widgets/controls",
      "model_module_version": "1.5.0",
      "model_name": "ProgressStyleModel",
      "state": {
       "_model_module": "@jupyter-widgets/controls",
       "_model_module_version": "1.5.0",
       "_model_name": "ProgressStyleModel",
       "_view_count": null,
       "_view_module": "@jupyter-widgets/base",
       "_view_module_version": "1.2.0",
       "_view_name": "StyleView",
       "bar_color": null,
       "description_width": ""
      }
     },
     "ea7342cad22b4b82b38f1aa164b8a075": {
      "model_module": "@jupyter-widgets/controls",
      "model_module_version": "1.5.0",
      "model_name": "FloatProgressModel",
      "state": {
       "_dom_classes": [],
       "_model_module": "@jupyter-widgets/controls",
       "_model_module_version": "1.5.0",
       "_model_name": "FloatProgressModel",
       "_view_count": null,
       "_view_module": "@jupyter-widgets/controls",
       "_view_module_version": "1.5.0",
       "_view_name": "ProgressView",
       "bar_style": "success",
       "description": "",
       "description_tooltip": null,
       "layout": "IPY_MODEL_8771dd7016c849de8ef2c1a504ff9ead",
       "max": 1355863.0,
       "min": 0.0,
       "orientation": "horizontal",
       "style": "IPY_MODEL_ffeb48ca1b504790981110ecd8adda82",
       "value": 1355863.0
      }
     },
     "ea77229fec154b32890f394e8a6850cb": {
      "model_module": "@jupyter-widgets/base",
      "model_module_version": "1.2.0",
      "model_name": "LayoutModel",
      "state": {
       "_model_module": "@jupyter-widgets/base",
       "_model_module_version": "1.2.0",
       "_model_name": "LayoutModel",
       "_view_count": null,
       "_view_module": "@jupyter-widgets/base",
       "_view_module_version": "1.2.0",
       "_view_name": "LayoutView",
       "align_content": null,
       "align_items": null,
       "align_self": null,
       "border": null,
       "bottom": null,
       "display": null,
       "flex": null,
       "flex_flow": null,
       "grid_area": null,
       "grid_auto_columns": null,
       "grid_auto_flow": null,
       "grid_auto_rows": null,
       "grid_column": null,
       "grid_gap": null,
       "grid_row": null,
       "grid_template_areas": null,
       "grid_template_columns": null,
       "grid_template_rows": null,
       "height": null,
       "justify_content": null,
       "justify_items": null,
       "left": null,
       "margin": null,
       "max_height": null,
       "max_width": null,
       "min_height": null,
       "min_width": null,
       "object_fit": null,
       "object_position": null,
       "order": null,
       "overflow": null,
       "overflow_x": null,
       "overflow_y": null,
       "padding": null,
       "right": null,
       "top": null,
       "visibility": null,
       "width": null
      }
     },
     "eda453d195cc4b39ba798b2fe6e19ae3": {
      "model_module": "@jupyter-widgets/controls",
      "model_module_version": "1.5.0",
      "model_name": "HTMLModel",
      "state": {
       "_dom_classes": [],
       "_model_module": "@jupyter-widgets/controls",
       "_model_module_version": "1.5.0",
       "_model_name": "HTMLModel",
       "_view_count": null,
       "_view_module": "@jupyter-widgets/controls",
       "_view_module_version": "1.5.0",
       "_view_name": "HTMLView",
       "description": "",
       "description_tooltip": null,
       "layout": "IPY_MODEL_aea2fa90d01749b2944f039c377d437e",
       "placeholder": "​",
       "style": "IPY_MODEL_7f5ed3e1e7034432a6843ef20ee0512f",
       "value": " 899k/899k [00:00&lt;00:00, 5.40MB/s]"
      }
     },
     "ee185c9d8d494ff9aeb18b23fbef02ac": {
      "model_module": "@jupyter-widgets/controls",
      "model_module_version": "1.5.0",
      "model_name": "HTMLModel",
      "state": {
       "_dom_classes": [],
       "_model_module": "@jupyter-widgets/controls",
       "_model_module_version": "1.5.0",
       "_model_name": "HTMLModel",
       "_view_count": null,
       "_view_module": "@jupyter-widgets/controls",
       "_view_module_version": "1.5.0",
       "_view_name": "HTMLView",
       "description": "",
       "description_tooltip": null,
       "layout": "IPY_MODEL_89f1986ea5ec4cb7a7c79297baa077c2",
       "placeholder": "​",
       "style": "IPY_MODEL_6cba15774d0d4ea3a1ce0ae5f99a2c65",
       "value": "Downloading (…)olve/main/vocab.json: 100%"
      }
     },
     "f49ee5d9baf64793815c919f05d19351": {
      "model_module": "@jupyter-widgets/controls",
      "model_module_version": "1.5.0",
      "model_name": "HTMLModel",
      "state": {
       "_dom_classes": [],
       "_model_module": "@jupyter-widgets/controls",
       "_model_module_version": "1.5.0",
       "_model_name": "HTMLModel",
       "_view_count": null,
       "_view_module": "@jupyter-widgets/controls",
       "_view_module_version": "1.5.0",
       "_view_name": "HTMLView",
       "description": "",
       "description_tooltip": null,
       "layout": "IPY_MODEL_75936d1c553f402aa4652dee39cef0bf",
       "placeholder": "​",
       "style": "IPY_MODEL_588cf662393c43139a602dcf521d74c6",
       "value": " 1.42G/1.42G [00:03&lt;00:00, 396MB/s]"
      }
     },
     "f786ce8a5319457886d8c57959b0cd36": {
      "model_module": "@jupyter-widgets/controls",
      "model_module_version": "1.5.0",
      "model_name": "DescriptionStyleModel",
      "state": {
       "_model_module": "@jupyter-widgets/controls",
       "_model_module_version": "1.5.0",
       "_model_name": "DescriptionStyleModel",
       "_view_count": null,
       "_view_module": "@jupyter-widgets/base",
       "_view_module_version": "1.2.0",
       "_view_name": "StyleView",
       "description_width": ""
      }
     },
     "f7f0f5fd8f4b40baa6584f7ea149e1ff": {
      "model_module": "@jupyter-widgets/base",
      "model_module_version": "1.2.0",
      "model_name": "LayoutModel",
      "state": {
       "_model_module": "@jupyter-widgets/base",
       "_model_module_version": "1.2.0",
       "_model_name": "LayoutModel",
       "_view_count": null,
       "_view_module": "@jupyter-widgets/base",
       "_view_module_version": "1.2.0",
       "_view_name": "LayoutView",
       "align_content": null,
       "align_items": null,
       "align_self": null,
       "border": null,
       "bottom": null,
       "display": null,
       "flex": null,
       "flex_flow": null,
       "grid_area": null,
       "grid_auto_columns": null,
       "grid_auto_flow": null,
       "grid_auto_rows": null,
       "grid_column": null,
       "grid_gap": null,
       "grid_row": null,
       "grid_template_areas": null,
       "grid_template_columns": null,
       "grid_template_rows": null,
       "height": null,
       "justify_content": null,
       "justify_items": null,
       "left": null,
       "margin": null,
       "max_height": null,
       "max_width": null,
       "min_height": null,
       "min_width": null,
       "object_fit": null,
       "object_position": null,
       "order": null,
       "overflow": null,
       "overflow_x": null,
       "overflow_y": null,
       "padding": null,
       "right": null,
       "top": null,
       "visibility": null,
       "width": null
      }
     },
     "fb6bd3fba9e54602a546afd867fc1506": {
      "model_module": "@jupyter-widgets/controls",
      "model_module_version": "1.5.0",
      "model_name": "HTMLModel",
      "state": {
       "_dom_classes": [],
       "_model_module": "@jupyter-widgets/controls",
       "_model_module_version": "1.5.0",
       "_model_name": "HTMLModel",
       "_view_count": null,
       "_view_module": "@jupyter-widgets/controls",
       "_view_module_version": "1.5.0",
       "_view_name": "HTMLView",
       "description": "",
       "description_tooltip": null,
       "layout": "IPY_MODEL_37cb3fd45e704a9ab8d975b95590e395",
       "placeholder": "​",
       "style": "IPY_MODEL_0c43a74dceae4982a58b965a91336808",
       "value": "Downloading model.safetensors: 100%"
      }
     },
     "fcb0dff5972a4394869859cfd11bb90f": {
      "model_module": "@jupyter-widgets/controls",
      "model_module_version": "1.5.0",
      "model_name": "ProgressStyleModel",
      "state": {
       "_model_module": "@jupyter-widgets/controls",
       "_model_module_version": "1.5.0",
       "_model_name": "ProgressStyleModel",
       "_view_count": null,
       "_view_module": "@jupyter-widgets/base",
       "_view_module_version": "1.2.0",
       "_view_name": "StyleView",
       "bar_color": null,
       "description_width": ""
      }
     },
     "ffeb48ca1b504790981110ecd8adda82": {
      "model_module": "@jupyter-widgets/controls",
      "model_module_version": "1.5.0",
      "model_name": "ProgressStyleModel",
      "state": {
       "_model_module": "@jupyter-widgets/controls",
       "_model_module_version": "1.5.0",
       "_model_name": "ProgressStyleModel",
       "_view_count": null,
       "_view_module": "@jupyter-widgets/base",
       "_view_module_version": "1.2.0",
       "_view_name": "StyleView",
       "bar_color": null,
       "description_width": ""
      }
     }
    },
    "version_major": 2,
    "version_minor": 0
   }
  }
 },
 "nbformat": 4,
 "nbformat_minor": 5
}
